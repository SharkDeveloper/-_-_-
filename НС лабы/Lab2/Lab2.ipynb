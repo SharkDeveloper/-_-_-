{
 "cells": [
  {
   "cell_type": "code",
   "execution_count": 1,
   "id": "initial_id",
   "metadata": {
    "collapsed": true,
    "ExecuteTime": {
     "end_time": "2024-05-23T15:51:21.264720300Z",
     "start_time": "2024-05-23T15:51:21.259196800Z"
    }
   },
   "outputs": [],
   "source": [
    "import random\n",
    "import math"
   ]
  },
  {
   "cell_type": "markdown",
   "source": [
    "Формирование датасета"
   ],
   "metadata": {
    "collapsed": false
   },
   "id": "c6753c7adbd5050b"
  },
  {
   "cell_type": "markdown",
   "source": [],
   "metadata": {
    "collapsed": false
   },
   "id": "5f6cc68a93bf197c"
  },
  {
   "cell_type": "code",
   "outputs": [],
   "source": [
    "dataset = list()\n",
    "\n",
    "actions = ['+','-', \"/\", \"*\"]\n",
    "\n",
    "\n",
    "for i in range(1000):\n",
    "  temp = list()\n",
    "  temp.append(random.randint(-100, 100) * 0.01)\n",
    "  temp.append(random.randint(-100, 100) * 0.01)\n",
    "  temp.append(random.randint(0, 3))\n",
    "  if temp[2] == 1:\n",
    "    if temp[0] - temp[1] < 0:\n",
    "      temp.append(0)\n",
    "    elif temp[0] - temp[1] == 0:\n",
    "      temp.append(1)\n",
    "    else:\n",
    "      temp.append(2)\n",
    "  elif temp[2] == 0:\n",
    "    if temp[0] + temp[1] < 0:\n",
    "      temp.append(0)\n",
    "    elif temp[0] + temp[1] == 0:\n",
    "      temp.append(1)\n",
    "    else:\n",
    "      temp.append(2)\n",
    "  elif temp[2] == 2:\n",
    "    if temp[1] == 0:\n",
    "      temp.append(3)\n",
    "    elif temp[0] / temp[1] < 0:\n",
    "      temp.append(0)\n",
    "    elif temp[0] / temp[1] == 0:\n",
    "      temp.append(1)\n",
    "    else:\n",
    "      temp.append(2)\n",
    "  elif temp[2] == 3:\n",
    "    if temp[0] * temp[1] < 0:\n",
    "      temp.append(0)\n",
    "    elif temp[0] * temp[1] > 0:\n",
    "      temp.append(2)\n",
    "    else:\n",
    "      temp.append(1)\n",
    "\n",
    "  dataset.append(temp)"
   ],
   "metadata": {
    "collapsed": false,
    "ExecuteTime": {
     "end_time": "2024-05-23T15:51:21.285999600Z",
     "start_time": "2024-05-23T15:51:21.273938800Z"
    }
   },
   "id": "a4d93df9b4b7e8a5",
   "execution_count": 2
  },
  {
   "cell_type": "markdown",
   "source": [
    "Представление перцептрона "
   ],
   "metadata": {
    "collapsed": false
   },
   "id": "7086f011fabaaee4"
  },
  {
   "cell_type": "code",
   "outputs": [],
   "source": [
    "class Perceptron():\n",
    "  def __init__(self, training_dataset, test_dataset):\n",
    "    self.training_dataset = training_dataset\n",
    "    self.test_dataset = test_dataset\n",
    "    self.train()\n",
    "\n",
    "  def sigmoid(self,x):\n",
    "    sig = (1 / (1 + math.exp(-x)))\n",
    "    return sig\n",
    "\n",
    "  def multiclass_logistic_regression(self,weights, inputs):\n",
    "    scores = []\n",
    "    for i in range(4):  # Четыре класса\n",
    "      z = weights[i][0]  # Смещение (bias) для i-го класса\n",
    "      for j in range(len(weights[i]) - 1):\n",
    "\n",
    "        z += weights[i][j + 1] * inputs[j]\n",
    "      scores.append(self.sigmoid(z))\n",
    "    return scores\n",
    "\n",
    "  def update_weights(self,weights, inputs, target, learning_rate):\n",
    "    new_weights = []\n",
    "    scores = self.multiclass_logistic_regression(weights, inputs)\n",
    "    for i in range(4):  # Четыре класса\n",
    "      error = 1 if i == target else 0  # Целевой класс\n",
    "      error -= scores[i]  # Градиент\n",
    "\n",
    "      new_weights.append([weights[i][0] + learning_rate * error])\n",
    "      for j in range(len(weights[i]) - 1):\n",
    "        new_weights[i].append(weights[i][j + 1] + learning_rate * error * inputs[j])\n",
    "    return new_weights\n",
    "\n",
    "  def train(self):\n",
    "    num_features = 3 # Количество признаков\n",
    "    weights = [[0.005 for _ in range(num_features)] for _ in range(4)]  # Веса для каждого класса\n",
    "    learning_rate = 0.00001  # Скорость обучения\n",
    "    num_epochs = 1000  # Количество эпох обучения\n",
    "    for epoch in range(num_epochs):\n",
    "      for i in range(len(self.training_dataset)):\n",
    "        inputs = self.training_dataset[i][:3]\n",
    "        target = self.training_dataset[i][3]\n",
    "        weights = self.update_weights(weights, inputs, target, learning_rate)\n",
    "    self.test_training_dataset(weights)\n",
    "    self.test(weights)\n",
    "\n",
    "  def test_training_dataset(self,weights):\n",
    "    \"\"\"\n",
    "    Подсчитывает точность модели на тренировочном датасете\n",
    "    \"\"\"\n",
    "    correct_predictions = 0\n",
    "    for i in range(len(self.training_dataset)):\n",
    "      inputs = self.training_dataset[i][:3]\n",
    "      target = self.training_dataset[i][3]\n",
    "      scores = self.multiclass_logistic_regression(weights, inputs)\n",
    "      predicted_class = scores.index(max(scores))\n",
    "      if predicted_class == target:\n",
    "        correct_predictions += 1\n",
    "\n",
    "    accuracy = correct_predictions / len(self.training_dataset)\n",
    "    print(f\"Точность модели на обучающем датасете: {accuracy * 100}%\")\n",
    "\n",
    "  def test(self,weights):\n",
    "    \"\"\"\n",
    "    Подсчитывает точность модели на тестовом датасете\n",
    "    \"\"\"\n",
    "    correct_predictions = 0\n",
    "    for i in range(len(self.test_dataset)):\n",
    "      inputs = self.test_dataset[i][:3]\n",
    "      target = self.test_dataset[i][3]\n",
    "      scores = self.multiclass_logistic_regression(weights, inputs)\n",
    "      predicted_class = scores.index(max(scores))\n",
    "      if predicted_class == target:\n",
    "        correct_predictions += 1\n",
    "\n",
    "    accuracy = correct_predictions / len(self.test_dataset)\n",
    "    print(f\"Точность модели на тестовом датасете: {accuracy * 100}%\")"
   ],
   "metadata": {
    "collapsed": false,
    "ExecuteTime": {
     "end_time": "2024-05-23T15:54:43.116467800Z",
     "start_time": "2024-05-23T15:54:43.098793200Z"
    }
   },
   "id": "528a7874397ba5ca",
   "execution_count": 7
  },
  {
   "cell_type": "markdown",
   "source": [
    "запуск обучения и тестирования. первый аргумент датасет для тренировки, второй для тестирования "
   ],
   "metadata": {
    "collapsed": false
   },
   "id": "e01231788e8d830d"
  },
  {
   "cell_type": "code",
   "outputs": [
    {
     "name": "stdout",
     "output_type": "stream",
     "text": [
      "Точность модели на обучающем датасете: 62.25000000000001%\n",
      "Точность модели на тестовом датасете: 59.0%\n"
     ]
    }
   ],
   "source": [
    "perceptron = Perceptron(dataset[:800],dataset[800:])"
   ],
   "metadata": {
    "collapsed": false,
    "ExecuteTime": {
     "end_time": "2024-05-23T15:54:49.993601500Z",
     "start_time": "2024-05-23T15:54:45.592168100Z"
    }
   },
   "id": "89119f5d8689f92b",
   "execution_count": 8
  }
 ],
 "metadata": {
  "kernelspec": {
   "display_name": "Python 3",
   "language": "python",
   "name": "python3"
  },
  "language_info": {
   "codemirror_mode": {
    "name": "ipython",
    "version": 2
   },
   "file_extension": ".py",
   "mimetype": "text/x-python",
   "name": "python",
   "nbconvert_exporter": "python",
   "pygments_lexer": "ipython2",
   "version": "2.7.6"
  }
 },
 "nbformat": 4,
 "nbformat_minor": 5
}
