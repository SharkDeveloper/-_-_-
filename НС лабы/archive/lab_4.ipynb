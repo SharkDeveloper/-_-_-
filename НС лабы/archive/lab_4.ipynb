{
 "nbformat": 4,
 "nbformat_minor": 0,
 "metadata": {
  "colab": {
   "provenance": [],
   "authorship_tag": "ABX9TyNUW0iVG1GI5YQQPqwbLBZ4"
  },
  "kernelspec": {
   "name": "python3",
   "display_name": "Python 3"
  },
  "language_info": {
   "name": "python"
  }
 },
 "cells": [
  {
   "cell_type": "markdown",
   "metadata": {
    "id": "Ur30pakzYLbY"
   },
   "source": [
    "# Лабораторная работа №4\n",
    "\n",
    "Проведение кластеризации над множеством "
   ]
  },
  {
   "cell_type": "markdown",
   "metadata": {
    "id": "IUPPdExlYufD"
   },
   "source": [
    "### k-means"
   ]
  },
  {
   "cell_type": "code",
   "metadata": {
    "id": "CCQ5eOIiHmJW"
   },
   "source": [
    "from sklearn import datasets\n",
    "from sklearn.cluster import KMeans\n",
    "import matplotlib.pyplot as plt"
   ],
   "execution_count": null,
   "outputs": []
  },
  {
   "cell_type": "markdown",
   "metadata": {
    "id": "B_ubooc-Hscq"
   },
   "source": [
    "Загружаем набор данных. Наиболее популярным для задачи кластеризации является набор данных по ирисам Фишера."
   ]
  },
  {
   "cell_type": "code",
   "metadata": {
    "id": "TyzC0Jl7HmCB"
   },
   "source": [
    "iris_df = datasets.load_iris()"
   ],
   "execution_count": null,
   "outputs": []
  },
  {
   "cell_type": "markdown",
   "metadata": {
    "id": "85QIfjbhHxuY"
   },
   "source": [
    "Описываем модель и проводим моделирование. Зададим в качестве начального значения количество кластеров равное трем."
   ]
  },
  {
   "cell_type": "code",
   "metadata": {
    "colab": {
     "base_uri": "https://localhost:8080/"
    },
    "id": "YZuwCQhQHl5k",
    "executionInfo": {
     "status": "ok",
     "timestamp": 1666714647015,
     "user_tz": -180,
     "elapsed": 24,
     "user": {
      "displayName": "Игорь Гайдук",
      "userId": "00602710565112184313"
     }
    },
    "outputId": "fa4af58f-4516-4b50-81cd-ff05dc9bd6e5"
   },
   "source": [
    "model = KMeans(n_clusters=3)\n",
    "model.fit(iris_df.data)"
   ],
   "execution_count": null,
   "outputs": [
    {
     "output_type": "execute_result",
     "data": {
      "text/plain": [
       "KMeans(n_clusters=3)"
      ]
     },
     "metadata": {},
     "execution_count": 3
    }
   ]
  },
  {
   "cell_type": "markdown",
   "metadata": {
    "id": "REWYm_xdH8wb"
   },
   "source": [
    "Получим предсказание на единичном примере и выведем результат на экран."
   ]
  },
  {
   "cell_type": "code",
   "metadata": {
    "colab": {
     "base_uri": "https://localhost:8080/"
    },
    "id": "5ivgrIJHID_B",
    "executionInfo": {
     "status": "ok",
     "timestamp": 1666714647016,
     "user_tz": -180,
     "elapsed": 20,
     "user": {
      "displayName": "Игорь Гайдук",
      "userId": "00602710565112184313"
     }
    },
    "outputId": "d3a69c37-4924-4242-b146-fa4801013f20"
   },
   "source": [
    "predicted_label = model.predict([[7.2, 3.5, 0.8, 1.6]])\n",
    "print(predicted_label)"
   ],
   "execution_count": null,
   "outputs": [
    {
     "output_type": "stream",
     "name": "stdout",
     "text": [
      "[0]\n"
     ]
    }
   ]
  },
  {
   "cell_type": "markdown",
   "metadata": {
    "id": "cxlqjBvWIHiy"
   },
   "source": [
    "Получим также предсказание на всем наборе данных и выведем результаты на экран."
   ]
  },
  {
   "cell_type": "code",
   "metadata": {
    "colab": {
     "base_uri": "https://localhost:8080/"
    },
    "id": "RggJNTr59WV-",
    "executionInfo": {
     "status": "ok",
     "timestamp": 1666714647016,
     "user_tz": -180,
     "elapsed": 16,
     "user": {
      "displayName": "Игорь Гайдук",
      "userId": "00602710565112184313"
     }
    },
    "outputId": "e283639f-ce16-42e1-d0cd-867d518c83b9"
   },
   "source": [
    "all_predictions = model.predict(iris_df.data)\n",
    "print(all_predictions)"
   ],
   "execution_count": null,
   "outputs": [
    {
     "output_type": "stream",
     "name": "stdout",
     "text": [
      "[0 0 0 0 0 0 0 0 0 0 0 0 0 0 0 0 0 0 0 0 0 0 0 0 0 0 0 0 0 0 0 0 0 0 0 0 0\n",
      " 0 0 0 0 0 0 0 0 0 0 0 0 0 1 1 2 1 1 1 1 1 1 1 1 1 1 1 1 1 1 1 1 1 1 1 1 1\n",
      " 1 1 1 2 1 1 1 1 1 1 1 1 1 1 1 1 1 1 1 1 1 1 1 1 1 1 2 1 2 2 2 2 1 2 2 2 2\n",
      " 2 2 1 1 2 2 2 2 1 2 1 2 1 2 2 1 1 2 2 2 2 2 1 2 2 2 2 1 2 2 2 1 2 2 2 1 2\n",
      " 2 1]\n"
     ]
    }
   ]
  },
  {
   "cell_type": "markdown",
   "metadata": {
    "id": "U2VyFA2YVZB1"
   },
   "source": [
    "Представление в формате простых чисел не совсем наглядно, поэтому попробуем графически представить результаты кластеризации."
   ]
  },
  {
   "cell_type": "code",
   "metadata": {
    "colab": {
     "base_uri": "https://localhost:8080/",
     "height": 281
    },
    "id": "1-4uCdX3VLba",
    "executionInfo": {
     "status": "ok",
     "timestamp": 1666714647691,
     "user_tz": -180,
     "elapsed": 686,
     "user": {
      "displayName": "Игорь Гайдук",
      "userId": "00602710565112184313"
     }
    },
    "outputId": "d2f175c7-a5a7-4aba-9b57-72e350737294"
   },
   "source": [
    "for i in range(0, len(iris_df.data)):\n",
    "    if all_predictions[i] == 0:\n",
    "        c1 = plt.scatter(iris_df.data[i, 0], iris_df.data[i, 1], c='r', marker='+')\n",
    "    elif all_predictions[i] == 1:\n",
    "        c2 = plt.scatter(iris_df.data[i, 0], iris_df.data[i, 1], c='g', marker='o')\n",
    "    elif all_predictions[i] == 2:\n",
    "        c3 = plt.scatter(iris_df.data[i, 0], iris_df.data[i, 1], c='b', marker='*')\n",
    "\n",
    "plt.legend([c1, c2, c3], ['Кластер 1', 'Кластер 2', 'Кластер 3'])\n",
    "plt.title('k-means. Разделение на три кластера')\n",
    "plt.show()"
   ],
   "execution_count": null,
   "outputs": [
    {
     "output_type": "display_data",
     "data": {
      "text/plain": [
       "<Figure size 432x288 with 1 Axes>"
      ],
      "image/png": "[encoded data removed]"
     },
     "metadata": {
      "needs_background": "light"
     }
    }
   ]
  },
  {
   "cell_type": "markdown",
   "metadata": {
    "id": "nsVy7O8yXCkx"
   },
   "source": [
    "Так как параметров у наших данных 4, а график мы можем построить только по двум, то проведем небольшое исследование с целью установить, какие из параметров лучше использовать для визуализации для большей наглядности."
   ]
  },
  {
   "cell_type": "code",
   "metadata": {
    "colab": {
     "base_uri": "https://localhost:8080/",
     "height": 281
    },
    "id": "RrvfX-VWWmiX",
    "executionInfo": {
     "status": "ok",
     "timestamp": 1666714648412,
     "user_tz": -180,
     "elapsed": 730,
     "user": {
      "displayName": "Игорь Гайдук",
      "userId": "00602710565112184313"
     }
    },
    "outputId": "e55803ca-f0c6-4315-a77b-13a7e904d670"
   },
   "source": [
    "for i in range(0, len(iris_df.data)):\n",
    "    if all_predictions[i] == 0:\n",
    "        c1 = plt.scatter(iris_df.data[i, 3], iris_df.data[i, 2], c='r', marker='+')\n",
    "    elif all_predictions[i] == 1:\n",
    "        c2 = plt.scatter(iris_df.data[i, 3], iris_df.data[i, 2], c='g', marker='o')\n",
    "    elif all_predictions[i] == 2:\n",
    "        c3 = plt.scatter(iris_df.data[i, 3], iris_df.data[i, 2], c='b', marker='*')\n",
    "\n",
    "plt.legend([c1, c2, c3], ['Кластер 1', 'Кластер 2', 'Кластер 3'])\n",
    "plt.title('k-means. Разделение на три кластера')\n",
    "plt.show()"
   ],
   "execution_count": null,
   "outputs": [
    {
     "output_type": "display_data",
     "data": {
      "text/plain": [
       "<Figure size 432x288 with 1 Axes>"
      ],
      "image/png": "[encoded data removed]"
     },
     "metadata": {
      "needs_background": "light"
     }
    }
   ]
  },
  {
   "cell_type": "markdown",
   "metadata": {
    "id": "6J6ORQboXTUF"
   },
   "source": [
    "На основе двух представленных выше графиков можем предположить, что наилучшей будет визуализация результатов через нулевой и второй параметры, так как наиболее просто провести границу между кластерами именно по указанным осям. Ниже можно увидеть экспериментальное подтверждение данной теории."
   ]
  },
  {
   "cell_type": "code",
   "metadata": {
    "colab": {
     "base_uri": "https://localhost:8080/",
     "height": 281
    },
    "id": "wKYGABBLWxHQ",
    "executionInfo": {
     "status": "ok",
     "timestamp": 1666714649086,
     "user_tz": -180,
     "elapsed": 680,
     "user": {
      "displayName": "Игорь Гайдук",
      "userId": "00602710565112184313"
     }
    },
    "outputId": "8001b112-8445-4bdf-924d-01ff786f0fc4"
   },
   "source": [
    "for i in range(0, len(iris_df.data)):\n",
    "    if all_predictions[i] == 0:\n",
    "        c1 = plt.scatter(iris_df.data[i, 0], iris_df.data[i, 2], c='r', marker='+')\n",
    "    elif all_predictions[i] == 1:\n",
    "        c2 = plt.scatter(iris_df.data[i, 0], iris_df.data[i, 2], c='g', marker='o')\n",
    "    elif all_predictions[i] == 2:\n",
    "        c3 = plt.scatter(iris_df.data[i, 0], iris_df.data[i, 2], c='b', marker='*')\n",
    "\n",
    "plt.legend([c1, c2, c3], ['Кластер 1', 'Кластер 2', 'Кластер 3'])\n",
    "plt.title('k-means. Разделение на три кластера')\n",
    "plt.show()"
   ],
   "execution_count": null,
   "outputs": [
    {
     "output_type": "display_data",
     "data": {
      "text/plain": [
       "<Figure size 432x288 with 1 Axes>"
      ],
      "image/png": "[encoded data removed]"
     },
     "metadata": {
      "needs_background": "light"
     }
    }
   ]
  },
  {
   "cell_type": "markdown",
   "metadata": {
    "id": "dN5ux6cHZ-IG"
   },
   "source": [
    "Попробуем провести исследование для значений количества кластеров 2, 4 и 5."
   ]
  },
  {
   "cell_type": "code",
   "metadata": {
    "colab": {
     "base_uri": "https://localhost:8080/"
    },
    "id": "yNY97hLSanMR",
    "executionInfo": {
     "status": "ok",
     "timestamp": 1666714649089,
     "user_tz": -180,
     "elapsed": 16,
     "user": {
      "displayName": "Игорь Гайдук",
      "userId": "00602710565112184313"
     }
    },
    "outputId": "4a0a6597-cd9c-4c81-9934-ed5cc167c216"
   },
   "source": [
    "model = KMeans(n_clusters=2)\n",
    "model.fit(iris_df.data)\n",
    "all_predictions = model.predict(iris_df.data)\n",
    "print(all_predictions)"
   ],
   "execution_count": null,
   "outputs": [
    {
     "output_type": "stream",
     "name": "stdout",
     "text": [
      "[1 1 1 1 1 1 1 1 1 1 1 1 1 1 1 1 1 1 1 1 1 1 1 1 1 1 1 1 1 1 1 1 1 1 1 1 1\n",
      " 1 1 1 1 1 1 1 1 1 1 1 1 1 0 0 0 0 0 0 0 1 0 0 0 0 0 0 0 0 0 0 0 0 0 0 0 0\n",
      " 0 0 0 0 0 0 0 0 0 0 0 0 0 0 0 0 0 0 0 1 0 0 0 0 1 0 0 0 0 0 0 0 0 0 0 0 0\n",
      " 0 0 0 0 0 0 0 0 0 0 0 0 0 0 0 0 0 0 0 0 0 0 0 0 0 0 0 0 0 0 0 0 0 0 0 0 0\n",
      " 0 0]\n"
     ]
    }
   ]
  },
  {
   "cell_type": "code",
   "metadata": {
    "colab": {
     "base_uri": "https://localhost:8080/",
     "height": 281
    },
    "id": "cbMn2fSxazQ6",
    "executionInfo": {
     "status": "ok",
     "timestamp": 1666714649963,
     "user_tz": -180,
     "elapsed": 885,
     "user": {
      "displayName": "Игорь Гайдук",
      "userId": "00602710565112184313"
     }
    },
    "outputId": "157e0274-6189-430b-c14e-e6fc63d8d218"
   },
   "source": [
    "for i in range(0, len(iris_df.data)):\n",
    "    if all_predictions[i] == 0:\n",
    "        c1 = plt.scatter(iris_df.data[i, 0], iris_df.data[i, 2], c='r', marker='+')\n",
    "    elif all_predictions[i] == 1:\n",
    "        c2 = plt.scatter(iris_df.data[i, 0], iris_df.data[i, 2], c='g', marker='o')\n",
    "\n",
    "plt.legend([c1, c2], ['Кластер 1', 'Кластер 2'])\n",
    "plt.title('k-means. Разделение на два кластера')\n",
    "plt.show()"
   ],
   "execution_count": null,
   "outputs": [
    {
     "output_type": "display_data",
     "data": {
      "text/plain": [
       "<Figure size 432x288 with 1 Axes>"
      ],
      "image/png": "[encoded data removed]"
     },
     "metadata": {
      "needs_background": "light"
     }
    }
   ]
  },
  {
   "cell_type": "code",
   "metadata": {
    "colab": {
     "base_uri": "https://localhost:8080/"
    },
    "id": "0BYNZsRQbNEh",
    "executionInfo": {
     "status": "ok",
     "timestamp": 1666714649965,
     "user_tz": -180,
     "elapsed": 13,
     "user": {
      "displayName": "Игорь Гайдук",
      "userId": "00602710565112184313"
     }
    },
    "outputId": "d2185923-a769-4670-b587-81cfa782aeb8"
   },
   "source": [
    "model = KMeans(n_clusters=4)\n",
    "model.fit(iris_df.data)\n",
    "all_predictions = model.predict(iris_df.data)\n",
    "print(all_predictions)"
   ],
   "execution_count": null,
   "outputs": [
    {
     "output_type": "stream",
     "name": "stdout",
     "text": [
      "[1 1 1 1 1 1 1 1 1 1 1 1 1 1 1 1 1 1 1 1 1 1 1 1 1 1 1 1 1 1 1 1 1 1 1 1 1\n",
      " 1 1 1 1 1 1 1 1 1 1 1 1 1 2 2 2 0 2 0 2 0 2 0 0 0 0 2 0 2 0 0 2 0 2 0 2 2\n",
      " 2 2 2 2 2 0 0 0 0 2 0 2 2 2 0 0 0 2 0 0 0 0 0 2 0 0 3 2 3 3 3 3 0 3 3 3 2\n",
      " 2 3 2 2 3 3 3 3 2 3 2 3 2 3 3 2 2 3 3 3 3 3 2 2 3 3 3 2 3 3 3 2 3 3 3 2 2\n",
      " 3 2]\n"
     ]
    }
   ]
  },
  {
   "cell_type": "code",
   "metadata": {
    "colab": {
     "base_uri": "https://localhost:8080/",
     "height": 281
    },
    "id": "T4GumxMNbM96",
    "executionInfo": {
     "status": "ok",
     "timestamp": 1666714650846,
     "user_tz": -180,
     "elapsed": 892,
     "user": {
      "displayName": "Игорь Гайдук",
      "userId": "00602710565112184313"
     }
    },
    "outputId": "7fdc3b15-4aa4-4cba-c3ea-84fd9ae946c6"
   },
   "source": [
    "for i in range(0, len(iris_df.data)):\n",
    "    if all_predictions[i] == 0:\n",
    "        c1 = plt.scatter(iris_df.data[i, 0], iris_df.data[i, 2], c='r', marker='+')\n",
    "    elif all_predictions[i] == 1:\n",
    "        c2 = plt.scatter(iris_df.data[i, 0], iris_df.data[i, 2], c='g', marker='o')\n",
    "    elif all_predictions[i] == 2:\n",
    "        c3 = plt.scatter(iris_df.data[i, 0], iris_df.data[i, 2], c='b', marker='*')\n",
    "    elif all_predictions[i] == 3:\n",
    "        c4 = plt.scatter(iris_df.data[i, 0], iris_df.data[i, 2], c='m', marker='.')\n",
    "\n",
    "plt.legend([c1, c2, c3, c4], ['Кластер 1', 'Кластер 2', 'Кластер 3', 'Кластер 4'])\n",
    "plt.title('k-means. Разделение на четыре кластера')\n",
    "plt.show()"
   ],
   "execution_count": null,
   "outputs": [
    {
     "output_type": "display_data",
     "data": {
      "text/plain": [
       "<Figure size 432x288 with 1 Axes>"
      ],
      "image/png": "[encoded data removed]"
     },
     "metadata": {
      "needs_background": "light"
     }
    }
   ]
  },
  {
   "cell_type": "code",
   "metadata": {
    "colab": {
     "base_uri": "https://localhost:8080/"
    },
    "id": "Ql7U69bRbM2D",
    "executionInfo": {
     "status": "ok",
     "timestamp": 1666714651267,
     "user_tz": -180,
     "elapsed": 429,
     "user": {
      "displayName": "Игорь Гайдук",
      "userId": "00602710565112184313"
     }
    },
    "outputId": "4d20474f-fe0d-48ab-a17d-923bbcf7fe74"
   },
   "source": [
    "model = KMeans(n_clusters=5)\n",
    "model.fit(iris_df.data)\n",
    "all_predictions = model.predict(iris_df.data)\n",
    "print(all_predictions)"
   ],
   "execution_count": null,
   "outputs": [
    {
     "output_type": "stream",
     "name": "stdout",
     "text": [
      "[1 1 1 1 1 1 1 1 1 1 1 1 1 1 1 1 1 1 1 1 1 1 1 1 1 1 1 1 1 1 1 1 1 1 1 1 1\n",
      " 1 1 1 1 1 1 1 1 1 1 1 1 1 0 0 0 3 0 0 0 3 0 3 3 0 3 0 3 0 0 3 0 3 0 3 0 0\n",
      " 0 0 0 0 0 3 3 3 3 0 3 0 0 0 3 3 3 0 3 3 3 3 3 0 3 3 4 0 2 4 4 2 3 2 4 2 4\n",
      " 4 4 0 4 4 4 2 2 0 4 0 2 0 4 2 0 0 4 2 2 2 4 0 0 2 4 4 0 4 4 4 0 4 4 4 0 4\n",
      " 4 0]\n"
     ]
    }
   ]
  },
  {
   "cell_type": "code",
   "metadata": {
    "colab": {
     "base_uri": "https://localhost:8080/",
     "height": 281
    },
    "id": "O2hyiYicbMue",
    "executionInfo": {
     "status": "ok",
     "timestamp": 1644816887449,
     "user_tz": -180,
     "elapsed": 30,
     "user": {
      "displayName": "Игорь Гайдук",
      "photoUrl": "https://lh3.googleusercontent.com/a/default-user=s64",
      "userId": "00602710565112184313"
     }
    },
    "outputId": "fc09a730-9fd1-4731-f873-502678328f5c"
   },
   "source": [
    "for i in range(0, len(iris_df.data)):\n",
    "    if all_predictions[i] == 0:\n",
    "        c1 = plt.scatter(iris_df.data[i, 0], iris_df.data[i, 2], c='r', marker='+')\n",
    "    elif all_predictions[i] == 1:\n",
    "        c2 = plt.scatter(iris_df.data[i, 0], iris_df.data[i, 2], c='g', marker='o')\n",
    "    elif all_predictions[i] == 2:\n",
    "        c3 = plt.scatter(iris_df.data[i, 0], iris_df.data[i, 2], c='b', marker='*')\n",
    "    elif all_predictions[i] == 3:\n",
    "        c4 = plt.scatter(iris_df.data[i, 0], iris_df.data[i, 2], c='m', marker='.')\n",
    "    elif all_predictions[i] == 4:\n",
    "        c5 = plt.scatter(iris_df.data[i, 0], iris_df.data[i, 2], c='y', marker='o')\n",
    "\n",
    "plt.legend([c1, c2, c3, c4, c5], ['Кластер 1', 'Кластер 2', 'Кластер 3', 'Кластер 4', 'Кластер 5'])\n",
    "plt.title('k-means. Разделение на пять кластеров')\n",
    "plt.show()"
   ],
   "execution_count": null,
   "outputs": [
    {
     "output_type": "display_data",
     "data": {
      "image/png": "[encoded data removed]",
      "text/plain": [
       "<Figure size 432x288 with 1 Axes>"
      ]
     },
     "metadata": {
      "needs_background": "light"
     }
    }
   ]
  },
  {
   "cell_type": "markdown",
   "source": [
    "Далее приводится код для анализа оптимального количсевта кластеров методами локтя и силуэта. Подробно об указанных методах можно почитать по [ссылке](https://habr.com/ru/company/jetinfosystems/blog/467745/)."
   ],
   "metadata": {
    "id": "TlIieFj6-sO8"
   }
  },
  {
   "cell_type": "code",
   "source": [
    "from sklearn.metrics import silhouette_score, davies_bouldin_score,v_measure_score\n",
    "scores= []\n",
    "res_silhouette = []\n",
    "vmeasure_score =[]\n",
    "db_score = []\n",
    "for i in range(2,12):\n",
    "    model = KMeans(n_clusters=i, random_state=0).fit(iris_df.data)\n",
    "    preds = model.predict(iris_df.data)\n",
    "    \n",
    "    print(\"Score for number of cluster(s) {}: {}\".format(i,model.score(iris_df.data)))\n",
    "    scores.append(-model.score(iris_df.data))\n",
    "    \n",
    "    silhouette = silhouette_score(iris_df.data,preds)\n",
    "    res_silhouette.append(silhouette)\n",
    "    print(\"Silhouette score for number of cluster(s) {}: {}\".format(i,silhouette))"
   ],
   "metadata": {
    "colab": {
     "base_uri": "https://localhost:8080/"
    },
    "id": "cvPKgxTW7hqJ",
    "executionInfo": {
     "status": "ok",
     "timestamp": 1666715333611,
     "user_tz": -180,
     "elapsed": 1101,
     "user": {
      "displayName": "Игорь Гайдук",
      "userId": "00602710565112184313"
     }
    },
    "outputId": "4efd7860-7c5f-47a7-de53-ede2b536093a"
   },
   "execution_count": null,
   "outputs": [
    {
     "output_type": "stream",
     "name": "stdout",
     "text": [
      "Score for number of cluster(s) 2: -152.3479517603579\n",
      "Silhouette score for number of cluster(s) 2: 0.6810461692117462\n",
      "Score for number of cluster(s) 3: -78.85144142614601\n",
      "Silhouette score for number of cluster(s) 3: 0.5528190123564095\n",
      "Score for number of cluster(s) 4: -57.228473214285714\n",
      "Silhouette score for number of cluster(s) 4: 0.49805050499728737\n",
      "Score for number of cluster(s) 5: -46.47223015873014\n",
      "Silhouette score for number of cluster(s) 5: 0.4930804067193521\n",
      "Score for number of cluster(s) 6: -39.03998724608724\n",
      "Silhouette score for number of cluster(s) 6: 0.36483400396700255\n",
      "Score for number of cluster(s) 7: -34.29971212121213\n",
      "Silhouette score for number of cluster(s) 7: 0.3566882476581695\n",
      "Score for number of cluster(s) 8: -30.063110617452725\n",
      "Silhouette score for number of cluster(s) 8: 0.3617900335973811\n",
      "Score for number of cluster(s) 9: -28.271721728563833\n",
      "Silhouette score for number of cluster(s) 9: 0.34885833427692653\n",
      "Score for number of cluster(s) 10: -26.094324740540415\n",
      "Silhouette score for number of cluster(s) 10: 0.3312211058478364\n",
      "Score for number of cluster(s) 11: -24.742517259701092\n",
      "Silhouette score for number of cluster(s) 11: 0.28743152537095823\n"
     ]
    }
   ]
  },
  {
   "cell_type": "code",
   "source": [
    "plt.figure(figsize=(7,4))\n",
    "plt.title(\"The elbow method for determining number of clusters\\n\",fontsize=16)\n",
    "plt.scatter(x=[i for i in range(2,12)],y=scores,s=150,edgecolor='k')\n",
    "plt.grid(True)\n",
    "plt.xlabel(\"Number of clusters\",fontsize=14)\n",
    "plt.ylabel(\"K-means score\",fontsize=15)\n",
    "plt.xticks([i for i in range(2,12)],fontsize=14)\n",
    "plt.yticks(fontsize=15)\n",
    "plt.show()"
   ],
   "metadata": {
    "colab": {
     "base_uri": "https://localhost:8080/",
     "height": 323
    },
    "id": "9RCEI0XQ9BaQ",
    "executionInfo": {
     "status": "ok",
     "timestamp": 1666715336983,
     "user_tz": -180,
     "elapsed": 310,
     "user": {
      "displayName": "Игорь Гайдук",
      "userId": "00602710565112184313"
     }
    },
    "outputId": "91a80a07-ecc6-451b-d7e1-f43bf9776805"
   },
   "execution_count": null,
   "outputs": [
    {
     "output_type": "display_data",
     "data": {
      "text/plain": [
       "<Figure size 504x288 with 1 Axes>"
      ],
      "image/png": "[encoded data removed]"
     },
     "metadata": {
      "needs_background": "light"
     }
    }
   ]
  },
  {
   "cell_type": "code",
   "source": [
    "plt.figure(figsize=(7,4))\n",
    "plt.title(\"The silhouette coefficient method \\nfor determining number of clusters\\n\",fontsize=16)\n",
    "plt.scatter(x=[i for i in range(2,12)],y=res_silhouette,s=150,edgecolor='k')\n",
    "plt.grid(True)\n",
    "plt.xlabel(\"Number of clusters\",fontsize=14)\n",
    "plt.ylabel(\"Silhouette score\",fontsize=15)\n",
    "plt.xticks([i for i in range(2,12)],fontsize=14)\n",
    "plt.yticks(fontsize=15)\n",
    "plt.show()"
   ],
   "metadata": {
    "colab": {
     "base_uri": "https://localhost:8080/",
     "height": 340
    },
    "id": "5mvqZx019TSh",
    "executionInfo": {
     "status": "ok",
     "timestamp": 1666715338717,
     "user_tz": -180,
     "elapsed": 417,
     "user": {
      "displayName": "Игорь Гайдук",
      "userId": "00602710565112184313"
     }
    },
    "outputId": "c7663d73-41f9-4fec-82bc-78ab05fa45ae"
   },
   "execution_count": null,
   "outputs": [
    {
     "output_type": "display_data",
     "data": {
      "text/plain": [
       "<Figure size 504x288 with 1 Axes>"
      ],
      "image/png": "[encoded data removed]"
     },
     "metadata": {
      "needs_background": "light"
     }
    }
   ]
  },
  {
   "cell_type": "markdown",
   "metadata": {
    "id": "KxfXD4SIcTYu"
   },
   "source": [
    "Проведенное нами исследование с методом k-means в основе показало, что наилучшим образом разделение на кластеры происходит при количестве равном 2. Несмотря на то, что правильным ответом в данном задании является три кластера, лучших результатов наша модель достигает при разделении всех записей на два класса.\n",
    "\n",
    "Данный вывод подтвердит также метод DBSCAN, приведенный ниже."
   ]
  },
  {
   "cell_type": "markdown",
   "metadata": {
    "id": "-BBbyP-AY-B4"
   },
   "source": [
    "## DBSCAN"
   ]
  },
  {
   "cell_type": "markdown",
   "metadata": {
    "id": "R9Fu63N8bToI"
   },
   "source": [
    "DBSCAN (Density-Based Spatial Clustering of Applications with Noise, плотностной алгоритм пространственной кластеризации с присутствием шума) – популярный алгоритм кластеризации, используемый в анализе данных в качестве одной из замен метода k-средних.\n",
    "\n",
    "Метод не требует предварительных предположений о числе кластеров, но нужно настроить два других параметра: eps и min_samples. Данные параметры – это соответственно максимальное расстояние между соседними точками и минимальное число точек в окрестности (количество соседей), когда можно говорить, что эти экземпляры данных образуют один кластер."
   ]
  },
  {
   "cell_type": "markdown",
   "metadata": {
    "id": "2ThvykMLTcd3"
   },
   "source": [
    "Импортируем необходимые библиотеки и загружаем набор данных."
   ]
  },
  {
   "cell_type": "code",
   "metadata": {
    "id": "NDprT29NTcWk",
    "executionInfo": {
     "status": "ok",
     "timestamp": 1681491897741,
     "user_tz": -180,
     "elapsed": 2357,
     "user": {
      "displayName": "Игорь Гайдук",
      "userId": "00602710565112184313"
     }
    }
   },
   "source": [
    "from sklearn.datasets import load_iris\n",
    "import matplotlib.pyplot as plt\n",
    "from sklearn.cluster import DBSCAN\n",
    "from sklearn.decomposition import PCA\n",
    "\n",
    "iris = load_iris()"
   ],
   "execution_count": 1,
   "outputs": []
  },
  {
   "cell_type": "markdown",
   "metadata": {
    "id": "jD7FPgZWTcM0"
   },
   "source": [
    "Создаем модель и проводим обучение."
   ]
  },
  {
   "cell_type": "code",
   "metadata": {
    "colab": {
     "base_uri": "https://localhost:8080/",
     "height": 75
    },
    "id": "ijb7Br3XTcE6",
    "executionInfo": {
     "status": "ok",
     "timestamp": 1681491990888,
     "user_tz": -180,
     "elapsed": 2,
     "user": {
      "displayName": "Игорь Гайдук",
      "userId": "00602710565112184313"
     }
    },
    "outputId": "450a3bc0-9439-415a-dd59-a1e5baa23340"
   },
   "source": [
    "dbscan = DBSCAN(eps=0.75, min_samples = 10)\n",
    "\n",
    "dbscan.fit(iris.data)"
   ],
   "execution_count": 8,
   "outputs": [
    {
     "output_type": "execute_result",
     "data": {
      "text/plain": [
       "DBSCAN(eps=0.75, min_samples=10)"
      ],
      "text/html": [
       "<style>#sk-container-id-3 {color: black;background-color: white;}#sk-container-id-3 pre{padding: 0;}#sk-container-id-3 div.sk-toggleable {background-color: white;}#sk-container-id-3 label.sk-toggleable__label {cursor: pointer;display: block;width: 100%;margin-bottom: 0;padding: 0.3em;box-sizing: border-box;text-align: center;}#sk-container-id-3 label.sk-toggleable__label-arrow:before {content: \"▸\";float: left;margin-right: 0.25em;color: #696969;}#sk-container-id-3 label.sk-toggleable__label-arrow:hover:before {color: black;}#sk-container-id-3 div.sk-estimator:hover label.sk-toggleable__label-arrow:before {color: black;}#sk-container-id-3 div.sk-toggleable__content {max-height: 0;max-width: 0;overflow: hidden;text-align: left;background-color: #f0f8ff;}#sk-container-id-3 div.sk-toggleable__content pre {margin: 0.2em;color: black;border-radius: 0.25em;background-color: #f0f8ff;}#sk-container-id-3 input.sk-toggleable__control:checked~div.sk-toggleable__content {max-height: 200px;max-width: 100%;overflow: auto;}#sk-container-id-3 input.sk-toggleable__control:checked~label.sk-toggleable__label-arrow:before {content: \"▾\";}#sk-container-id-3 div.sk-estimator input.sk-toggleable__control:checked~label.sk-toggleable__label {background-color: #d4ebff;}#sk-container-id-3 div.sk-label input.sk-toggleable__control:checked~label.sk-toggleable__label {background-color: #d4ebff;}#sk-container-id-3 input.sk-hidden--visually {border: 0;clip: rect(1px 1px 1px 1px);clip: rect(1px, 1px, 1px, 1px);height: 1px;margin: -1px;overflow: hidden;padding: 0;position: absolute;width: 1px;}#sk-container-id-3 div.sk-estimator {font-family: monospace;background-color: #f0f8ff;border: 1px dotted black;border-radius: 0.25em;box-sizing: border-box;margin-bottom: 0.5em;}#sk-container-id-3 div.sk-estimator:hover {background-color: #d4ebff;}#sk-container-id-3 div.sk-parallel-item::after {content: \"\";width: 100%;border-bottom: 1px solid gray;flex-grow: 1;}#sk-container-id-3 div.sk-label:hover label.sk-toggleable__label {background-color: #d4ebff;}#sk-container-id-3 div.sk-serial::before {content: \"\";position: absolute;border-left: 1px solid gray;box-sizing: border-box;top: 0;bottom: 0;left: 50%;z-index: 0;}#sk-container-id-3 div.sk-serial {display: flex;flex-direction: column;align-items: center;background-color: white;padding-right: 0.2em;padding-left: 0.2em;position: relative;}#sk-container-id-3 div.sk-item {position: relative;z-index: 1;}#sk-container-id-3 div.sk-parallel {display: flex;align-items: stretch;justify-content: center;background-color: white;position: relative;}#sk-container-id-3 div.sk-item::before, #sk-container-id-3 div.sk-parallel-item::before {content: \"\";position: absolute;border-left: 1px solid gray;box-sizing: border-box;top: 0;bottom: 0;left: 50%;z-index: -1;}#sk-container-id-3 div.sk-parallel-item {display: flex;flex-direction: column;z-index: 1;position: relative;background-color: white;}#sk-container-id-3 div.sk-parallel-item:first-child::after {align-self: flex-end;width: 50%;}#sk-container-id-3 div.sk-parallel-item:last-child::after {align-self: flex-start;width: 50%;}#sk-container-id-3 div.sk-parallel-item:only-child::after {width: 0;}#sk-container-id-3 div.sk-dashed-wrapped {border: 1px dashed gray;margin: 0 0.4em 0.5em 0.4em;box-sizing: border-box;padding-bottom: 0.4em;background-color: white;}#sk-container-id-3 div.sk-label label {font-family: monospace;font-weight: bold;display: inline-block;line-height: 1.2em;}#sk-container-id-3 div.sk-label-container {text-align: center;}#sk-container-id-3 div.sk-container {/* jupyter's `normalize.less` sets `[hidden] { display: none; }` but bootstrap.min.css set `[hidden] { display: none !important; }` so we also need the `!important` here to be able to override the default hidden behavior on the sphinx rendered scikit-learn.org. See: https://github.com/scikit-learn/scikit-learn/issues/21755 */display: inline-block !important;position: relative;}#sk-container-id-3 div.sk-text-repr-fallback {display: none;}</style><div id=\"sk-container-id-3\" class=\"sk-top-container\"><div class=\"sk-text-repr-fallback\"><pre>DBSCAN(eps=0.75, min_samples=10)</pre><b>In a Jupyter environment, please rerun this cell to show the HTML representation or trust the notebook. <br />On GitHub, the HTML representation is unable to render, please try loading this page with nbviewer.org.</b></div><div class=\"sk-container\" hidden><div class=\"sk-item\"><div class=\"sk-estimator sk-toggleable\"><input class=\"sk-toggleable__control sk-hidden--visually\" id=\"sk-estimator-id-3\" type=\"checkbox\" checked><label for=\"sk-estimator-id-3\" class=\"sk-toggleable__label sk-toggleable__label-arrow\">DBSCAN</label><div class=\"sk-toggleable__content\"><pre>DBSCAN(eps=0.75, min_samples=10)</pre></div></div></div></div></div>"
      ]
     },
     "metadata": {},
     "execution_count": 8
    }
   ]
  },
  {
   "cell_type": "markdown",
   "metadata": {
    "id": "ehpWRNgXTaA7"
   },
   "source": [
    "Уменьшаем размерность при помощи метода главных компонент."
   ]
  },
  {
   "cell_type": "code",
   "metadata": {
    "id": "0FHP_FO0TuPJ",
    "executionInfo": {
     "status": "ok",
     "timestamp": 1681491991289,
     "user_tz": -180,
     "elapsed": 1,
     "user": {
      "displayName": "Игорь Гайдук",
      "userId": "00602710565112184313"
     }
    }
   },
   "source": [
    "pca = PCA(n_components=2).fit(iris.data)\n",
    "pca_2d = pca.transform(iris.data)"
   ],
   "execution_count": 9,
   "outputs": []
  },
  {
   "cell_type": "markdown",
   "metadata": {
    "id": "xsgZxoV3Tuj6"
   },
   "source": [
    "Строим графическое представление результатов кластеризации."
   ]
  },
  {
   "cell_type": "code",
   "metadata": {
    "colab": {
     "base_uri": "https://localhost:8080/",
     "height": 452
    },
    "id": "qHA9xwJ_9eDN",
    "executionInfo": {
     "status": "ok",
     "timestamp": 1681491993911,
     "user_tz": -180,
     "elapsed": 1128,
     "user": {
      "displayName": "Игорь Гайдук",
      "userId": "00602710565112184313"
     }
    },
    "outputId": "23fe2de0-d50f-4f37-f9ce-0098058cdbff"
   },
   "source": [
    "for i in range(0, pca_2d.shape[0]):\n",
    "    if dbscan.labels_[i] == 0:\n",
    "        c1 = plt.scatter(pca_2d[i, 0], pca_2d[i, 1], c='r', marker='+')\n",
    "    elif dbscan.labels_[i] == 1:\n",
    "        c2 = plt.scatter(pca_2d[i, 0], pca_2d[i, 1], c='g', marker='o')\n",
    "    elif dbscan.labels_[i] == -1:\n",
    "        c3 = plt.scatter(pca_2d[i, 0], pca_2d[i, 1], c='b', marker='*')\n",
    "\n",
    "plt.legend([c1, c2, c3], ['Кластер 1', 'Кластер 2', 'Шум'])\n",
    "plt.title('DBSCAN нашел 2 кластера и шум')\n",
    "plt.show()"
   ],
   "execution_count": 10,
   "outputs": [
    {
     "output_type": "display_data",
     "data": {
      "text/plain": [
       "<Figure size 640x480 with 1 Axes>"
      ],
      "image/png": "[encoded data removed]"
     },
     "metadata": {}
    }
   ]
  },
  {
   "cell_type": "markdown",
   "metadata": {
    "id": "5oyauM_Xc3xx"
   },
   "source": [
    "**Задание**: кластеризация набора данных о покупках клиентов в супермаркете. \n",
    "\n",
    "Вы владеете торговым центром в супермаркете, и через членские карты у вас есть некоторые основные данные о ваших клиентах, такие как идентификатор клиента, возраст, пол, годовой доход и оценка расходов. Вам необходимо понимание того, кого можно легко объединить, чтобы можно было передать указания маркетинговой команде и соответствующим образом спланировать стратегию проведения акций. \n",
    "\n",
    "Необходимо провести исследование набора данных на то, по каким данным Вы будете проводить визуализацию и на оптимальное количество кластеров. "
   ]
  },
  {
   "cell_type": "code",
   "metadata": {
    "id": "US5sVwn3UD6s"
   },
   "source": [
    "%%capture\n",
    "!wget https://www.dropbox.com/s/3uoupxpfvhtr7wg/Mall_Customers.csv"
   ],
   "execution_count": null,
   "outputs": []
  },
  {
   "cell_type": "code",
   "metadata": {
    "id": "MM9VeKRhYlG3"
   },
   "source": [
    "import pandas as pd\n",
    "df = pd.read_csv('Mall_Customers.csv')\n",
    "del df['CustomerID']"
   ],
   "execution_count": null,
   "outputs": []
  },
  {
   "cell_type": "code",
   "metadata": {
    "colab": {
     "base_uri": "https://localhost:8080/",
     "height": 206
    },
    "id": "esaG0Hu7Zh4d",
    "executionInfo": {
     "status": "ok",
     "timestamp": 1644816889432,
     "user_tz": -180,
     "elapsed": 9,
     "user": {
      "displayName": "Игорь Гайдук",
      "photoUrl": "https://lh3.googleusercontent.com/a/default-user=s64",
      "userId": "00602710565112184313"
     }
    },
    "outputId": "4e5e528e-1550-4b98-deb6-ec9e27cb41db"
   },
   "source": [
    "df.head()"
   ],
   "execution_count": null,
   "outputs": [
    {
     "output_type": "execute_result",
     "data": {
      "text/html": [
       "\n",
       "  <div id=\"df-182e2f0e-4d6f-4c31-8c60-e821e31a9565\">\n",
       "    <div class=\"colab-df-container\">\n",
       "      <div>\n",
       "<style scoped>\n",
       "    .dataframe tbody tr th:only-of-type {\n",
       "        vertical-align: middle;\n",
       "    }\n",
       "\n",
       "    .dataframe tbody tr th {\n",
       "        vertical-align: top;\n",
       "    }\n",
       "\n",
       "    .dataframe thead th {\n",
       "        text-align: right;\n",
       "    }\n",
       "</style>\n",
       "<table border=\"1\" class=\"dataframe\">\n",
       "  <thead>\n",
       "    <tr style=\"text-align: right;\">\n",
       "      <th></th>\n",
       "      <th>Gender</th>\n",
       "      <th>Age</th>\n",
       "      <th>Annual Income (k$)</th>\n",
       "      <th>Spending Score (1-100)</th>\n",
       "    </tr>\n",
       "  </thead>\n",
       "  <tbody>\n",
       "    <tr>\n",
       "      <th>0</th>\n",
       "      <td>Male</td>\n",
       "      <td>19</td>\n",
       "      <td>15</td>\n",
       "      <td>39</td>\n",
       "    </tr>\n",
       "    <tr>\n",
       "      <th>1</th>\n",
       "      <td>Male</td>\n",
       "      <td>21</td>\n",
       "      <td>15</td>\n",
       "      <td>81</td>\n",
       "    </tr>\n",
       "    <tr>\n",
       "      <th>2</th>\n",
       "      <td>Female</td>\n",
       "      <td>20</td>\n",
       "      <td>16</td>\n",
       "      <td>6</td>\n",
       "    </tr>\n",
       "    <tr>\n",
       "      <th>3</th>\n",
       "      <td>Female</td>\n",
       "      <td>23</td>\n",
       "      <td>16</td>\n",
       "      <td>77</td>\n",
       "    </tr>\n",
       "    <tr>\n",
       "      <th>4</th>\n",
       "      <td>Female</td>\n",
       "      <td>31</td>\n",
       "      <td>17</td>\n",
       "      <td>40</td>\n",
       "    </tr>\n",
       "  </tbody>\n",
       "</table>\n",
       "</div>\n",
       "      <button class=\"colab-df-convert\" onclick=\"convertToInteractive('df-182e2f0e-4d6f-4c31-8c60-e821e31a9565')\"\n",
       "              title=\"Convert this dataframe to an interactive table.\"\n",
       "              style=\"display:none;\">\n",
       "        \n",
       "  <svg xmlns=\"http://www.w3.org/2000/svg\" height=\"24px\"viewBox=\"0 0 24 24\"\n",
       "       width=\"24px\">\n",
       "    <path d=\"M0 0h24v24H0V0z\" fill=\"none\"/>\n",
       "    <path d=\"M18.56 5.44l.94 2.06.94-2.06 2.06-.94-2.06-.94-.94-2.06-.94 2.06-2.06.94zm-11 1L8.5 8.5l.94-2.06 2.06-.94-2.06-.94L8.5 2.5l-.94 2.06-2.06.94zm10 10l.94 2.06.94-2.06 2.06-.94-2.06-.94-.94-2.06-.94 2.06-2.06.94z\"/><path d=\"M17.41 7.96l-1.37-1.37c-.4-.4-.92-.59-1.43-.59-.52 0-1.04.2-1.43.59L10.3 9.45l-7.72 7.72c-.78.78-.78 2.05 0 2.83L4 21.41c.39.39.9.59 1.41.59.51 0 1.02-.2 1.41-.59l7.78-7.78 2.81-2.81c.8-.78.8-2.07 0-2.86zM5.41 20L4 18.59l7.72-7.72 1.47 1.35L5.41 20z\"/>\n",
       "  </svg>\n",
       "      </button>\n",
       "      \n",
       "  <style>\n",
       "    .colab-df-container {\n",
       "      display:flex;\n",
       "      flex-wrap:wrap;\n",
       "      gap: 12px;\n",
       "    }\n",
       "\n",
       "    .colab-df-convert {\n",
       "      background-color: #E8F0FE;\n",
       "      border: none;\n",
       "      border-radius: 50%;\n",
       "      cursor: pointer;\n",
       "      display: none;\n",
       "      fill: #1967D2;\n",
       "      height: 32px;\n",
       "      padding: 0 0 0 0;\n",
       "      width: 32px;\n",
       "    }\n",
       "\n",
       "    .colab-df-convert:hover {\n",
       "      background-color: #E2EBFA;\n",
       "      box-shadow: 0px 1px 2px rgba(60, 64, 67, 0.3), 0px 1px 3px 1px rgba(60, 64, 67, 0.15);\n",
       "      fill: #174EA6;\n",
       "    }\n",
       "\n",
       "    [theme=dark] .colab-df-convert {\n",
       "      background-color: #3B4455;\n",
       "      fill: #D2E3FC;\n",
       "    }\n",
       "\n",
       "    [theme=dark] .colab-df-convert:hover {\n",
       "      background-color: #434B5C;\n",
       "      box-shadow: 0px 1px 3px 1px rgba(0, 0, 0, 0.15);\n",
       "      filter: drop-shadow(0px 1px 2px rgba(0, 0, 0, 0.3));\n",
       "      fill: #FFFFFF;\n",
       "    }\n",
       "  </style>\n",
       "\n",
       "      <script>\n",
       "        const buttonEl =\n",
       "          document.querySelector('#df-182e2f0e-4d6f-4c31-8c60-e821e31a9565 button.colab-df-convert');\n",
       "        buttonEl.style.display =\n",
       "          google.colab.kernel.accessAllowed ? 'block' : 'none';\n",
       "\n",
       "        async function convertToInteractive(key) {\n",
       "          const element = document.querySelector('#df-182e2f0e-4d6f-4c31-8c60-e821e31a9565');\n",
       "          const dataTable =\n",
       "            await google.colab.kernel.invokeFunction('convertToInteractive',\n",
       "                                                     [key], {});\n",
       "          if (!dataTable) return;\n",
       "\n",
       "          const docLinkHtml = 'Like what you see? Visit the ' +\n",
       "            '<a target=\"_blank\" href=https://colab.research.google.com/notebooks/data_table.ipynb>data table notebook</a>'\n",
       "            + ' to learn more about interactive tables.';\n",
       "          element.innerHTML = '';\n",
       "          dataTable['output_type'] = 'display_data';\n",
       "          await google.colab.output.renderOutput(dataTable, element);\n",
       "          const docLink = document.createElement('div');\n",
       "          docLink.innerHTML = docLinkHtml;\n",
       "          element.appendChild(docLink);\n",
       "        }\n",
       "      </script>\n",
       "    </div>\n",
       "  </div>\n",
       "  "
      ],
      "text/plain": [
       "   Gender  Age  Annual Income (k$)  Spending Score (1-100)\n",
       "0    Male   19                  15                      39\n",
       "1    Male   21                  15                      81\n",
       "2  Female   20                  16                       6\n",
       "3  Female   23                  16                      77\n",
       "4  Female   31                  17                      40"
      ]
     },
     "metadata": {},
     "execution_count": 21
    }
   ]
  }
 ]
}
