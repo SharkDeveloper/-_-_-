{
  "nbformat": 4,
  "nbformat_minor": 0,
  "metadata": {
    "colab": {
      "provenance": []
    },
    "kernelspec": {
      "name": "python3",
      "display_name": "Python 3"
    },
    "language_info": {
      "name": "python"
    }
  },
  "cells": [
    {
      "cell_type": "markdown",
      "source": [
        "#Лабораторная работа №1\n",
        "Создание нейронной сети, выполняющей бинарную классификацию"
      ],
      "metadata": {
        "id": "lDJJ0cNmdgKQ"
      }
    },
    {
      "cell_type": "markdown",
      "source": [
        "##Теоретическая часть"
      ],
      "metadata": {
        "id": "B1J44fRHke8n"
      }
    },
    {
      "cell_type": "code",
      "metadata": {
        "id": "iVkHruei2FcH"
      },
      "source": [
        "import numpy as np\n",
        "import random"
      ],
      "execution_count": null,
      "outputs": []
    },
    {
      "cell_type": "markdown",
      "source": [
        "Создадим цифры, из которых будет состоять наш датасет"
      ],
      "metadata": {
        "id": "Yx33PUKk2q9V"
      }
    },
    {
      "cell_type": "code",
      "metadata": {
        "id": "rECXGi7a2_xM"
      },
      "source": [
        "numbers = list()\n",
        "numbers.append(([[1, 1, 1],\n",
        "                 [1, 0, 1],\n",
        "                 [1, 0, 1],\n",
        "                 [1, 0, 1],\n",
        "                 [1, 1, 1]], 0))"
      ],
      "execution_count": null,
      "outputs": []
    },
    {
      "cell_type": "code",
      "metadata": {
        "id": "3gUAKG-V3h7-"
      },
      "source": [
        "numbers.append(([[0, 0, 1],\n",
        "                 [0, 0, 1],\n",
        "                 [0, 0, 1],\n",
        "                 [0, 0, 1],\n",
        "                 [0, 0, 1]], 1))\n",
        "\n",
        "numbers.append(([[1, 1, 1],\n",
        "                 [0, 0, 1],\n",
        "                 [1, 1, 1],\n",
        "                 [1, 0, 0],\n",
        "                 [1, 1, 1]], 2))\n",
        "\n",
        "numbers.append(([[1, 1, 1],\n",
        "                 [0, 0, 1],\n",
        "                 [1, 1, 1],\n",
        "                 [0, 0, 1],\n",
        "                 [1, 1, 1]], 3))\n",
        "\n",
        "numbers.append(([[1, 0, 1],\n",
        "                 [1, 0, 1],\n",
        "                 [1, 1, 1],\n",
        "                 [0, 0, 1],\n",
        "                 [0, 0, 1]], 4))\n",
        "\n",
        "numbers.append(([[1, 1, 1],\n",
        "                 [1, 0, 0],\n",
        "                 [1, 1, 1],\n",
        "                 [0, 0, 1],\n",
        "                 [1, 1, 1]], 5))\n",
        "\n",
        "numbers.append(([[1, 1, 1],\n",
        "                 [1, 0, 0],\n",
        "                 [1, 1, 1],\n",
        "                 [1, 0, 1],\n",
        "                 [1, 1, 1]], 6))\n",
        "\n",
        "numbers.append(([[1, 1, 1],\n",
        "                 [0, 0, 1],\n",
        "                 [0, 0, 1],\n",
        "                 [0, 0, 1],\n",
        "                 [0, 0, 1]], 7))\n",
        "\n",
        "numbers.append(([[1, 1, 1],\n",
        "                 [1, 0, 1],\n",
        "                 [1, 1, 1],\n",
        "                 [1, 0, 1],\n",
        "                 [1, 1, 1]], 8))\n",
        "\n",
        "numbers.append(([[1, 1, 1],\n",
        "                 [1, 0, 1],\n",
        "                 [1, 1, 1],\n",
        "                 [0, 0, 1],\n",
        "                 [1, 1, 1]], 9))"
      ],
      "execution_count": null,
      "outputs": []
    },
    {
      "cell_type": "markdown",
      "source": [
        "Сформируем датасет"
      ],
      "metadata": {
        "id": "WoZSLjzN2yW1"
      }
    },
    {
      "cell_type": "code",
      "metadata": {
        "id": "t949jYvz4Cpm"
      },
      "source": [
        "dataset = list()\n",
        "for i in range(10000):\n",
        "  dataset.append(random.choice(numbers))"
      ],
      "execution_count": null,
      "outputs": []
    },
    {
      "cell_type": "markdown",
      "source": [
        "Выведем случайную цифру из датасета"
      ],
      "metadata": {
        "id": "yLBAzI7W21Zs"
      }
    },
    {
      "cell_type": "code",
      "metadata": {
        "colab": {
          "base_uri": "https://localhost:8080/"
        },
        "id": "AeFgrSq5HvcY",
        "outputId": "f39bc03b-9d7c-4e1e-ba4e-a7f9e5a6ca25"
      },
      "source": [
        "random.choice(dataset)"
      ],
      "execution_count": null,
      "outputs": [
        {
          "output_type": "execute_result",
          "data": {
            "text/plain": [
              "([[1, 1, 1], [1, 0, 1], [1, 1, 1], [1, 0, 1], [1, 1, 1]], 8)"
            ]
          },
          "metadata": {},
          "execution_count": 5
        }
      ]
    },
    {
      "cell_type": "markdown",
      "source": [
        "Заполним единицами вектор весов связей между нейронами"
      ],
      "metadata": {
        "id": "erAQL5so-PxT"
      }
    },
    {
      "cell_type": "code",
      "metadata": {
        "id": "Be_a0YUG5Mrd"
      },
      "source": [
        "first_layer_weights = np.ones((15, 1))"
      ],
      "execution_count": null,
      "outputs": []
    },
    {
      "cell_type": "markdown",
      "source": [
        "Создадим функцию активации, возвращающую единицу, если сумма полученных сигналов выше определенного порога"
      ],
      "metadata": {
        "id": "2h2_y0TG-8A6"
      }
    },
    {
      "cell_type": "code",
      "metadata": {
        "id": "Hb_ll0Co8Wb0"
      },
      "source": [
        "def result_bin_class(result):\n",
        "  if (result > 8):\n",
        "    return True\n",
        "  else:\n",
        "    return False"
      ],
      "execution_count": null,
      "outputs": []
    },
    {
      "cell_type": "markdown",
      "source": [
        "Создадим функцию подсчета суммарного веса полученных сигналов"
      ],
      "metadata": {
        "id": "emFMM0VB_J5J"
      }
    },
    {
      "cell_type": "code",
      "metadata": {
        "id": "uJLlX4819I7L"
      },
      "source": [
        "def calculate_res(input_number, first_layer_weights):\n",
        "  sum = 0\n",
        "  for i in range(15):\n",
        "    sum += input_number[0][i//3][i%3] * first_layer_weights[i]\n",
        "  return sum"
      ],
      "execution_count": null,
      "outputs": []
    },
    {
      "cell_type": "markdown",
      "source": [
        "Зададим функцию, формирующую сигнал корректировки весов в зависимости от соотношения ответа нейронной сети и правильного ответа"
      ],
      "metadata": {
        "id": "zFFA136E_c15"
      }
    },
    {
      "cell_type": "code",
      "metadata": {
        "id": "bM85bDsSCzT0"
      },
      "source": [
        "def weight_changing(positive, target):\n",
        "  k = 0\n",
        "  if (positive and not target):\n",
        "    k = -0.1\n",
        "  elif (not positive and target):\n",
        "    k = 0.1\n",
        "  return k"
      ],
      "execution_count": null,
      "outputs": []
    },
    {
      "cell_type": "markdown",
      "source": [
        "Пропишем функции для обучения нейронной сети"
      ],
      "metadata": {
        "id": "QB7m1NRjBWJL"
      }
    },
    {
      "cell_type": "code",
      "metadata": {
        "id": "zNjlROBy_mor"
      },
      "source": [
        "def learn(input_number, first_layer_weights, target):\n",
        "  k = weight_changing(result_bin_class(calculate_res(input_number, first_layer_weights)), True if input_number[1] == target else False)\n",
        "  for i in range(15):\n",
        "    first_layer_weights[i] += input_number[0][i//3][i%3] * k\n",
        "  return first_layer_weights"
      ],
      "execution_count": null,
      "outputs": []
    },
    {
      "cell_type": "code",
      "metadata": {
        "id": "fZSG5hNbByt7"
      },
      "source": [
        "def train_nn(input_dataset, first_layer_weights, target, size_of_data):\n",
        "  for i in range(size_of_data):\n",
        "    first_layer_weights = learn(random.choice(input_dataset), first_layer_weights, target)"
      ],
      "execution_count": null,
      "outputs": []
    },
    {
      "cell_type": "code",
      "metadata": {
        "id": "A0HIXgGDHesh"
      },
      "source": [
        "train_nn(dataset, first_layer_weights, 1, 800)"
      ],
      "execution_count": null,
      "outputs": []
    },
    {
      "cell_type": "code",
      "metadata": {
        "colab": {
          "base_uri": "https://localhost:8080/"
        },
        "id": "VcvMbeIcIJa4",
        "outputId": "b52d577d-475e-4ae1-f41e-3b5af3f851a7"
      },
      "source": [
        "first_layer_weights"
      ],
      "execution_count": null,
      "outputs": [
        {
          "output_type": "execute_result",
          "data": {
            "text/plain": [
              "array([[-0.2],\n",
              "       [-0.1],\n",
              "       [ 1.6],\n",
              "       [-0.1],\n",
              "       [ 1. ],\n",
              "       [ 1.7],\n",
              "       [-0.2],\n",
              "       [ 0.1],\n",
              "       [ 1.6],\n",
              "       [ 0.1],\n",
              "       [ 1. ],\n",
              "       [ 1.7],\n",
              "       [-0.1],\n",
              "       [-0.1],\n",
              "       [ 1.6]])"
            ]
          },
          "metadata": {},
          "execution_count": 13
        }
      ]
    },
    {
      "cell_type": "markdown",
      "source": [
        "Создадим функции для тестирования обученной нейронной сети"
      ],
      "metadata": {
        "id": "iBBUgXQABgj_"
      }
    },
    {
      "cell_type": "code",
      "metadata": {
        "id": "0xqLV9VwJaOB"
      },
      "source": [
        "def test(input_number, first_layer_weights, target):\n",
        "  if (result_bin_class(calculate_res(input_number, first_layer_weights)) == (True if input_number[1] == target else False)):\n",
        "    return 1\n",
        "  else:\n",
        "    return 0"
      ],
      "execution_count": null,
      "outputs": []
    },
    {
      "cell_type": "code",
      "metadata": {
        "id": "6cX1PXpMIV_H"
      },
      "source": [
        "def test_nn(input_dataset, first_layer_weights, target, size_of_data):\n",
        "  res = 0\n",
        "  for i in range(size_of_data):\n",
        "    res += test(random.choice(input_dataset), first_layer_weights, target)\n",
        "  return (res / size_of_data)"
      ],
      "execution_count": null,
      "outputs": []
    },
    {
      "cell_type": "code",
      "metadata": {
        "colab": {
          "base_uri": "https://localhost:8080/"
        },
        "id": "fasbJx9yKP0v",
        "outputId": "48276ca0-9985-4534-f6b5-3933e47a0743"
      },
      "source": [
        "print('Accuracy-score: ', test_nn(dataset, first_layer_weights, 1, 200))"
      ],
      "execution_count": null,
      "outputs": [
        {
          "output_type": "stream",
          "name": "stdout",
          "text": [
            "Accuracy-score:  1.0\n"
          ]
        }
      ]
    },
    {
      "cell_type": "code",
      "metadata": {
        "id": "TFFQVBf6LJUI"
      },
      "source": [
        "first_layer_weights = np.ones((15, 1))\n",
        "train_nn(dataset, first_layer_weights, 5, 8000)"
      ],
      "execution_count": null,
      "outputs": []
    },
    {
      "cell_type": "code",
      "metadata": {
        "colab": {
          "base_uri": "https://localhost:8080/"
        },
        "id": "4f1G1rHqLJM5",
        "outputId": "0708754b-3f86-4615-99f6-b8523f61c660"
      },
      "source": [
        "first_layer_weights"
      ],
      "execution_count": null,
      "outputs": [
        {
          "output_type": "execute_result",
          "data": {
            "text/plain": [
              "array([[ 0.7],\n",
              "       [ 0.7],\n",
              "       [ 0.7],\n",
              "       [ 0.8],\n",
              "       [ 1. ],\n",
              "       [-0.2],\n",
              "       [ 0.7],\n",
              "       [ 0.9],\n",
              "       [ 0.7],\n",
              "       [-0.2],\n",
              "       [ 1. ],\n",
              "       [ 0.8],\n",
              "       [ 0.7],\n",
              "       [ 0.7],\n",
              "       [ 0.7]])"
            ]
          },
          "metadata": {},
          "execution_count": 18
        }
      ]
    },
    {
      "cell_type": "code",
      "metadata": {
        "colab": {
          "base_uri": "https://localhost:8080/"
        },
        "id": "-1PtDE-pLJEx",
        "outputId": "2f9acc84-93b3-4490-cd7b-4bbe7e33ae71"
      },
      "source": [
        "print('Accuracy-score: ', test_nn(dataset, first_layer_weights, 5, 2000))"
      ],
      "execution_count": null,
      "outputs": [
        {
          "output_type": "stream",
          "name": "stdout",
          "text": [
            "Accuracy-score:  1.0\n"
          ]
        }
      ]
    },
    {
      "cell_type": "markdown",
      "source": [
        "Попробуем создать зашумленный датасет и проверить как нейронная сеть справится с его обработкой"
      ],
      "metadata": {
        "id": "IR-_TixsCzMX"
      }
    },
    {
      "cell_type": "code",
      "metadata": {
        "id": "HLRp8txBNlTT"
      },
      "source": [
        "noise_dataset = list()\n",
        "for i in range(10000):\n",
        "  noise_dataset.append(random.choice(numbers))\n",
        "  for j in range(15):\n",
        "    noise_dataset[i][0][j//3][j%3] += (random.randint(-2, 2) * 0.1)"
      ],
      "execution_count": null,
      "outputs": []
    },
    {
      "cell_type": "code",
      "metadata": {
        "colab": {
          "base_uri": "https://localhost:8080/"
        },
        "id": "DycUth0zP0sy",
        "outputId": "3e6e2850-1962-4c43-cb40-90e7f983fa72"
      },
      "source": [
        "random.choice(noise_dataset)"
      ],
      "execution_count": null,
      "outputs": [
        {
          "output_type": "execute_result",
          "data": {
            "text/plain": [
              "([[2.600000000000001, -1.7999999999999998, -3.399999999999998],\n",
              "  [-0.4000000000000018, -4.399999999999997, 5.899999999999996],\n",
              "  [-1.9000000000000028, 3.399999999999998, -2.9000000000000017],\n",
              "  [2.7000000000000006, -4.199999999999998, 3.600000000000002],\n",
              "  [2.8999999999999915, 4.199999999999999, -9.399999999999993]],\n",
              " 5)"
            ]
          },
          "metadata": {},
          "execution_count": 21
        }
      ]
    },
    {
      "cell_type": "code",
      "metadata": {
        "id": "yxHdVfMxXzpb"
      },
      "source": [
        "numbers = list()\n",
        "numbers.append(([[1, 1, 1],\n",
        "                 [1, 0, 1],\n",
        "                 [1, 0, 1],\n",
        "                 [1, 0, 1],\n",
        "                 [1, 1, 1]], 0))\n",
        "\n",
        "numbers.append(([[0, 0, 1],\n",
        "                 [0, 0, 1],\n",
        "                 [0, 0, 1],\n",
        "                 [0, 0, 1],\n",
        "                 [0, 0, 1]], 1))\n",
        "\n",
        "numbers.append(([[1, 1, 1],\n",
        "                 [0, 0, 1],\n",
        "                 [1, 1, 1],\n",
        "                 [1, 0, 0],\n",
        "                 [1, 1, 1]], 2))\n",
        "\n",
        "numbers.append(([[1, 1, 1],\n",
        "                 [0, 0, 1],\n",
        "                 [1, 1, 1],\n",
        "                 [0, 0, 1],\n",
        "                 [1, 1, 1]], 3))\n",
        "\n",
        "numbers.append(([[1, 0, 1],\n",
        "                 [1, 0, 1],\n",
        "                 [1, 1, 1],\n",
        "                 [0, 0, 1],\n",
        "                 [0, 0, 1]], 4))\n",
        "\n",
        "numbers.append(([[1, 1, 1],\n",
        "                 [1, 0, 0],\n",
        "                 [1, 1, 1],\n",
        "                 [0, 0, 1],\n",
        "                 [1, 1, 1]], 5))\n",
        "\n",
        "numbers.append(([[1, 1, 1],\n",
        "                 [1, 0, 0],\n",
        "                 [1, 1, 1],\n",
        "                 [1, 0, 1],\n",
        "                 [1, 1, 1]], 6))\n",
        "\n",
        "numbers.append(([[1, 1, 1],\n",
        "                 [0, 0, 1],\n",
        "                 [0, 0, 1],\n",
        "                 [0, 0, 1],\n",
        "                 [0, 0, 1]], 7))\n",
        "\n",
        "numbers.append(([[1, 1, 1],\n",
        "                 [1, 0, 1],\n",
        "                 [1, 1, 1],\n",
        "                 [1, 0, 1],\n",
        "                 [1, 1, 1]], 8))\n",
        "\n",
        "numbers.append(([[1, 1, 1],\n",
        "                 [1, 0, 1],\n",
        "                 [1, 1, 1],\n",
        "                 [0, 0, 1],\n",
        "                 [1, 1, 1]], 9))"
      ],
      "execution_count": null,
      "outputs": []
    },
    {
      "cell_type": "code",
      "metadata": {
        "id": "uai_q-4pQ55L"
      },
      "source": [
        "import copy\n",
        "noise_dataset = list()\n",
        "for i in range(10000):\n",
        "  noise_dataset.append(copy.deepcopy(random.choice(numbers)))\n",
        "  for j in range(15):\n",
        "    noise_dataset[i][0][j//3][j%3] += (random.randint(-30, 30) * 0.01)"
      ],
      "execution_count": null,
      "outputs": []
    },
    {
      "cell_type": "code",
      "metadata": {
        "colab": {
          "base_uri": "https://localhost:8080/"
        },
        "id": "mWfsL8xFREUp",
        "outputId": "5a6345f3-882c-4f28-8439-63656b3d9823"
      },
      "source": [
        "random.choice(noise_dataset)"
      ],
      "execution_count": null,
      "outputs": [
        {
          "output_type": "execute_result",
          "data": {
            "text/plain": [
              "([[1.0, 1.03, 1.1400000000000001],\n",
              "  [0.74, -0.29, -0.23],\n",
              "  [1.02, 1.29, 0.98],\n",
              "  [1.04, -0.03, 1.27],\n",
              "  [0.95, 1.1400000000000001, 0.73]],\n",
              " 6)"
            ]
          },
          "metadata": {},
          "execution_count": 56
        }
      ]
    },
    {
      "cell_type": "code",
      "metadata": {
        "id": "YKDxJKnKRJxx"
      },
      "source": [
        "first_layer_weights = np.ones((15, 1))\n",
        "train_nn(noise_dataset, first_layer_weights, 4, 8000)"
      ],
      "execution_count": null,
      "outputs": []
    },
    {
      "cell_type": "code",
      "metadata": {
        "id": "EMOjGU8WZRwA"
      },
      "source": [
        "train_nn(noise_dataset, first_layer_weights, 4, 8000)"
      ],
      "execution_count": null,
      "outputs": []
    },
    {
      "cell_type": "code",
      "metadata": {
        "colab": {
          "base_uri": "https://localhost:8080/"
        },
        "id": "7y9yy7BARVYo",
        "outputId": "2efff2ae-7cae-4541-d1bc-f53a7ad3bd68"
      },
      "source": [
        "first_layer_weights"
      ],
      "execution_count": null,
      "outputs": [
        {
          "output_type": "execute_result",
          "data": {
            "text/plain": [
              "array([[ 1.654],\n",
              "       [-2.968],\n",
              "       [ 0.28 ],\n",
              "       [ 2.205],\n",
              "       [-0.464],\n",
              "       [ 0.883],\n",
              "       [ 1.848],\n",
              "       [ 1.819],\n",
              "       [ 0.745],\n",
              "       [-0.805],\n",
              "       [-0.281],\n",
              "       [ 0.59 ],\n",
              "       [-2.571],\n",
              "       [-2.305],\n",
              "       [ 0.695]])"
            ]
          },
          "metadata": {},
          "execution_count": 54
        }
      ]
    },
    {
      "cell_type": "code",
      "metadata": {
        "colab": {
          "base_uri": "https://localhost:8080/"
        },
        "id": "onJn9Ma3RgFN",
        "outputId": "da7255cb-aadc-4336-ac64-0a0e472ce15d"
      },
      "source": [
        "print('Accuracy-score: ', test_nn(noise_dataset, first_layer_weights, 4, 2000))"
      ],
      "execution_count": null,
      "outputs": [
        {
          "output_type": "stream",
          "name": "stdout",
          "text": [
            "Accuracy-score:  1.0\n"
          ]
        }
      ]
    },
    {
      "cell_type": "markdown",
      "source": [
        "Попробуем создать датасет с отсутствующей нормализацией некоторых значений"
      ],
      "metadata": {
        "id": "Toe3SSe8DAX0"
      }
    },
    {
      "cell_type": "code",
      "metadata": {
        "id": "_VJa42WQYGqN"
      },
      "source": [
        "dataset_without_normalize = list()\n",
        "for i in range(10000):\n",
        "  dataset_without_normalize.append(copy.deepcopy(random.choice(numbers)))\n",
        "  for j in range(15):\n",
        "    dataset_without_normalize[i][0][j//3][j%3] += (random.randint(-20, 20) * 0.01)\n",
        "    if j in [1, 5, 9]:\n",
        "      dataset_without_normalize[i][0][j//3][j%3] *= 255"
      ],
      "execution_count": null,
      "outputs": []
    },
    {
      "cell_type": "code",
      "metadata": {
        "colab": {
          "base_uri": "https://localhost:8080/"
        },
        "id": "2uTd6cgCYlOP",
        "outputId": "f959fc41-7c0c-4bb4-dba2-47ef7b869a8b"
      },
      "source": [
        "print(random.choice(dataset_without_normalize))"
      ],
      "execution_count": null,
      "outputs": [
        {
          "output_type": "stream",
          "name": "stdout",
          "text": [
            "([[1.19, 219.29999999999998, 1.16], [1.06, -0.18, 214.2], [1.06, 1.06, 0.84], [260.1, 0.15, 0.97], [0.87, 1.03, 1.2]], 8)\n"
          ]
        }
      ]
    },
    {
      "cell_type": "code",
      "metadata": {
        "id": "k9ROHXnqY06B"
      },
      "source": [
        "first_layer_weights = np.ones((15, 1))\n",
        "train_nn(dataset_without_normalize, first_layer_weights, 9, 8000)"
      ],
      "execution_count": null,
      "outputs": []
    },
    {
      "cell_type": "code",
      "metadata": {
        "id": "pvcg3jrjZHcQ"
      },
      "source": [
        "train_nn(dataset_without_normalize, first_layer_weights, 9, 8000)"
      ],
      "execution_count": null,
      "outputs": []
    },
    {
      "cell_type": "code",
      "metadata": {
        "colab": {
          "base_uri": "https://localhost:8080/"
        },
        "id": "loDcRAcFY0vy",
        "outputId": "17509998-52d1-4960-9e0c-abe20da8c66a"
      },
      "source": [
        "print('Accuracy-score: ', test_nn(dataset_without_normalize, first_layer_weights, 9, 2000))"
      ],
      "execution_count": null,
      "outputs": [
        {
          "output_type": "stream",
          "name": "stdout",
          "text": [
            "Accuracy-score:  0.669\n"
          ]
        }
      ]
    },
    {
      "cell_type": "markdown",
      "source": [
        "Для сравнения проведем такой же эксперимент для датасета с нормализацией"
      ],
      "metadata": {
        "id": "YQrVjhvyDLes"
      }
    },
    {
      "cell_type": "code",
      "metadata": {
        "id": "gi9rUBDbaNBl"
      },
      "source": [
        "dataset_with_normalize = list()\n",
        "for i in range(10000):\n",
        "  dataset_with_normalize.append(copy.deepcopy(dataset_without_normalize[i]))\n",
        "  for j in [1, 5, 9]:\n",
        "    if dataset_with_normalize[i][0][j//3][j%3] != 0:\n",
        "      dataset_with_normalize[i][0][j//3][j%3] /= 255"
      ],
      "execution_count": null,
      "outputs": []
    },
    {
      "cell_type": "code",
      "metadata": {
        "colab": {
          "base_uri": "https://localhost:8080/"
        },
        "id": "TBVjW_BMbVvG",
        "outputId": "57f315ca-d985-4150-b13f-20df21706a27"
      },
      "source": [
        "print(random.choice(dataset_with_normalize))"
      ],
      "execution_count": null,
      "outputs": [
        {
          "output_type": "stream",
          "name": "stdout",
          "text": [
            "([[0.9, 1.12, 1.05], [0.05, 0.2, 0.85], [-0.19, -0.14, 0.89], [0.06, -0.15, 0.92], [-0.12, 0.2, 1.11]], 7)\n"
          ]
        }
      ]
    },
    {
      "cell_type": "code",
      "metadata": {
        "id": "ys01SfbyYGfU"
      },
      "source": [
        "first_layer_weights = np.ones((15, 1))\n",
        "train_nn(dataset_with_normalize, first_layer_weights, 9, 8000)"
      ],
      "execution_count": null,
      "outputs": []
    },
    {
      "cell_type": "code",
      "metadata": {
        "id": "fC963DZWbeUc"
      },
      "source": [
        "train_nn(dataset_with_normalize, first_layer_weights, 9, 8000)"
      ],
      "execution_count": null,
      "outputs": []
    },
    {
      "cell_type": "code",
      "metadata": {
        "colab": {
          "base_uri": "https://localhost:8080/"
        },
        "id": "JygrwBc3bamg",
        "outputId": "50acb00e-b41f-49ba-b23d-b1bf78e55d9a"
      },
      "source": [
        "print('Accuracy-score: ', test_nn(dataset_with_normalize, first_layer_weights, 9, 2000))"
      ],
      "execution_count": null,
      "outputs": [
        {
          "output_type": "stream",
          "name": "stdout",
          "text": [
            "Accuracy-score:  0.9965\n"
          ]
        }
      ]
    },
    {
      "cell_type": "markdown",
      "source": [
        "##Практическая часть"
      ],
      "metadata": {
        "id": "DEEC_hXHkpK6"
      }
    },
    {
      "cell_type": "code",
      "source": [
        "dataset = list()\n",
        "\n",
        "dataset.append(([0, 0],0))\n",
        "dataset.append(([0, 1],1))\n",
        "dataset.append(([1, 0],1))\n",
        "dataset.append(([1, 1],1))"
      ],
      "metadata": {
        "id": "pXZwDlaPeqFg"
      },
      "execution_count": null,
      "outputs": []
    },
    {
      "cell_type": "code",
      "source": [
        "import copy\n",
        "import random\n",
        "noise_dataset = list()\n",
        "for i in range(10000):\n",
        "  noise_dataset.append(copy.deepcopy(random.choice(dataset)))\n",
        "  for j in range(2):\n",
        "    noise_dataset[i][0][j] += (random.randint(-45, 45) * 0.01)"
      ],
      "metadata": {
        "id": "tJz56ukXfQQM"
      },
      "execution_count": null,
      "outputs": []
    },
    {
      "cell_type": "code",
      "source": [
        "random.choice(noise_dataset)"
      ],
      "metadata": {
        "colab": {
          "base_uri": "https://localhost:8080/"
        },
        "id": "jQHItQKLgATl",
        "outputId": "5742f318-c20e-4396-b954-e8820479cd8a"
      },
      "execution_count": null,
      "outputs": [
        {
          "output_type": "execute_result",
          "data": {
            "text/plain": [
              "([1.24, -0.18], 1)"
            ]
          },
          "metadata": {},
          "execution_count": 41
        }
      ]
    },
    {
      "cell_type": "markdown",
      "source": [
        "**Задание (базовый уровень):**\n",
        "Создать модель (без использования готовых решений) простейшего перцептрона, которая будет выполнять функцию логического \"ИЛИ\".\n",
        "\n",
        "**Задание (повышенный уровень):**\n",
        "Создать модель (без использования готовых решений) перцептрона, которая будет выполнять функцию исключающего \"ИЛИ\".\n",
        "\n",
        "*Общее требование:*  Обучение и тестирование должно проходить на зашумленных данных (уровень шума +- 0.45). "
      ],
      "metadata": {
        "id": "3OfU4DiyegEw"
      }
    },
    {
      "cell_type": "code",
      "source": [],
      "metadata": {
        "id": "1n7jcJuwdg3O"
      },
      "execution_count": null,
      "outputs": []
    }
  ]
}