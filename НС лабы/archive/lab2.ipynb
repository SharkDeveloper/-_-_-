{
 "nbformat": 4,
 "nbformat_minor": 0,
 "metadata": {
  "colab": {
   "provenance": []
  },
  "kernelspec": {
   "name": "python3",
   "display_name": "Python 3"
  },
  "language_info": {
   "name": "python"
  }
 },
 "cells": [
  {
   "cell_type": "markdown",
   "source": [
    "#Лабораторная работа №2\n",
    "\n",
    "Создание нейронной сети, выполняющей мультиклассовую классификацию"
   ],
   "metadata": {
    "id": "lDJJ0cNmdgKQ"
   }
  },
  {
   "cell_type": "code",
   "source": [
    "import random\n",
    "\n",
    "dataset = list()\n",
    "\n",
    "actions = ['+','-']\n",
    "\n",
    "\n",
    "for i in range(10000):\n",
    "  temp = list()\n",
    "  temp.append(random.randint(-100, 100) * 0.01)\n",
    "  temp.append(random.randint(-100, 100) * 0.01)\n",
    "  temp.append(random.randint(0, 1))\n",
    "  if temp[2]:\n",
    "    if temp[0] - temp[1] < 0:\n",
    "      temp.append(0)\n",
    "    elif temp[0] - temp[1] == 0:\n",
    "      temp.append(1)\n",
    "    else:\n",
    "      temp.append(2)\n",
    "  else:\n",
    "    if temp[0] + temp[1] < 0:\n",
    "      temp.append(0)\n",
    "    elif temp[0] + temp[1] == 0:\n",
    "      temp.append(1)\n",
    "    else:\n",
    "      temp.append(2)\n",
    "  dataset.append(temp)\n"
   ],
   "metadata": {
    "id": "pXZwDlaPeqFg"
   },
   "execution_count": null,
   "outputs": []
  },
  {
   "cell_type": "code",
   "source": [
    "random.choice(dataset)"
   ],
   "metadata": {
    "colab": {
     "base_uri": "https://localhost:8080/"
    },
    "id": "jQHItQKLgATl",
    "outputId": "2e4dda92-0ec2-4bef-dc23-0a7509456870"
   },
   "execution_count": null,
   "outputs": [
    {
     "output_type": "execute_result",
     "data": {
      "text/plain": [
       "[1.0, -0.14, 1, 2]"
      ]
     },
     "metadata": {},
     "execution_count": 35
    }
   ]
  },
  {
   "cell_type": "markdown",
   "source": [
    "В качестве примера создания использовать [пример с лекции](https://colab.research.google.com/drive/1g8jqXG-LzFTENzY_dSLQwtumOjXgbcI9?usp=sharing)."
   ],
   "metadata": {
    "id": "Ff7dgRi0jaOm"
   }
  },
  {
   "cell_type": "markdown",
   "source": [
    "**Задание (базовый уровень):**\n",
    "Создать модель (без использования готовых решений) перцептрона, которая будет определять к какому классу относится релультат операции {+, -}: {отрицательное число, ноль, положительное число}.\n",
    "\n",
    "**Задание (повышенный уровень):**\n",
    "Создать модель (без использования готовых решений) перцептрона, которая будет определять к какому классу относится релультат операции {+, -, /, *}: {отрицательное число, ноль, положительное число, inf}."
   ],
   "metadata": {
    "id": "3OfU4DiyegEw"
   }
  },
  {
   "cell_type": "code",
   "source": [],
   "metadata": {
    "id": "1n7jcJuwdg3O"
   },
   "execution_count": null,
   "outputs": []
  }
 ]
}
