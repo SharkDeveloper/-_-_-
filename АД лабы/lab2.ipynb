{
 "nbformat": 4,
 "nbformat_minor": 0,
 "metadata": {
  "colab": {
   "provenance": []
  },
  "kernelspec": {
   "name": "python3",
   "display_name": "Python 3"
  },
  "language_info": {
   "name": "python"
  }
 },
 "cells": [
  {
   "cell_type": "markdown",
   "metadata": {
    "id": "4VrDf6LPqSOp"
   },
   "source": [
    "# *Лабораторная работа №2*"
   ]
  },
  {
   "cell_type": "markdown",
   "metadata": {
    "id": "SAioj7P8qVIm"
   },
   "source": [
    "## Построение регрессора для предсказания непрерывной величины (Теоретическая часть)"
   ]
  },
  {
   "cell_type": "markdown",
   "metadata": {
    "id": "E03HyFeB74Yv"
   },
   "source": [
    "В данной лабораторной работе будет рассматриваться построение регрессионной модели для предсказания непрерывной величины."
   ]
  },
  {
   "cell_type": "code",
   "metadata": {
    "id": "Hzbv9HijCZb5"
   },
   "source": [
    "import pandas as pd\n",
    "from sklearn import ensemble\n",
    "from sklearn.ensemble import RandomForestRegressor\n",
    "from sklearn.metrics import mean_absolute_error\n",
    "from sklearn.model_selection import train_test_split\n",
    "\n",
    "from keras.wrappers.scikit_learn import KerasRegressor\n",
    "from keras.models import Sequential\n",
    "from keras.layers import Dense\n",
    "\n",
    "import matplotlib.pyplot as plt\n",
    "\n",
    "import warnings\n",
    "warnings.simplefilter(action='ignore', category=FutureWarning)"
   ],
   "execution_count": null,
   "outputs": []
  },
  {
   "cell_type": "markdown",
   "metadata": {
    "id": "_5pb3Xhk_Zwd"
   },
   "source": [
    "Для примера построения регрессионной модели возьмем датасет, работу по очистке которого мы производили в рамках первой лекции (https://colab.research.google.com/drive/1fl7f7-8WA5GIjZ6qghfiD_2sEaCc1DQH?usp=sharing)."
   ]
  },
  {
   "cell_type": "code",
   "metadata": {
    "id": "4R66wifDb9lM"
   },
   "source": [
    "%%capture\n",
    "!wget https://www.dropbox.com/s/s1sqfsi6x7hbs28/autos_mod.csv"
   ],
   "execution_count": null,
   "outputs": []
  },
  {
   "cell_type": "code",
   "metadata": {
    "id": "mGOGyGJ_EjaB"
   },
   "source": [
    "df = pd.read_csv('autos_mod.csv', encoding='iso-8859-1')"
   ],
   "execution_count": null,
   "outputs": []
  },
  {
   "cell_type": "code",
   "metadata": {
    "colab": {
     "base_uri": "https://localhost:8080/",
     "height": 363
    },
    "id": "BP5XyKgPEmO5",
    "outputId": "3858243c-145f-41a7-fb4d-a92594709fe2"
   },
   "source": [
    "df.sample(10)"
   ],
   "execution_count": null,
   "outputs": [
    {
     "output_type": "execute_result",
     "data": {
      "text/html": [
       "\n",
       "  <div id=\"df-85954b67-98b3-4948-9795-c97583f1c2ce\">\n",
       "    <div class=\"colab-df-container\">\n",
       "      <div>\n",
       "<style scoped>\n",
       "    .dataframe tbody tr th:only-of-type {\n",
       "        vertical-align: middle;\n",
       "    }\n",
       "\n",
       "    .dataframe tbody tr th {\n",
       "        vertical-align: top;\n",
       "    }\n",
       "\n",
       "    .dataframe thead th {\n",
       "        text-align: right;\n",
       "    }\n",
       "</style>\n",
       "<table border=\"1\" class=\"dataframe\">\n",
       "  <thead>\n",
       "    <tr style=\"text-align: right;\">\n",
       "      <th></th>\n",
       "      <th>Unnamed: 0</th>\n",
       "      <th>price</th>\n",
       "      <th>vehicleType</th>\n",
       "      <th>yearOfRegistration</th>\n",
       "      <th>gearbox</th>\n",
       "      <th>powerPS</th>\n",
       "      <th>model</th>\n",
       "      <th>kilometer</th>\n",
       "      <th>fuelType</th>\n",
       "      <th>brand</th>\n",
       "      <th>notRepairedDamage</th>\n",
       "    </tr>\n",
       "  </thead>\n",
       "  <tbody>\n",
       "    <tr>\n",
       "      <th>165549</th>\n",
       "      <td>186572</td>\n",
       "      <td>1500</td>\n",
       "      <td>limousine</td>\n",
       "      <td>1996</td>\n",
       "      <td>manuell</td>\n",
       "      <td>150</td>\n",
       "      <td>5er</td>\n",
       "      <td>150000</td>\n",
       "      <td>benzin</td>\n",
       "      <td>bmw</td>\n",
       "      <td>ja</td>\n",
       "    </tr>\n",
       "    <tr>\n",
       "      <th>255247</th>\n",
       "      <td>287512</td>\n",
       "      <td>100</td>\n",
       "      <td>kleinwagen</td>\n",
       "      <td>1992</td>\n",
       "      <td>manuell</td>\n",
       "      <td>75</td>\n",
       "      <td>golf</td>\n",
       "      <td>150000</td>\n",
       "      <td>benzin</td>\n",
       "      <td>volkswagen</td>\n",
       "      <td>NaN</td>\n",
       "    </tr>\n",
       "    <tr>\n",
       "      <th>165568</th>\n",
       "      <td>186593</td>\n",
       "      <td>7299</td>\n",
       "      <td>limousine</td>\n",
       "      <td>2008</td>\n",
       "      <td>manuell</td>\n",
       "      <td>105</td>\n",
       "      <td>golf</td>\n",
       "      <td>150000</td>\n",
       "      <td>diesel</td>\n",
       "      <td>volkswagen</td>\n",
       "      <td>nein</td>\n",
       "    </tr>\n",
       "    <tr>\n",
       "      <th>33761</th>\n",
       "      <td>38250</td>\n",
       "      <td>3700</td>\n",
       "      <td>limousine</td>\n",
       "      <td>2001</td>\n",
       "      <td>automatik</td>\n",
       "      <td>125</td>\n",
       "      <td>astra</td>\n",
       "      <td>70000</td>\n",
       "      <td>benzin</td>\n",
       "      <td>opel</td>\n",
       "      <td>nein</td>\n",
       "    </tr>\n",
       "    <tr>\n",
       "      <th>239464</th>\n",
       "      <td>269811</td>\n",
       "      <td>1999</td>\n",
       "      <td>limousine</td>\n",
       "      <td>1996</td>\n",
       "      <td>manuell</td>\n",
       "      <td>116</td>\n",
       "      <td>golf</td>\n",
       "      <td>150000</td>\n",
       "      <td>benzin</td>\n",
       "      <td>volkswagen</td>\n",
       "      <td>nein</td>\n",
       "    </tr>\n",
       "    <tr>\n",
       "      <th>291375</th>\n",
       "      <td>328268</td>\n",
       "      <td>6900</td>\n",
       "      <td>suv</td>\n",
       "      <td>2006</td>\n",
       "      <td>manuell</td>\n",
       "      <td>177</td>\n",
       "      <td>rav</td>\n",
       "      <td>150000</td>\n",
       "      <td>diesel</td>\n",
       "      <td>toyota</td>\n",
       "      <td>nein</td>\n",
       "    </tr>\n",
       "    <tr>\n",
       "      <th>99916</th>\n",
       "      <td>112705</td>\n",
       "      <td>400</td>\n",
       "      <td>NaN</td>\n",
       "      <td>2000</td>\n",
       "      <td>manuell</td>\n",
       "      <td>75</td>\n",
       "      <td>polo</td>\n",
       "      <td>150000</td>\n",
       "      <td>NaN</td>\n",
       "      <td>volkswagen</td>\n",
       "      <td>nein</td>\n",
       "    </tr>\n",
       "    <tr>\n",
       "      <th>156583</th>\n",
       "      <td>176474</td>\n",
       "      <td>8799</td>\n",
       "      <td>kleinwagen</td>\n",
       "      <td>2013</td>\n",
       "      <td>manuell</td>\n",
       "      <td>86</td>\n",
       "      <td>ibiza</td>\n",
       "      <td>80000</td>\n",
       "      <td>benzin</td>\n",
       "      <td>seat</td>\n",
       "      <td>nein</td>\n",
       "    </tr>\n",
       "    <tr>\n",
       "      <th>93644</th>\n",
       "      <td>105619</td>\n",
       "      <td>8000</td>\n",
       "      <td>NaN</td>\n",
       "      <td>2018</td>\n",
       "      <td>manuell</td>\n",
       "      <td>125</td>\n",
       "      <td>a3</td>\n",
       "      <td>150000</td>\n",
       "      <td>benzin</td>\n",
       "      <td>audi</td>\n",
       "      <td>NaN</td>\n",
       "    </tr>\n",
       "    <tr>\n",
       "      <th>100290</th>\n",
       "      <td>113122</td>\n",
       "      <td>9200</td>\n",
       "      <td>kombi</td>\n",
       "      <td>2010</td>\n",
       "      <td>manuell</td>\n",
       "      <td>140</td>\n",
       "      <td>a3</td>\n",
       "      <td>150000</td>\n",
       "      <td>diesel</td>\n",
       "      <td>audi</td>\n",
       "      <td>NaN</td>\n",
       "    </tr>\n",
       "  </tbody>\n",
       "</table>\n",
       "</div>\n",
       "      <button class=\"colab-df-convert\" onclick=\"convertToInteractive('df-85954b67-98b3-4948-9795-c97583f1c2ce')\"\n",
       "              title=\"Convert this dataframe to an interactive table.\"\n",
       "              style=\"display:none;\">\n",
       "        \n",
       "  <svg xmlns=\"http://www.w3.org/2000/svg\" height=\"24px\"viewBox=\"0 0 24 24\"\n",
       "       width=\"24px\">\n",
       "    <path d=\"M0 0h24v24H0V0z\" fill=\"none\"/>\n",
       "    <path d=\"M18.56 5.44l.94 2.06.94-2.06 2.06-.94-2.06-.94-.94-2.06-.94 2.06-2.06.94zm-11 1L8.5 8.5l.94-2.06 2.06-.94-2.06-.94L8.5 2.5l-.94 2.06-2.06.94zm10 10l.94 2.06.94-2.06 2.06-.94-2.06-.94-.94-2.06-.94 2.06-2.06.94z\"/><path d=\"M17.41 7.96l-1.37-1.37c-.4-.4-.92-.59-1.43-.59-.52 0-1.04.2-1.43.59L10.3 9.45l-7.72 7.72c-.78.78-.78 2.05 0 2.83L4 21.41c.39.39.9.59 1.41.59.51 0 1.02-.2 1.41-.59l7.78-7.78 2.81-2.81c.8-.78.8-2.07 0-2.86zM5.41 20L4 18.59l7.72-7.72 1.47 1.35L5.41 20z\"/>\n",
       "  </svg>\n",
       "      </button>\n",
       "      \n",
       "  <style>\n",
       "    .colab-df-container {\n",
       "      display:flex;\n",
       "      flex-wrap:wrap;\n",
       "      gap: 12px;\n",
       "    }\n",
       "\n",
       "    .colab-df-convert {\n",
       "      background-color: #E8F0FE;\n",
       "      border: none;\n",
       "      border-radius: 50%;\n",
       "      cursor: pointer;\n",
       "      display: none;\n",
       "      fill: #1967D2;\n",
       "      height: 32px;\n",
       "      padding: 0 0 0 0;\n",
       "      width: 32px;\n",
       "    }\n",
       "\n",
       "    .colab-df-convert:hover {\n",
       "      background-color: #E2EBFA;\n",
       "      box-shadow: 0px 1px 2px rgba(60, 64, 67, 0.3), 0px 1px 3px 1px rgba(60, 64, 67, 0.15);\n",
       "      fill: #174EA6;\n",
       "    }\n",
       "\n",
       "    [theme=dark] .colab-df-convert {\n",
       "      background-color: #3B4455;\n",
       "      fill: #D2E3FC;\n",
       "    }\n",
       "\n",
       "    [theme=dark] .colab-df-convert:hover {\n",
       "      background-color: #434B5C;\n",
       "      box-shadow: 0px 1px 3px 1px rgba(0, 0, 0, 0.15);\n",
       "      filter: drop-shadow(0px 1px 2px rgba(0, 0, 0, 0.3));\n",
       "      fill: #FFFFFF;\n",
       "    }\n",
       "  </style>\n",
       "\n",
       "      <script>\n",
       "        const buttonEl =\n",
       "          document.querySelector('#df-85954b67-98b3-4948-9795-c97583f1c2ce button.colab-df-convert');\n",
       "        buttonEl.style.display =\n",
       "          google.colab.kernel.accessAllowed ? 'block' : 'none';\n",
       "\n",
       "        async function convertToInteractive(key) {\n",
       "          const element = document.querySelector('#df-85954b67-98b3-4948-9795-c97583f1c2ce');\n",
       "          const dataTable =\n",
       "            await google.colab.kernel.invokeFunction('convertToInteractive',\n",
       "                                                     [key], {});\n",
       "          if (!dataTable) return;\n",
       "\n",
       "          const docLinkHtml = 'Like what you see? Visit the ' +\n",
       "            '<a target=\"_blank\" href=https://colab.research.google.com/notebooks/data_table.ipynb>data table notebook</a>'\n",
       "            + ' to learn more about interactive tables.';\n",
       "          element.innerHTML = '';\n",
       "          dataTable['output_type'] = 'display_data';\n",
       "          await google.colab.output.renderOutput(dataTable, element);\n",
       "          const docLink = document.createElement('div');\n",
       "          docLink.innerHTML = docLinkHtml;\n",
       "          element.appendChild(docLink);\n",
       "        }\n",
       "      </script>\n",
       "    </div>\n",
       "  </div>\n",
       "  "
      ],
      "text/plain": [
       "        Unnamed: 0  price vehicleType  ...  fuelType       brand  notRepairedDamage\n",
       "165549      186572   1500   limousine  ...    benzin         bmw                 ja\n",
       "255247      287512    100  kleinwagen  ...    benzin  volkswagen                NaN\n",
       "165568      186593   7299   limousine  ...    diesel  volkswagen               nein\n",
       "33761        38250   3700   limousine  ...    benzin        opel               nein\n",
       "239464      269811   1999   limousine  ...    benzin  volkswagen               nein\n",
       "291375      328268   6900         suv  ...    diesel      toyota               nein\n",
       "99916       112705    400         NaN  ...       NaN  volkswagen               nein\n",
       "156583      176474   8799  kleinwagen  ...    benzin        seat               nein\n",
       "93644       105619   8000         NaN  ...    benzin        audi                NaN\n",
       "100290      113122   9200       kombi  ...    diesel        audi                NaN\n",
       "\n",
       "[10 rows x 11 columns]"
      ]
     },
     "metadata": {},
     "execution_count": 4
    }
   ]
  },
  {
   "cell_type": "markdown",
   "metadata": {
    "id": "ZTgg4weUAIww"
   },
   "source": [
    "Удалим лишний столбец, возникший в результате записи датасета в файл. Кроме того, очистим базу от пустых значений, так как не все регрессионные методы могут обрабатывать поврежденные данные."
   ]
  },
  {
   "cell_type": "code",
   "metadata": {
    "id": "z9L4wHPAEuOH"
   },
   "source": [
    "del df['Unnamed: 0']\n",
    "df_wo_na = df.dropna()\n",
    "df_wo_na.reset_index(inplace=True)\n",
    "del df_wo_na['index']"
   ],
   "execution_count": null,
   "outputs": []
  },
  {
   "cell_type": "markdown",
   "metadata": {
    "id": "05IeBtoCBdtK"
   },
   "source": [
    "Проверим, что остались только необходимые нам столбцы."
   ]
  },
  {
   "cell_type": "code",
   "metadata": {
    "colab": {
     "base_uri": "https://localhost:8080/",
     "height": 363
    },
    "id": "-YCet30DFIx7",
    "outputId": "54074bea-47c6-490f-b778-71e3a10f4a1a"
   },
   "source": [
    "df_wo_na.sample(10)"
   ],
   "execution_count": null,
   "outputs": [
    {
     "output_type": "execute_result",
     "data": {
      "text/html": [
       "\n",
       "  <div id=\"df-6f814df2-bab2-48aa-b746-dad05930cafd\">\n",
       "    <div class=\"colab-df-container\">\n",
       "      <div>\n",
       "<style scoped>\n",
       "    .dataframe tbody tr th:only-of-type {\n",
       "        vertical-align: middle;\n",
       "    }\n",
       "\n",
       "    .dataframe tbody tr th {\n",
       "        vertical-align: top;\n",
       "    }\n",
       "\n",
       "    .dataframe thead th {\n",
       "        text-align: right;\n",
       "    }\n",
       "</style>\n",
       "<table border=\"1\" class=\"dataframe\">\n",
       "  <thead>\n",
       "    <tr style=\"text-align: right;\">\n",
       "      <th></th>\n",
       "      <th>price</th>\n",
       "      <th>vehicleType</th>\n",
       "      <th>yearOfRegistration</th>\n",
       "      <th>gearbox</th>\n",
       "      <th>powerPS</th>\n",
       "      <th>model</th>\n",
       "      <th>kilometer</th>\n",
       "      <th>fuelType</th>\n",
       "      <th>brand</th>\n",
       "      <th>notRepairedDamage</th>\n",
       "    </tr>\n",
       "  </thead>\n",
       "  <tbody>\n",
       "    <tr>\n",
       "      <th>74215</th>\n",
       "      <td>2599</td>\n",
       "      <td>limousine</td>\n",
       "      <td>2003</td>\n",
       "      <td>manuell</td>\n",
       "      <td>105</td>\n",
       "      <td>bora</td>\n",
       "      <td>150000</td>\n",
       "      <td>benzin</td>\n",
       "      <td>volkswagen</td>\n",
       "      <td>nein</td>\n",
       "    </tr>\n",
       "    <tr>\n",
       "      <th>159316</th>\n",
       "      <td>16950</td>\n",
       "      <td>coupe</td>\n",
       "      <td>2008</td>\n",
       "      <td>automatik</td>\n",
       "      <td>197</td>\n",
       "      <td>3er</td>\n",
       "      <td>150000</td>\n",
       "      <td>diesel</td>\n",
       "      <td>bmw</td>\n",
       "      <td>nein</td>\n",
       "    </tr>\n",
       "    <tr>\n",
       "      <th>167566</th>\n",
       "      <td>600</td>\n",
       "      <td>kleinwagen</td>\n",
       "      <td>1997</td>\n",
       "      <td>manuell</td>\n",
       "      <td>60</td>\n",
       "      <td>corsa</td>\n",
       "      <td>150000</td>\n",
       "      <td>benzin</td>\n",
       "      <td>opel</td>\n",
       "      <td>nein</td>\n",
       "    </tr>\n",
       "    <tr>\n",
       "      <th>212792</th>\n",
       "      <td>580</td>\n",
       "      <td>limousine</td>\n",
       "      <td>2014</td>\n",
       "      <td>automatik</td>\n",
       "      <td>258</td>\n",
       "      <td>5er</td>\n",
       "      <td>40000</td>\n",
       "      <td>diesel</td>\n",
       "      <td>bmw</td>\n",
       "      <td>nein</td>\n",
       "    </tr>\n",
       "    <tr>\n",
       "      <th>45256</th>\n",
       "      <td>950</td>\n",
       "      <td>kleinwagen</td>\n",
       "      <td>2001</td>\n",
       "      <td>manuell</td>\n",
       "      <td>82</td>\n",
       "      <td>micra</td>\n",
       "      <td>150000</td>\n",
       "      <td>benzin</td>\n",
       "      <td>nissan</td>\n",
       "      <td>nein</td>\n",
       "    </tr>\n",
       "    <tr>\n",
       "      <th>106797</th>\n",
       "      <td>29500</td>\n",
       "      <td>coupe</td>\n",
       "      <td>2011</td>\n",
       "      <td>automatik</td>\n",
       "      <td>514</td>\n",
       "      <td>andere</td>\n",
       "      <td>150000</td>\n",
       "      <td>benzin</td>\n",
       "      <td>mercedes_benz</td>\n",
       "      <td>nein</td>\n",
       "    </tr>\n",
       "    <tr>\n",
       "      <th>248905</th>\n",
       "      <td>1000</td>\n",
       "      <td>limousine</td>\n",
       "      <td>1994</td>\n",
       "      <td>manuell</td>\n",
       "      <td>90</td>\n",
       "      <td>80</td>\n",
       "      <td>150000</td>\n",
       "      <td>benzin</td>\n",
       "      <td>audi</td>\n",
       "      <td>ja</td>\n",
       "    </tr>\n",
       "    <tr>\n",
       "      <th>66456</th>\n",
       "      <td>3400</td>\n",
       "      <td>kombi</td>\n",
       "      <td>2001</td>\n",
       "      <td>automatik</td>\n",
       "      <td>193</td>\n",
       "      <td>5er</td>\n",
       "      <td>150000</td>\n",
       "      <td>diesel</td>\n",
       "      <td>bmw</td>\n",
       "      <td>nein</td>\n",
       "    </tr>\n",
       "    <tr>\n",
       "      <th>160827</th>\n",
       "      <td>12900</td>\n",
       "      <td>limousine</td>\n",
       "      <td>2004</td>\n",
       "      <td>automatik</td>\n",
       "      <td>194</td>\n",
       "      <td>5er</td>\n",
       "      <td>150000</td>\n",
       "      <td>benzin</td>\n",
       "      <td>bmw</td>\n",
       "      <td>nein</td>\n",
       "    </tr>\n",
       "    <tr>\n",
       "      <th>220047</th>\n",
       "      <td>3700</td>\n",
       "      <td>bus</td>\n",
       "      <td>1993</td>\n",
       "      <td>manuell</td>\n",
       "      <td>70</td>\n",
       "      <td>transporter</td>\n",
       "      <td>150000</td>\n",
       "      <td>diesel</td>\n",
       "      <td>volkswagen</td>\n",
       "      <td>nein</td>\n",
       "    </tr>\n",
       "  </tbody>\n",
       "</table>\n",
       "</div>\n",
       "      <button class=\"colab-df-convert\" onclick=\"convertToInteractive('df-6f814df2-bab2-48aa-b746-dad05930cafd')\"\n",
       "              title=\"Convert this dataframe to an interactive table.\"\n",
       "              style=\"display:none;\">\n",
       "        \n",
       "  <svg xmlns=\"http://www.w3.org/2000/svg\" height=\"24px\"viewBox=\"0 0 24 24\"\n",
       "       width=\"24px\">\n",
       "    <path d=\"M0 0h24v24H0V0z\" fill=\"none\"/>\n",
       "    <path d=\"M18.56 5.44l.94 2.06.94-2.06 2.06-.94-2.06-.94-.94-2.06-.94 2.06-2.06.94zm-11 1L8.5 8.5l.94-2.06 2.06-.94-2.06-.94L8.5 2.5l-.94 2.06-2.06.94zm10 10l.94 2.06.94-2.06 2.06-.94-2.06-.94-.94-2.06-.94 2.06-2.06.94z\"/><path d=\"M17.41 7.96l-1.37-1.37c-.4-.4-.92-.59-1.43-.59-.52 0-1.04.2-1.43.59L10.3 9.45l-7.72 7.72c-.78.78-.78 2.05 0 2.83L4 21.41c.39.39.9.59 1.41.59.51 0 1.02-.2 1.41-.59l7.78-7.78 2.81-2.81c.8-.78.8-2.07 0-2.86zM5.41 20L4 18.59l7.72-7.72 1.47 1.35L5.41 20z\"/>\n",
       "  </svg>\n",
       "      </button>\n",
       "      \n",
       "  <style>\n",
       "    .colab-df-container {\n",
       "      display:flex;\n",
       "      flex-wrap:wrap;\n",
       "      gap: 12px;\n",
       "    }\n",
       "\n",
       "    .colab-df-convert {\n",
       "      background-color: #E8F0FE;\n",
       "      border: none;\n",
       "      border-radius: 50%;\n",
       "      cursor: pointer;\n",
       "      display: none;\n",
       "      fill: #1967D2;\n",
       "      height: 32px;\n",
       "      padding: 0 0 0 0;\n",
       "      width: 32px;\n",
       "    }\n",
       "\n",
       "    .colab-df-convert:hover {\n",
       "      background-color: #E2EBFA;\n",
       "      box-shadow: 0px 1px 2px rgba(60, 64, 67, 0.3), 0px 1px 3px 1px rgba(60, 64, 67, 0.15);\n",
       "      fill: #174EA6;\n",
       "    }\n",
       "\n",
       "    [theme=dark] .colab-df-convert {\n",
       "      background-color: #3B4455;\n",
       "      fill: #D2E3FC;\n",
       "    }\n",
       "\n",
       "    [theme=dark] .colab-df-convert:hover {\n",
       "      background-color: #434B5C;\n",
       "      box-shadow: 0px 1px 3px 1px rgba(0, 0, 0, 0.15);\n",
       "      filter: drop-shadow(0px 1px 2px rgba(0, 0, 0, 0.3));\n",
       "      fill: #FFFFFF;\n",
       "    }\n",
       "  </style>\n",
       "\n",
       "      <script>\n",
       "        const buttonEl =\n",
       "          document.querySelector('#df-6f814df2-bab2-48aa-b746-dad05930cafd button.colab-df-convert');\n",
       "        buttonEl.style.display =\n",
       "          google.colab.kernel.accessAllowed ? 'block' : 'none';\n",
       "\n",
       "        async function convertToInteractive(key) {\n",
       "          const element = document.querySelector('#df-6f814df2-bab2-48aa-b746-dad05930cafd');\n",
       "          const dataTable =\n",
       "            await google.colab.kernel.invokeFunction('convertToInteractive',\n",
       "                                                     [key], {});\n",
       "          if (!dataTable) return;\n",
       "\n",
       "          const docLinkHtml = 'Like what you see? Visit the ' +\n",
       "            '<a target=\"_blank\" href=https://colab.research.google.com/notebooks/data_table.ipynb>data table notebook</a>'\n",
       "            + ' to learn more about interactive tables.';\n",
       "          element.innerHTML = '';\n",
       "          dataTable['output_type'] = 'display_data';\n",
       "          await google.colab.output.renderOutput(dataTable, element);\n",
       "          const docLink = document.createElement('div');\n",
       "          docLink.innerHTML = docLinkHtml;\n",
       "          element.appendChild(docLink);\n",
       "        }\n",
       "      </script>\n",
       "    </div>\n",
       "  </div>\n",
       "  "
      ],
      "text/plain": [
       "        price vehicleType  ...          brand notRepairedDamage\n",
       "74215    2599   limousine  ...     volkswagen              nein\n",
       "159316  16950       coupe  ...            bmw              nein\n",
       "167566    600  kleinwagen  ...           opel              nein\n",
       "212792    580   limousine  ...            bmw              nein\n",
       "45256     950  kleinwagen  ...         nissan              nein\n",
       "106797  29500       coupe  ...  mercedes_benz              nein\n",
       "248905   1000   limousine  ...           audi                ja\n",
       "66456    3400       kombi  ...            bmw              nein\n",
       "160827  12900   limousine  ...            bmw              nein\n",
       "220047   3700         bus  ...     volkswagen              nein\n",
       "\n",
       "[10 rows x 10 columns]"
      ]
     },
     "metadata": {},
     "execution_count": 6
    }
   ]
  },
  {
   "cell_type": "markdown",
   "metadata": {
    "id": "rd66a8GHBiod"
   },
   "source": [
    "Проведем факторизацию в столбцах со строковыми значениями. Для этого выпишем имена всех объектных столбцов и в цикле будем вызывать factorize из библиотеки pandas. [0] в конце строки с командой необходим так как factorize возвращает два набора значений - преобразованный столбец значений и упорядоченный список меток. Так как проводить операцию обратную факторизации мы не собираемся, то и второй столбец для нас не представляет интереса."
   ]
  },
  {
   "cell_type": "code",
   "metadata": {
    "colab": {
     "base_uri": "https://localhost:8080/"
    },
    "id": "rS-UwXz6FOrb",
    "outputId": "08708a01-6fac-4b33-8bca-3fcfaea2e3b5"
   },
   "source": [
    "column_names = ['vehicleType', 'gearbox', 'model', 'fuelType', 'brand', 'notRepairedDamage']\n",
    "for i in column_names:\n",
    "  df_wo_na[i] = pd.factorize(df_wo_na[i])[0]"
   ],
   "execution_count": null,
   "outputs": [
    {
     "output_type": "stream",
     "name": "stderr",
     "text": [
      "/usr/local/lib/python3.7/dist-packages/ipykernel_launcher.py:3: SettingWithCopyWarning: \n",
      "A value is trying to be set on a copy of a slice from a DataFrame.\n",
      "Try using .loc[row_indexer,col_indexer] = value instead\n",
      "\n",
      "See the caveats in the documentation: https://pandas.pydata.org/pandas-docs/stable/user_guide/indexing.html#returning-a-view-versus-a-copy\n",
      "  This is separate from the ipykernel package so we can avoid doing imports until\n"
     ]
    }
   ]
  },
  {
   "cell_type": "markdown",
   "metadata": {
    "id": "N60eYn5EDiaM"
   },
   "source": [
    "Разобьем выборку на тренировочный и тестовый наборы."
   ]
  },
  {
   "cell_type": "code",
   "metadata": {
    "id": "w0vdLDEKHeiP"
   },
   "source": [
    "Y = df_wo_na['price']\n",
    "X = df_wo_na.drop(['price'], axis = 1)\n",
    "train_points, test_points, train_values, test_values = train_test_split(X, Y, test_size = 0.2)"
   ],
   "execution_count": null,
   "outputs": []
  },
  {
   "cell_type": "markdown",
   "metadata": {
    "id": "ThohClXIDoiL"
   },
   "source": [
    "Обучим модель случайного леса из 100 решающих деревьев."
   ]
  },
  {
   "cell_type": "code",
   "metadata": {
    "id": "wUzhVQk_Jpkc",
    "colab": {
     "base_uri": "https://localhost:8080/"
    },
    "outputId": "4aca3e03-5469-468b-f327-c433e535889c"
   },
   "source": [
    "rf_model = RandomForestRegressor(n_estimators=100)\n",
    "rf_model.fit(train_points, train_values)"
   ],
   "execution_count": null,
   "outputs": [
    {
     "output_type": "execute_result",
     "data": {
      "text/plain": [
       "RandomForestRegressor()"
      ]
     },
     "metadata": {},
     "execution_count": 9
    }
   ]
  },
  {
   "cell_type": "markdown",
   "metadata": {
    "id": "iCV-_358D1dd"
   },
   "source": [
    "Оценку эффективности нашей модели проведем через расчет MAE. MAE (Mean Absolute Error) - средняя абсолютная ошибка, рассчитанная как сумма абсолютных ошибок в каждом предсказании, деленная на общий размер выборки."
   ]
  },
  {
   "cell_type": "code",
   "metadata": {
    "id": "QhpgqU3iK5Lj",
    "colab": {
     "base_uri": "https://localhost:8080/"
    },
    "outputId": "f1dff91b-691b-469a-c2ec-17060c333f10"
   },
   "source": [
    "rf_predict = rf_model.predict(test_points)\n",
    "print(mean_absolute_error(test_values, rf_predict))"
   ],
   "execution_count": null,
   "outputs": [
    {
     "output_type": "stream",
     "name": "stdout",
     "text": [
      "3635.7588232677704\n"
     ]
    }
   ]
  },
  {
   "cell_type": "markdown",
   "metadata": {
    "id": "P62FnQ5PGqF7"
   },
   "source": [
    "Разброс предсказнной цены в $5000+ не вызывает особого восторга. Попробуем произвести обучение других моделей и сравним результаты."
   ]
  },
  {
   "cell_type": "code",
   "metadata": {
    "colab": {
     "base_uri": "https://localhost:8080/"
    },
    "id": "TCmwXgcVNiTJ",
    "outputId": "54f8d80e-4d54-49f0-af7a-7b1adfbc40ad"
   },
   "source": [
    "nn_model = Sequential()\n",
    "nn_model.add(Dense(9, activation='relu'))\n",
    "nn_model.add(Dense(15, activation='relu'))\n",
    "nn_model.add(Dense(15, activation='relu'))\n",
    "nn_model.add(Dense(1, activation='linear'))\n",
    "\n",
    "nn_model.compile(loss='mean_absolute_error', optimizer='adam')\n",
    "\n",
    "results = nn_model.fit(\n",
    " train_points, train_values,\n",
    " epochs= 10,\n",
    " batch_size = 1000,\n",
    " validation_data = (test_points, test_values)\n",
    ")"
   ],
   "execution_count": null,
   "outputs": [
    {
     "output_type": "stream",
     "name": "stdout",
     "text": [
      "Epoch 1/10\n",
      "201/201 [==============================] - 1s 3ms/step - loss: 12278.5439 - val_loss: 6314.9092\n",
      "Epoch 2/10\n",
      "201/201 [==============================] - 1s 2ms/step - loss: 7224.2466 - val_loss: 6296.7817\n",
      "Epoch 3/10\n",
      "201/201 [==============================] - 0s 2ms/step - loss: 7208.7354 - val_loss: 6279.5938\n",
      "Epoch 4/10\n",
      "201/201 [==============================] - 0s 2ms/step - loss: 7185.4399 - val_loss: 6251.1128\n",
      "Epoch 5/10\n",
      "201/201 [==============================] - 0s 2ms/step - loss: 7153.9487 - val_loss: 6211.6318\n",
      "Epoch 6/10\n",
      "201/201 [==============================] - 0s 2ms/step - loss: 7105.3135 - val_loss: 6146.1411\n",
      "Epoch 7/10\n",
      "201/201 [==============================] - 0s 2ms/step - loss: 7021.8955 - val_loss: 6041.4160\n",
      "Epoch 8/10\n",
      "201/201 [==============================] - 0s 2ms/step - loss: 6880.5552 - val_loss: 5849.9780\n",
      "Epoch 9/10\n",
      "201/201 [==============================] - 0s 2ms/step - loss: 6638.3892 - val_loss: 5548.7085\n",
      "Epoch 10/10\n",
      "201/201 [==============================] - 1s 3ms/step - loss: 6316.5996 - val_loss: 5245.7441\n"
     ]
    }
   ]
  },
  {
   "cell_type": "markdown",
   "metadata": {
    "id": "LGj-FGdGG3cA"
   },
   "source": [
    "Значение функции потерь при обучении нейронной сети является MAE оценкой. Получили сопоставимый со случайным лесом результат. \n",
    "\n",
    "Напоследок, построим регрессор через градиентный бустинг."
   ]
  },
  {
   "cell_type": "code",
   "metadata": {
    "id": "q0o3eFHcPknD"
   },
   "source": [
    "import xgboost as xgb\n",
    "xg_reg = xgb.XGBRegressor(objective = 'reg:squarederror', colsample_bytree = 0.3, learning_rate = 0.1,\n",
    "                max_depth = 5, alpha = 10, n_estimators = 100)"
   ],
   "execution_count": null,
   "outputs": []
  },
  {
   "cell_type": "code",
   "metadata": {
    "colab": {
     "base_uri": "https://localhost:8080/"
    },
    "id": "BD_4wNBmQV0k",
    "outputId": "9a0fefc6-0aff-479b-fd6a-f11f4d047c35"
   },
   "source": [
    "xg_reg.fit(train_points, train_values)"
   ],
   "execution_count": null,
   "outputs": [
    {
     "output_type": "execute_result",
     "data": {
      "text/plain": [
       "XGBRegressor(alpha=10, colsample_bytree=0.3, max_depth=5,\n",
       "             objective='reg:squarederror')"
      ]
     },
     "metadata": {},
     "execution_count": 13
    }
   ]
  },
  {
   "cell_type": "code",
   "metadata": {
    "id": "Mp1TBAm4Qhvw"
   },
   "source": [
    "xgb_predict = xg_reg.predict(test_points)"
   ],
   "execution_count": null,
   "outputs": []
  },
  {
   "cell_type": "markdown",
   "metadata": {
    "id": "pMYuYK22Hid7"
   },
   "source": [
    "Оценим качество получившейся модели."
   ]
  },
  {
   "cell_type": "code",
   "metadata": {
    "colab": {
     "base_uri": "https://localhost:8080/"
    },
    "id": "sZTj-mDWQs1w",
    "outputId": "58375379-7416-4216-94df-7a45749dcc4b"
   },
   "source": [
    "print(mean_absolute_error(test_values, xgb_predict))"
   ],
   "execution_count": null,
   "outputs": [
    {
     "output_type": "stream",
     "name": "stdout",
     "text": [
      "6807.539584463642\n"
     ]
    }
   ]
  },
  {
   "cell_type": "markdown",
   "metadata": {
    "id": "Mx0vmamNHn9u"
   },
   "source": [
    "Градиентный бустинг показал результаты еще хуже, чем были до этого... Попробуем проанализировать причины такого поведения.\n",
    "\n",
    "Выведем график соответствия предсказанной и фактической цены."
   ]
  },
  {
   "cell_type": "code",
   "metadata": {
    "colab": {
     "base_uri": "https://localhost:8080/",
     "height": 54
    },
    "id": "u9FbhvdWfOt6",
    "outputId": "218f5112-605d-42d3-8b6f-cf552d80ef74"
   },
   "source": [
    "plt.figure(figsize=(7, 7))\n",
    "plt.scatter(test_values, xgb_predict) # рисуем точки, соответствущие парам настоящее значение - прогноз\n",
    "plt.plot([0, max(test_values)], [0, max(xgb_predict)]) # рисуем прямую, на которой предсказания и настоящие значения совпадают\n",
    "plt.xlabel('Настоящая цена', fontsize=20)\n",
    "plt.ylabel('Предсказанная цена', fontsize=20);"
   ],
   "execution_count": null,
   "outputs": [
    {
     "output_type": "display_data",
     "data": {
      "image/png": "[encoded data removed]",
      "text/plain": [
       "<Figure size 504x504 with 1 Axes>"
      ]
     },
     "metadata": {
      "needs_background": "light"
     }
    }
   ]
  },
  {
   "cell_type": "markdown",
   "metadata": {
    "id": "MIGjRUfhIo0L"
   },
   "source": [
    "Благодаря графическому представлению мы обнаружили сильнейшие вылеты максимальной цены автомобилей. Произведем анализ данного столбца."
   ]
  },
  {
   "cell_type": "code",
   "metadata": {
    "colab": {
     "base_uri": "https://localhost:8080/",
     "height": 91
    },
    "id": "D4QYUEKkfVNB",
    "outputId": "1432ac99-3fcc-45d9-dc99-3868519e9e51"
   },
   "source": [
    "df_wo_na.hist([\"price\"])"
   ],
   "execution_count": null,
   "outputs": [
    {
     "output_type": "execute_result",
     "data": {
      "text/plain": [
       "array([[<matplotlib.axes._subplots.AxesSubplot object at 0x7fb5bbbf8490>]],\n",
       "      dtype=object)"
      ]
     },
     "metadata": {},
     "execution_count": 17
    },
    {
     "output_type": "display_data",
     "data": {
      "image/png": "[encoded data removed]",
      "text/plain": [
       "<Figure size 432x288 with 1 Axes>"
      ]
     },
     "metadata": {
      "needs_background": "light"
     }
    }
   ]
  },
  {
   "cell_type": "markdown",
   "metadata": {
    "id": "cG7K9U-BJI6N"
   },
   "source": [
    "На гистограмме видно, что у нас есть экземпляры, цена на которые доходит до 100 миллиардов. Произведем отбор записей по цене, исключив также записи со слишком низкой ценой."
   ]
  },
  {
   "cell_type": "code",
   "metadata": {
    "id": "28EztGODfcso"
   },
   "source": [
    "df_wo_na = df_wo_na[(df_wo_na['price'] < 20000) & (df_wo_na['price'] > 50)]\n",
    "df_wo_na.reset_index(inplace=True)\n",
    "del df_wo_na['index']"
   ],
   "execution_count": null,
   "outputs": []
  },
  {
   "cell_type": "markdown",
   "metadata": {
    "id": "Pms3UYsGJlNx"
   },
   "source": [
    "Выведем гисторгамму для распределения цен на автомобили после внесенных нами изменений."
   ]
  },
  {
   "cell_type": "code",
   "metadata": {
    "colab": {
     "base_uri": "https://localhost:8080/",
     "height": 317
    },
    "id": "IpoJs3KifOmy",
    "outputId": "79a3b8f0-220c-4c7d-cf87-c517870b4b4c"
   },
   "source": [
    "df_wo_na.hist([\"price\"])"
   ],
   "execution_count": null,
   "outputs": [
    {
     "output_type": "execute_result",
     "data": {
      "text/plain": [
       "array([[<matplotlib.axes._subplots.AxesSubplot object at 0x7fb5bbb13210>]],\n",
       "      dtype=object)"
      ]
     },
     "metadata": {},
     "execution_count": 19
    },
    {
     "output_type": "display_data",
     "data": {
      "image/png": "[encoded data removed]",
      "text/plain": [
       "<Figure size 432x288 with 1 Axes>"
      ]
     },
     "metadata": {
      "needs_background": "light"
     }
    }
   ]
  },
  {
   "cell_type": "markdown",
   "metadata": {
    "id": "023AoWDXxkhU"
   },
   "source": [
    "Вновь проведем разделение на тренировочную и тестовую выборки."
   ]
  },
  {
   "cell_type": "code",
   "metadata": {
    "id": "KKXIhThl91-E"
   },
   "source": [
    "Y = df_wo_na['price']\n",
    "X = df_wo_na.drop(['price'], axis = 1)\n",
    "train_points, test_points, train_values, test_values = train_test_split(X, Y, test_size = 0.2)"
   ],
   "execution_count": null,
   "outputs": []
  },
  {
   "cell_type": "markdown",
   "metadata": {
    "id": "3N29cHXKx0Ez"
   },
   "source": [
    "Создадим модель градиентного бустинга на основе обновленных данных."
   ]
  },
  {
   "cell_type": "code",
   "metadata": {
    "colab": {
     "base_uri": "https://localhost:8080/"
    },
    "id": "Z5eqLHWpgOTO",
    "outputId": "7710ba5e-bf02-4c83-c78b-fd46b2fe1cfa"
   },
   "source": [
    "xg_reg.fit(train_points, train_values)"
   ],
   "execution_count": null,
   "outputs": [
    {
     "output_type": "execute_result",
     "data": {
      "text/plain": [
       "XGBRegressor(alpha=10, colsample_bytree=0.3, max_depth=5,\n",
       "             objective='reg:squarederror')"
      ]
     },
     "metadata": {},
     "execution_count": 21
    }
   ]
  },
  {
   "cell_type": "code",
   "metadata": {
    "id": "IeFQfKUHgRXx"
   },
   "source": [
    "xgb_predict = xg_reg.predict(test_points)"
   ],
   "execution_count": null,
   "outputs": []
  },
  {
   "cell_type": "code",
   "metadata": {
    "colab": {
     "base_uri": "https://localhost:8080/"
    },
    "id": "CQIsRrTFgT68",
    "outputId": "f2e4b380-c94d-4294-fb35-0861d017b8af"
   },
   "source": [
    "print(mean_absolute_error(test_values, xgb_predict))"
   ],
   "execution_count": null,
   "outputs": [
    {
     "output_type": "stream",
     "name": "stdout",
     "text": [
      "1259.8023573321168\n"
     ]
    }
   ]
  },
  {
   "cell_type": "markdown",
   "metadata": {
    "id": "PAmFzn5Ex8aj"
   },
   "source": [
    "Получившийся результат гораздо лучше с точки зрения отклонения абсолютной ошибки. Выведем график, чтобы оценить произошедшие изменения."
   ]
  },
  {
   "cell_type": "code",
   "metadata": {
    "colab": {
     "base_uri": "https://localhost:8080/",
     "height": 54
    },
    "id": "aXKzyHx8gYvb",
    "outputId": "26c733a0-6c01-4bed-d145-aba0d958d26f"
   },
   "source": [
    "plt.figure(figsize=(7, 7))\n",
    "plt.scatter(test_values, xgb_predict) # рисуем точки, соответствущие парам настоящее значение - прогноз\n",
    "plt.plot([0, max(test_values)], [0, max(xgb_predict)]) # рисуем прямую, на которой предсказания и настоящие значения совпадают\n",
    "plt.xlabel('Настоящая цена', fontsize=20)\n",
    "plt.ylabel('Предсказанная цена', fontsize=20);"
   ],
   "execution_count": null,
   "outputs": [
    {
     "output_type": "display_data",
     "data": {
      "image/png": "[encoded data removed]",
      "text/plain": [
       "<Figure size 504x504 with 1 Axes>"
      ]
     },
     "metadata": {
      "needs_background": "light"
     }
    }
   ]
  },
  {
   "cell_type": "markdown",
   "metadata": {
    "id": "1-fFHgGQyM5y"
   },
   "source": [
    "На графике явно видно, что наша модель показывает гораздо худшие резуьтаты для автомобилей с низкой стоимостью. Запомним этот факт и попробуем собрать модель на основе случайного леса, так как до проведения фильтрации по цене градиентный бустинг показывал худшие результаты."
   ]
  },
  {
   "cell_type": "code",
   "metadata": {
    "id": "YTtzKkQhkASd"
   },
   "source": [
    "rf_model = RandomForestRegressor(n_estimators=100)\n",
    "rf_model.fit(train_points, train_values)\n",
    "rf_predict = rf_model.predict(test_points)"
   ],
   "execution_count": null,
   "outputs": []
  },
  {
   "cell_type": "code",
   "metadata": {
    "colab": {
     "base_uri": "https://localhost:8080/"
    },
    "id": "c0GmBsmukFiN",
    "outputId": "c0c1874b-a672-4f77-8ac6-d79c2b0d71c5"
   },
   "source": [
    "print(mean_absolute_error(test_values, rf_predict))"
   ],
   "execution_count": null,
   "outputs": [
    {
     "output_type": "stream",
     "name": "stdout",
     "text": [
      "974.8985945419688\n"
     ]
    }
   ]
  },
  {
   "cell_type": "markdown",
   "metadata": {
    "id": "o4TmIZw5y7vv"
   },
   "source": [
    "Средняя абсолютная ошибка меньше для модели случайного леса почти на $300, что является серьезным аргументом в ее пользу. Выведем график с отклонениями."
   ]
  },
  {
   "cell_type": "code",
   "metadata": {
    "colab": {
     "base_uri": "https://localhost:8080/"
    },
    "id": "UBKPzlK3lMH-",
    "outputId": "8973daee-7e4d-4243-e013-6f92c2c32fdc"
   },
   "source": [
    "plt.figure(figsize=(7, 7))\n",
    "plt.scatter(test_values, rf_predict) # рисуем точки, соответствущие парам настоящее значение - прогноз\n",
    "plt.plot([0, max(test_values)], [0, max(rf_predict)]) # рисуем прямую, на которой предсказания и настоящие значения совпадают\n",
    "plt.xlabel('Настоящая цена', fontsize=20)\n",
    "plt.ylabel('Предсказанная цена', fontsize=20);"
   ],
   "execution_count": null,
   "outputs": [
    {
     "output_type": "display_data",
     "data": {
      "image/png": "[encoded data removed]",
      "text/plain": [
       "<Figure size 504x504 with 1 Axes>"
      ]
     },
     "metadata": {
      "needs_background": "light"
     }
    }
   ]
  },
  {
   "cell_type": "markdown",
   "metadata": {
    "id": "pQ1qabDJzq88"
   },
   "source": [
    "Теперь давайте разберемся в причинах того, что градиентный бустинг показывает результаты гораздо хуже случайного леса. Разгадка кроется в типах ансамблевых методов, которые лежат в основе данных моделей.\n",
    "\n",
    "Случайный лес работает на основе бэггинга, то есть собирает ансамбль из слабых учеников, каждый из которых имеет собственный независимый набор данных и, как следствие, свой набор правил разделения записей. После получения решения от всех учеников принимается некое усредненное значение.\n",
    "\n",
    "Градиентный бустинг же направлен на исправление результата самого слабого ученика. Это приводит к тому, что итоговая модель будет смещаться в направлении самых больших вылетов, что мы и видели на графиках выше.\n",
    "\n",
    "Можно сделать вывод, что механизм градиентного бустинга наилучшим образом подходит для решения задач со взвешенным набором данных, т.е. с (примерно) равным количеством записей, относящихся к каждому классу, либо диапазону значений."
   ]
  },
  {
   "cell_type": "markdown",
   "metadata": {
    "id": "CcLG2zKz3DfO"
   },
   "source": [
    "Проведем исследование также для нейросетевой модели."
   ]
  },
  {
   "cell_type": "code",
   "metadata": {
    "id": "8Vcabfw09-Ry",
    "colab": {
     "base_uri": "https://localhost:8080/"
    },
    "outputId": "df106a5a-e26b-4c6b-dce7-ac53136c4f35"
   },
   "source": [
    "nn_model = Sequential()\n",
    "nn_model.add(Dense(9, activation='relu'))\n",
    "nn_model.add(Dense(15, activation='relu'))\n",
    "nn_model.add(Dense(15, activation='relu'))\n",
    "nn_model.add(Dense(1))\n",
    "\n",
    "nn_model.compile(loss='mean_absolute_error', optimizer='adam')\n",
    "\n",
    "results = nn_model.fit(\n",
    " train_points, train_values,\n",
    " epochs= 10,\n",
    " batch_size = 100,\n",
    " validation_data = (test_points, test_values)\n",
    ")\n",
    "\n",
    "nn_predict = nn_model.predict(test_points)\n",
    "print(mean_absolute_error(test_values, nn_predict))"
   ],
   "execution_count": null,
   "outputs": [
    {
     "output_type": "stream",
     "name": "stdout",
     "text": [
      "Epoch 1/10\n",
      "1860/1860 [==============================] - 4s 2ms/step - loss: 3251.7095 - val_loss: 2804.2341\n",
      "Epoch 2/10\n",
      "1860/1860 [==============================] - 4s 2ms/step - loss: 2655.9651 - val_loss: 2474.7788\n",
      "Epoch 3/10\n",
      "1860/1860 [==============================] - 4s 2ms/step - loss: 2462.0667 - val_loss: 2382.9041\n",
      "Epoch 4/10\n",
      "1860/1860 [==============================] - 4s 2ms/step - loss: 2403.8022 - val_loss: 2378.3169\n",
      "Epoch 5/10\n",
      "1860/1860 [==============================] - 4s 2ms/step - loss: 2386.6206 - val_loss: 2345.5977\n",
      "Epoch 6/10\n",
      "1860/1860 [==============================] - 4s 2ms/step - loss: 2386.3994 - val_loss: 2345.7913\n",
      "Epoch 7/10\n",
      "1860/1860 [==============================] - 4s 2ms/step - loss: 2366.6741 - val_loss: 2326.2334\n",
      "Epoch 8/10\n",
      "1860/1860 [==============================] - 4s 2ms/step - loss: 2369.4622 - val_loss: 2357.1716\n",
      "Epoch 9/10\n",
      "1860/1860 [==============================] - 4s 2ms/step - loss: 2354.4426 - val_loss: 2331.9324\n",
      "Epoch 10/10\n",
      "1860/1860 [==============================] - 3s 2ms/step - loss: 2353.9409 - val_loss: 2357.7039\n",
      "2357.703025790307\n"
     ]
    }
   ]
  },
  {
   "cell_type": "markdown",
   "metadata": {
    "id": "UoBn1Qa93YBO"
   },
   "source": [
    "Теперь лидером нашего антирейтинга результатов стала модель, основанная на нейронных сетях.\n",
    "\n",
    "Попробуем провести нормализацию данных и сранить результаты."
   ]
  },
  {
   "cell_type": "code",
   "metadata": {
    "id": "iMu2JL6gRSsZ"
   },
   "source": [
    "df_norm = df_wo_na\n",
    "Y = df_norm['price']\n",
    "X = df_norm.drop(['price'], axis = 1)\n",
    "for i in X.columns:\n",
    "  X[i]=(X[i]-X[i].min())/(X[i].max()-X[i].min())"
   ],
   "execution_count": null,
   "outputs": []
  },
  {
   "cell_type": "code",
   "metadata": {
    "colab": {
     "base_uri": "https://localhost:8080/",
     "height": 487
    },
    "id": "yRgiRB0sSzcv",
    "outputId": "d762853b-cf48-4077-e744-82d31da7de88"
   },
   "source": [
    "X"
   ],
   "execution_count": null,
   "outputs": [
    {
     "output_type": "execute_result",
     "data": {
      "text/html": [
       "\n",
       "  <div id=\"df-28e48e1d-4bd6-4793-91ad-3e5896f6dceb\">\n",
       "    <div class=\"colab-df-container\">\n",
       "      <div>\n",
       "<style scoped>\n",
       "    .dataframe tbody tr th:only-of-type {\n",
       "        vertical-align: middle;\n",
       "    }\n",
       "\n",
       "    .dataframe tbody tr th {\n",
       "        vertical-align: top;\n",
       "    }\n",
       "\n",
       "    .dataframe thead th {\n",
       "        text-align: right;\n",
       "    }\n",
       "</style>\n",
       "<table border=\"1\" class=\"dataframe\">\n",
       "  <thead>\n",
       "    <tr style=\"text-align: right;\">\n",
       "      <th></th>\n",
       "      <th>vehicleType</th>\n",
       "      <th>yearOfRegistration</th>\n",
       "      <th>gearbox</th>\n",
       "      <th>powerPS</th>\n",
       "      <th>model</th>\n",
       "      <th>kilometer</th>\n",
       "      <th>fuelType</th>\n",
       "      <th>brand</th>\n",
       "      <th>notRepairedDamage</th>\n",
       "    </tr>\n",
       "  </thead>\n",
       "  <tbody>\n",
       "    <tr>\n",
       "      <th>0</th>\n",
       "      <td>0.000000</td>\n",
       "      <td>0.746269</td>\n",
       "      <td>0.0</td>\n",
       "      <td>0.126712</td>\n",
       "      <td>0.000000</td>\n",
       "      <td>1.000000</td>\n",
       "      <td>0.000000</td>\n",
       "      <td>0.000000</td>\n",
       "      <td>0.0</td>\n",
       "    </tr>\n",
       "    <tr>\n",
       "      <th>1</th>\n",
       "      <td>0.000000</td>\n",
       "      <td>0.850746</td>\n",
       "      <td>0.0</td>\n",
       "      <td>0.116438</td>\n",
       "      <td>0.004032</td>\n",
       "      <td>0.586207</td>\n",
       "      <td>0.166667</td>\n",
       "      <td>0.026316</td>\n",
       "      <td>0.0</td>\n",
       "    </tr>\n",
       "    <tr>\n",
       "      <th>2</th>\n",
       "      <td>0.142857</td>\n",
       "      <td>0.656716</td>\n",
       "      <td>0.0</td>\n",
       "      <td>0.172945</td>\n",
       "      <td>0.008065</td>\n",
       "      <td>1.000000</td>\n",
       "      <td>0.000000</td>\n",
       "      <td>0.052632</td>\n",
       "      <td>1.0</td>\n",
       "    </tr>\n",
       "    <tr>\n",
       "      <th>3</th>\n",
       "      <td>0.285714</td>\n",
       "      <td>0.791045</td>\n",
       "      <td>0.0</td>\n",
       "      <td>0.184932</td>\n",
       "      <td>0.012097</td>\n",
       "      <td>1.000000</td>\n",
       "      <td>0.000000</td>\n",
       "      <td>0.078947</td>\n",
       "      <td>0.0</td>\n",
       "    </tr>\n",
       "    <tr>\n",
       "      <th>4</th>\n",
       "      <td>0.142857</td>\n",
       "      <td>0.791045</td>\n",
       "      <td>0.0</td>\n",
       "      <td>0.178082</td>\n",
       "      <td>0.020161</td>\n",
       "      <td>1.000000</td>\n",
       "      <td>0.000000</td>\n",
       "      <td>0.105263</td>\n",
       "      <td>0.0</td>\n",
       "    </tr>\n",
       "    <tr>\n",
       "      <th>...</th>\n",
       "      <td>...</td>\n",
       "      <td>...</td>\n",
       "      <td>...</td>\n",
       "      <td>...</td>\n",
       "      <td>...</td>\n",
       "      <td>...</td>\n",
       "      <td>...</td>\n",
       "      <td>...</td>\n",
       "      <td>...</td>\n",
       "    </tr>\n",
       "    <tr>\n",
       "      <th>232494</th>\n",
       "      <td>0.142857</td>\n",
       "      <td>0.880597</td>\n",
       "      <td>0.0</td>\n",
       "      <td>0.238014</td>\n",
       "      <td>0.000000</td>\n",
       "      <td>1.000000</td>\n",
       "      <td>0.166667</td>\n",
       "      <td>0.000000</td>\n",
       "      <td>0.0</td>\n",
       "    </tr>\n",
       "    <tr>\n",
       "      <th>232495</th>\n",
       "      <td>0.428571</td>\n",
       "      <td>0.805970</td>\n",
       "      <td>0.0</td>\n",
       "      <td>0.003425</td>\n",
       "      <td>0.008065</td>\n",
       "      <td>1.000000</td>\n",
       "      <td>0.166667</td>\n",
       "      <td>0.052632</td>\n",
       "      <td>0.0</td>\n",
       "    </tr>\n",
       "    <tr>\n",
       "      <th>232496</th>\n",
       "      <td>0.142857</td>\n",
       "      <td>0.791045</td>\n",
       "      <td>0.0</td>\n",
       "      <td>0.383562</td>\n",
       "      <td>0.423387</td>\n",
       "      <td>1.000000</td>\n",
       "      <td>0.000000</td>\n",
       "      <td>0.236842</td>\n",
       "      <td>1.0</td>\n",
       "    </tr>\n",
       "    <tr>\n",
       "      <th>232497</th>\n",
       "      <td>0.285714</td>\n",
       "      <td>0.731343</td>\n",
       "      <td>1.0</td>\n",
       "      <td>0.171233</td>\n",
       "      <td>0.088710</td>\n",
       "      <td>0.827586</td>\n",
       "      <td>0.000000</td>\n",
       "      <td>0.342105</td>\n",
       "      <td>0.0</td>\n",
       "    </tr>\n",
       "    <tr>\n",
       "      <th>232498</th>\n",
       "      <td>0.714286</td>\n",
       "      <td>0.671642</td>\n",
       "      <td>0.0</td>\n",
       "      <td>0.172945</td>\n",
       "      <td>0.060484</td>\n",
       "      <td>1.000000</td>\n",
       "      <td>0.166667</td>\n",
       "      <td>0.000000</td>\n",
       "      <td>0.0</td>\n",
       "    </tr>\n",
       "  </tbody>\n",
       "</table>\n",
       "<p>232499 rows × 9 columns</p>\n",
       "</div>\n",
       "      <button class=\"colab-df-convert\" onclick=\"convertToInteractive('df-28e48e1d-4bd6-4793-91ad-3e5896f6dceb')\"\n",
       "              title=\"Convert this dataframe to an interactive table.\"\n",
       "              style=\"display:none;\">\n",
       "        \n",
       "  <svg xmlns=\"http://www.w3.org/2000/svg\" height=\"24px\"viewBox=\"0 0 24 24\"\n",
       "       width=\"24px\">\n",
       "    <path d=\"M0 0h24v24H0V0z\" fill=\"none\"/>\n",
       "    <path d=\"M18.56 5.44l.94 2.06.94-2.06 2.06-.94-2.06-.94-.94-2.06-.94 2.06-2.06.94zm-11 1L8.5 8.5l.94-2.06 2.06-.94-2.06-.94L8.5 2.5l-.94 2.06-2.06.94zm10 10l.94 2.06.94-2.06 2.06-.94-2.06-.94-.94-2.06-.94 2.06-2.06.94z\"/><path d=\"M17.41 7.96l-1.37-1.37c-.4-.4-.92-.59-1.43-.59-.52 0-1.04.2-1.43.59L10.3 9.45l-7.72 7.72c-.78.78-.78 2.05 0 2.83L4 21.41c.39.39.9.59 1.41.59.51 0 1.02-.2 1.41-.59l7.78-7.78 2.81-2.81c.8-.78.8-2.07 0-2.86zM5.41 20L4 18.59l7.72-7.72 1.47 1.35L5.41 20z\"/>\n",
       "  </svg>\n",
       "      </button>\n",
       "      \n",
       "  <style>\n",
       "    .colab-df-container {\n",
       "      display:flex;\n",
       "      flex-wrap:wrap;\n",
       "      gap: 12px;\n",
       "    }\n",
       "\n",
       "    .colab-df-convert {\n",
       "      background-color: #E8F0FE;\n",
       "      border: none;\n",
       "      border-radius: 50%;\n",
       "      cursor: pointer;\n",
       "      display: none;\n",
       "      fill: #1967D2;\n",
       "      height: 32px;\n",
       "      padding: 0 0 0 0;\n",
       "      width: 32px;\n",
       "    }\n",
       "\n",
       "    .colab-df-convert:hover {\n",
       "      background-color: #E2EBFA;\n",
       "      box-shadow: 0px 1px 2px rgba(60, 64, 67, 0.3), 0px 1px 3px 1px rgba(60, 64, 67, 0.15);\n",
       "      fill: #174EA6;\n",
       "    }\n",
       "\n",
       "    [theme=dark] .colab-df-convert {\n",
       "      background-color: #3B4455;\n",
       "      fill: #D2E3FC;\n",
       "    }\n",
       "\n",
       "    [theme=dark] .colab-df-convert:hover {\n",
       "      background-color: #434B5C;\n",
       "      box-shadow: 0px 1px 3px 1px rgba(0, 0, 0, 0.15);\n",
       "      filter: drop-shadow(0px 1px 2px rgba(0, 0, 0, 0.3));\n",
       "      fill: #FFFFFF;\n",
       "    }\n",
       "  </style>\n",
       "\n",
       "      <script>\n",
       "        const buttonEl =\n",
       "          document.querySelector('#df-28e48e1d-4bd6-4793-91ad-3e5896f6dceb button.colab-df-convert');\n",
       "        buttonEl.style.display =\n",
       "          google.colab.kernel.accessAllowed ? 'block' : 'none';\n",
       "\n",
       "        async function convertToInteractive(key) {\n",
       "          const element = document.querySelector('#df-28e48e1d-4bd6-4793-91ad-3e5896f6dceb');\n",
       "          const dataTable =\n",
       "            await google.colab.kernel.invokeFunction('convertToInteractive',\n",
       "                                                     [key], {});\n",
       "          if (!dataTable) return;\n",
       "\n",
       "          const docLinkHtml = 'Like what you see? Visit the ' +\n",
       "            '<a target=\"_blank\" href=https://colab.research.google.com/notebooks/data_table.ipynb>data table notebook</a>'\n",
       "            + ' to learn more about interactive tables.';\n",
       "          element.innerHTML = '';\n",
       "          dataTable['output_type'] = 'display_data';\n",
       "          await google.colab.output.renderOutput(dataTable, element);\n",
       "          const docLink = document.createElement('div');\n",
       "          docLink.innerHTML = docLinkHtml;\n",
       "          element.appendChild(docLink);\n",
       "        }\n",
       "      </script>\n",
       "    </div>\n",
       "  </div>\n",
       "  "
      ],
      "text/plain": [
       "        vehicleType  yearOfRegistration  ...     brand  notRepairedDamage\n",
       "0          0.000000            0.746269  ...  0.000000                0.0\n",
       "1          0.000000            0.850746  ...  0.026316                0.0\n",
       "2          0.142857            0.656716  ...  0.052632                1.0\n",
       "3          0.285714            0.791045  ...  0.078947                0.0\n",
       "4          0.142857            0.791045  ...  0.105263                0.0\n",
       "...             ...                 ...  ...       ...                ...\n",
       "232494     0.142857            0.880597  ...  0.000000                0.0\n",
       "232495     0.428571            0.805970  ...  0.052632                0.0\n",
       "232496     0.142857            0.791045  ...  0.236842                1.0\n",
       "232497     0.285714            0.731343  ...  0.342105                0.0\n",
       "232498     0.714286            0.671642  ...  0.000000                0.0\n",
       "\n",
       "[232499 rows x 9 columns]"
      ]
     },
     "metadata": {},
     "execution_count": 30
    }
   ]
  },
  {
   "cell_type": "markdown",
   "source": [],
   "metadata": {
    "collapsed": false
   }
  },
  {
   "cell_type": "code",
   "metadata": {
    "colab": {
     "base_uri": "https://localhost:8080/"
    },
    "id": "MeTHkrW80itz",
    "outputId": "1c6dce8e-73e2-4fb3-b6ab-4af226438ee9"
   },
   "source": [
    "Y"
   ],
   "execution_count": null,
   "outputs": [
    {
     "output_type": "execute_result",
     "data": {
      "text/plain": [
       "0         1500\n",
       "1         3600\n",
       "2          650\n",
       "3         2200\n",
       "4         2000\n",
       "          ... \n",
       "232494    7900\n",
       "232495    3999\n",
       "232496    3200\n",
       "232497    1199\n",
       "232498    9200\n",
       "Name: price, Length: 232499, dtype: int64"
      ]
     },
     "metadata": {},
     "execution_count": 31
    }
   ]
  },
  {
   "cell_type": "code",
   "metadata": {
    "id": "5IDOFNKCS36G"
   },
   "source": [
    "train_points, test_points, train_values, test_values = train_test_split(X, Y, test_size = 0.2)"
   ],
   "execution_count": null,
   "outputs": []
  },
  {
   "cell_type": "code",
   "metadata": {
    "colab": {
     "base_uri": "https://localhost:8080/"
    },
    "id": "wYTdT9KjgocG",
    "outputId": "caf8215a-7a25-410e-9833-df2c71ab981a"
   },
   "source": [
    "xg_reg.fit(train_points, train_values)"
   ],
   "execution_count": null,
   "outputs": [
    {
     "output_type": "execute_result",
     "data": {
      "text/plain": [
       "XGBRegressor(alpha=10, colsample_bytree=0.3, max_depth=5,\n",
       "             objective='reg:squarederror')"
      ]
     },
     "metadata": {},
     "execution_count": 33
    }
   ]
  },
  {
   "cell_type": "code",
   "metadata": {
    "id": "sDC8Kx0fguVg"
   },
   "source": [
    "xgb_predict = xg_reg.predict(test_points)"
   ],
   "execution_count": null,
   "outputs": []
  },
  {
   "cell_type": "code",
   "metadata": {
    "colab": {
     "base_uri": "https://localhost:8080/"
    },
    "id": "vyRM00eagx1P",
    "outputId": "95e71af4-1700-4d81-e369-0ca7367b855b"
   },
   "source": [
    "print(mean_absolute_error(test_values, xgb_predict))"
   ],
   "execution_count": null,
   "outputs": [
    {
     "output_type": "stream",
     "name": "stdout",
     "text": [
      "1263.6987663547352\n"
     ]
    }
   ]
  },
  {
   "cell_type": "markdown",
   "metadata": {
    "id": "8QwE6kCf337p"
   },
   "source": [
    "Положительная динамика в модели градиентного бустинга прослеживается, но она явно не претендует на роль ключевого фактора."
   ]
  },
  {
   "cell_type": "code",
   "metadata": {
    "id": "ptSS-jbhT1Ef"
   },
   "source": [
    "rf_model = RandomForestRegressor(n_estimators=100)\n",
    "rf_model.fit(train_points, train_values)\n",
    "rf_predict = rf_model.predict(test_points)"
   ],
   "execution_count": null,
   "outputs": []
  },
  {
   "cell_type": "code",
   "metadata": {
    "colab": {
     "base_uri": "https://localhost:8080/"
    },
    "id": "R3BOsQpmT-gv",
    "outputId": "fc9842af-196e-4075-9a2f-5815d37b3d53"
   },
   "source": [
    "print(mean_absolute_error(test_values, rf_predict))"
   ],
   "execution_count": null,
   "outputs": [
    {
     "output_type": "stream",
     "name": "stdout",
     "text": [
      "974.7274570763815\n"
     ]
    }
   ]
  },
  {
   "cell_type": "markdown",
   "metadata": {
    "id": "GKvKzWzu4W6h"
   },
   "source": [
    "А вот для случайного леса нормализация сыграла даже немного отрицательную роль. Связано это с тем, что при построении правил решающему дереву гораздо проще ориентироваться на натуральные числа, нежели на диапазон [0, 1]."
   ]
  },
  {
   "cell_type": "code",
   "metadata": {
    "colab": {
     "base_uri": "https://localhost:8080/"
    },
    "id": "utay7XvUUwcV",
    "outputId": "68a43887-ecc9-4575-f665-88ae6bee2196"
   },
   "source": [
    "nn_model = Sequential()\n",
    "nn_model.add(Dense(9, activation='relu'))\n",
    "nn_model.add(Dense(15, activation='relu'))\n",
    "nn_model.add(Dense(15, activation='relu'))\n",
    "nn_model.add(Dense(1))\n",
    "\n",
    "nn_model.compile(loss='mean_absolute_error', optimizer='adam')\n",
    "\n",
    "results = nn_model.fit(\n",
    " train_points, train_values,\n",
    " epochs= 10,\n",
    " batch_size = 100,\n",
    " validation_data = (test_points, test_values)\n",
    ")\n",
    "\n",
    "nn_predict = nn_model.predict(test_points)\n",
    "print(mean_absolute_error(test_values, nn_predict))"
   ],
   "execution_count": null,
   "outputs": [
    {
     "output_type": "stream",
     "name": "stdout",
     "text": [
      "Epoch 1/10\n",
      "1860/1860 [==============================] - 4s 2ms/step - loss: 3728.5068 - val_loss: 2994.7524\n",
      "Epoch 2/10\n",
      "1860/1860 [==============================] - 4s 2ms/step - loss: 2470.2717 - val_loss: 2084.2078\n",
      "Epoch 3/10\n",
      "1860/1860 [==============================] - 4s 2ms/step - loss: 1996.8756 - val_loss: 1942.6102\n",
      "Epoch 4/10\n",
      "1860/1860 [==============================] - 4s 2ms/step - loss: 1906.2253 - val_loss: 1878.4269\n",
      "Epoch 5/10\n",
      "1860/1860 [==============================] - 4s 2ms/step - loss: 1849.8571 - val_loss: 1825.7202\n",
      "Epoch 6/10\n",
      "1860/1860 [==============================] - 4s 2ms/step - loss: 1795.4567 - val_loss: 1770.6097\n",
      "Epoch 7/10\n",
      "1860/1860 [==============================] - 4s 2ms/step - loss: 1735.1031 - val_loss: 1708.7047\n",
      "Epoch 8/10\n",
      "1860/1860 [==============================] - 4s 2ms/step - loss: 1669.7462 - val_loss: 1643.5508\n",
      "Epoch 9/10\n",
      "1860/1860 [==============================] - 4s 2ms/step - loss: 1602.7610 - val_loss: 1583.8517\n",
      "Epoch 10/10\n",
      "1860/1860 [==============================] - 4s 2ms/step - loss: 1544.8677 - val_loss: 1529.1224\n",
      "1529.1221985076832\n"
     ]
    }
   ]
  },
  {
   "cell_type": "markdown",
   "metadata": {
    "id": "D8RMjnmV8KPj"
   },
   "source": [
    "Для нейросетевой модели нормализация значительно облегчила задачу, но приблизиться к точности ансамблевых методов мы так и не смогли.\n",
    "\n",
    "Рассмотрим популярность различных признаков при принятии решения в модели градиентного бустинга и попробуем удалить наиболее непопулярные."
   ]
  },
  {
   "cell_type": "code",
   "metadata": {
    "colab": {
     "base_uri": "https://localhost:8080/",
     "height": 54
    },
    "id": "rappD3bUiCrk",
    "outputId": "fd015bb9-8d35-4ae5-a649-387e0ea2d0fe"
   },
   "source": [
    "xgb.plot_importance(xg_reg)\n",
    "plt.show()"
   ],
   "execution_count": null,
   "outputs": [
    {
     "output_type": "display_data",
     "data": {
      "image/png": "[encoded data removed]",
      "text/plain": [
       "<Figure size 432x288 with 1 Axes>"
      ]
     },
     "metadata": {
      "needs_background": "light"
     }
    }
   ]
  },
  {
   "cell_type": "code",
   "metadata": {
    "id": "Qr6pJ_pp2SM6"
   },
   "source": [
    "del df_wo_na['notRepairedDamage']\n",
    "del df_wo_na['gearbox']\n",
    "train_points, test_points, train_values, test_values = train_test_split(X, Y, test_size = 0.2)"
   ],
   "execution_count": null,
   "outputs": []
  },
  {
   "cell_type": "markdown",
   "metadata": {
    "id": "8XxCYsgK9u6l"
   },
   "source": [
    "Проверим влияние внесенных изменений на качество наших моделей."
   ]
  },
  {
   "cell_type": "code",
   "metadata": {
    "colab": {
     "base_uri": "https://localhost:8080/"
    },
    "id": "oRda0bLv48r6",
    "outputId": "4c29a27d-6ad7-48f3-a8e2-14ee281ba147"
   },
   "source": [
    "nn_model = Sequential()\n",
    "nn_model.add(Dense(7, activation='relu'))\n",
    "nn_model.add(Dense(15, activation='relu'))\n",
    "nn_model.add(Dense(15, activation='relu'))\n",
    "nn_model.add(Dense(1))\n",
    "\n",
    "nn_model.compile(loss='mean_absolute_error', optimizer='adam')\n",
    "\n",
    "results = nn_model.fit(\n",
    " train_points, train_values,\n",
    " epochs= 10,\n",
    " batch_size = 100,\n",
    " validation_data = (test_points, test_values)\n",
    ")\n",
    "\n",
    "nn_predict = nn_model.predict(test_points)\n",
    "print(mean_absolute_error(test_values, nn_predict))"
   ],
   "execution_count": null,
   "outputs": [
    {
     "output_type": "stream",
     "name": "stdout",
     "text": [
      "Epoch 1/10\n",
      "1860/1860 [==============================] - 4s 2ms/step - loss: 3779.1697 - val_loss: 3155.6938\n",
      "Epoch 2/10\n",
      "1860/1860 [==============================] - 4s 2ms/step - loss: 2746.5845 - val_loss: 2285.4272\n",
      "Epoch 3/10\n",
      "1860/1860 [==============================] - 4s 2ms/step - loss: 2032.7822 - val_loss: 1951.3147\n",
      "Epoch 4/10\n",
      "1860/1860 [==============================] - 4s 2ms/step - loss: 1906.7482 - val_loss: 1888.9276\n",
      "Epoch 5/10\n",
      "1860/1860 [==============================] - 4s 2ms/step - loss: 1858.7948 - val_loss: 1844.8885\n",
      "Epoch 6/10\n",
      "1860/1860 [==============================] - 4s 2ms/step - loss: 1820.9855 - val_loss: 1812.6378\n",
      "Epoch 7/10\n",
      "1860/1860 [==============================] - 4s 2ms/step - loss: 1783.1458 - val_loss: 1769.7551\n",
      "Epoch 8/10\n",
      "1860/1860 [==============================] - 4s 2ms/step - loss: 1743.0916 - val_loss: 1725.0785\n",
      "Epoch 9/10\n",
      "1860/1860 [==============================] - 3s 2ms/step - loss: 1700.7660 - val_loss: 1681.0359\n",
      "Epoch 10/10\n",
      "1860/1860 [==============================] - 4s 2ms/step - loss: 1657.1899 - val_loss: 1638.2087\n",
      "1638.2095339972075\n"
     ]
    }
   ]
  },
  {
   "cell_type": "markdown",
   "metadata": {
    "id": "ajj3DxJ__KKW"
   },
   "source": [
    "Точность нейросетевой модели, хоть и незначительно, но упала."
   ]
  },
  {
   "cell_type": "code",
   "metadata": {
    "id": "Un7GqWiwjivj"
   },
   "source": [
    "rf_model = RandomForestRegressor(n_estimators=100)\n",
    "rf_model.fit(train_points, train_values)\n",
    "rf_predict = rf_model.predict(test_points)"
   ],
   "execution_count": null,
   "outputs": []
  },
  {
   "cell_type": "code",
   "metadata": {
    "colab": {
     "base_uri": "https://localhost:8080/"
    },
    "id": "VZC2oK_JjoBP",
    "outputId": "ecb9dbad-3093-43df-d1b7-66ca0127ff53"
   },
   "source": [
    "print(mean_absolute_error(test_values, rf_predict))"
   ],
   "execution_count": null,
   "outputs": [
    {
     "output_type": "stream",
     "name": "stdout",
     "text": [
      "977.8051286320285\n"
     ]
    }
   ]
  },
  {
   "cell_type": "code",
   "metadata": {
    "colab": {
     "base_uri": "https://localhost:8080/"
    },
    "id": "eFlAYnWH96AH",
    "outputId": "822fbe78-1b20-4f68-8074-9259d1148495"
   },
   "source": [
    "xg_reg.fit(train_points, train_values)\n",
    "xgb_predict = xg_reg.predict(test_points)\n",
    "print(mean_absolute_error(test_values, xgb_predict))"
   ],
   "execution_count": null,
   "outputs": [
    {
     "output_type": "stream",
     "name": "stdout",
     "text": [
      "1260.5457254826144\n"
     ]
    }
   ]
  },
  {
   "cell_type": "markdown",
   "metadata": {
    "id": "aPkXXniF_SZr"
   },
   "source": [
    "А вот ансамблевые методы показали небольшой рост точности."
   ]
  },
  {
   "cell_type": "markdown",
   "metadata": {
    "id": "48XPFSeJ-Kbw"
   },
   "source": [
    "Ну и напоследок проверим, каким образом скажется на качестве моделей разделение столбцов по способу факторизации."
   ]
  },
  {
   "cell_type": "code",
   "metadata": {
    "id": "E7arciZkmvbY"
   },
   "source": [
    "df_wo_na = df.dropna()\n",
    "df_wo_na.reset_index(inplace=True)\n",
    "del df_wo_na['index']"
   ],
   "execution_count": null,
   "outputs": []
  },
  {
   "cell_type": "markdown",
   "metadata": {
    "id": "u0aqqS9N-4cR"
   },
   "source": [
    "Для столбцов с высокой кардинальностью оставим стандартный алгоритм, а для столбцов с низкой применим OneHotEncoding."
   ]
  },
  {
   "cell_type": "code",
   "metadata": {
    "colab": {
     "base_uri": "https://localhost:8080/"
    },
    "id": "EyFYDVqMm4KV",
    "outputId": "63251197-1999-414e-8fb0-084b4480e9e9"
   },
   "source": [
    "column_names_fact = ['vehicleType', 'model','brand']\n",
    "column_names_dummies = ['gearbox', 'fuelType', 'notRepairedDamage']\n",
    "for i in column_names_fact:\n",
    "  df_wo_na[i] = pd.factorize(df_wo_na[i])[0]\n",
    "df_wo_na = pd.get_dummies(df_wo_na, prefix=column_names_dummies)"
   ],
   "execution_count": null,
   "outputs": [
    {
     "output_type": "stream",
     "name": "stderr",
     "text": [
      "/usr/local/lib/python3.7/dist-packages/ipykernel_launcher.py:4: SettingWithCopyWarning: \n",
      "A value is trying to be set on a copy of a slice from a DataFrame.\n",
      "Try using .loc[row_indexer,col_indexer] = value instead\n",
      "\n",
      "See the caveats in the documentation: https://pandas.pydata.org/pandas-docs/stable/user_guide/indexing.html#returning-a-view-versus-a-copy\n",
      "  after removing the cwd from sys.path.\n"
     ]
    }
   ]
  },
  {
   "cell_type": "code",
   "metadata": {
    "id": "KgKlrGHWnqXw"
   },
   "source": [
    "df_wo_na = df_wo_na[(df_wo_na['price'] < 20000) & (df_wo_na['price'] > 50)]\n",
    "df_wo_na.reset_index(inplace=True)\n",
    "del df_wo_na['index']"
   ],
   "execution_count": null,
   "outputs": []
  },
  {
   "cell_type": "code",
   "metadata": {
    "id": "oK7yBGj-okf9"
   },
   "source": [
    "Y = df_wo_na['price']\n",
    "X = df_wo_na.drop(['price'], axis = 1)"
   ],
   "execution_count": null,
   "outputs": []
  },
  {
   "cell_type": "code",
   "metadata": {
    "id": "aJ9Tzv3oo8rq"
   },
   "source": [
    "train_points, test_points, train_values, test_values = train_test_split(X, Y, test_size = 0.2)"
   ],
   "execution_count": null,
   "outputs": []
  },
  {
   "cell_type": "code",
   "metadata": {
    "id": "zqGQnF-2o_qw"
   },
   "source": [
    "rf_model = RandomForestRegressor(n_estimators=100)\n",
    "rf_model.fit(train_points, train_values)\n",
    "rf_predict = rf_model.predict(test_points)"
   ],
   "execution_count": null,
   "outputs": []
  },
  {
   "cell_type": "code",
   "metadata": {
    "colab": {
     "base_uri": "https://localhost:8080/"
    },
    "id": "5qzIUsdmpCTd",
    "outputId": "4d739716-a448-4389-8f9c-be0d688a305c"
   },
   "source": [
    "print(mean_absolute_error(test_values, rf_predict))"
   ],
   "execution_count": null,
   "outputs": [
    {
     "output_type": "stream",
     "name": "stdout",
     "text": [
      "971.7590725478934\n"
     ]
    }
   ]
  },
  {
   "cell_type": "markdown",
   "metadata": {
    "id": "AbU-NvtoCNH8"
   },
   "source": [
    "Модель случайного леса осталась равнодушна к увеличению количества столбцов."
   ]
  },
  {
   "cell_type": "code",
   "metadata": {
    "colab": {
     "base_uri": "https://localhost:8080/"
    },
    "id": "9YzQPzczpGlb",
    "outputId": "29c27476-7cc0-451e-b9c5-90457bb87739"
   },
   "source": [
    "xg_reg.fit(train_points, train_values)\n",
    "xgb_predict = xg_reg.predict(test_points)\n",
    "print(mean_absolute_error(test_values, xgb_predict))"
   ],
   "execution_count": null,
   "outputs": [
    {
     "output_type": "stream",
     "name": "stdout",
     "text": [
      "1169.2308541268892\n"
     ]
    }
   ]
  },
  {
   "cell_type": "markdown",
   "metadata": {
    "id": "muW70-7fCWR5"
   },
   "source": [
    "А вот градиентный бустинг значительно улучшил точность предсказываемой цены."
   ]
  },
  {
   "cell_type": "code",
   "metadata": {
    "colab": {
     "base_uri": "https://localhost:8080/"
    },
    "id": "GkP_umV9pJKi",
    "outputId": "7a69284f-1f0a-4054-dc31-38996a334052"
   },
   "source": [
    "nn_model = Sequential()\n",
    "nn_model.add(Dense(17, activation='relu'))\n",
    "nn_model.add(Dense(15, activation='relu'))\n",
    "nn_model.add(Dense(15, activation='relu'))\n",
    "nn_model.add(Dense(1))\n",
    "\n",
    "nn_model.compile(loss='mean_absolute_error', optimizer='adam')\n",
    "\n",
    "results = nn_model.fit(\n",
    " train_points, train_values,\n",
    " epochs= 10,\n",
    " batch_size = 100,\n",
    " validation_data = (test_points, test_values)\n",
    ")\n",
    "\n",
    "nn_predict = nn_model.predict(test_points)\n",
    "print(mean_absolute_error(test_values, nn_predict))"
   ],
   "execution_count": null,
   "outputs": [
    {
     "output_type": "stream",
     "name": "stdout",
     "text": [
      "Epoch 1/10\n",
      "1860/1860 [==============================] - 4s 2ms/step - loss: 3072.5933 - val_loss: 2802.3242\n",
      "Epoch 2/10\n",
      "1860/1860 [==============================] - 4s 2ms/step - loss: 2585.0920 - val_loss: 2455.4033\n",
      "Epoch 3/10\n",
      "1860/1860 [==============================] - 4s 2ms/step - loss: 2438.9395 - val_loss: 2413.8308\n",
      "Epoch 4/10\n",
      "1860/1860 [==============================] - 4s 2ms/step - loss: 2404.0010 - val_loss: 2366.2571\n",
      "Epoch 5/10\n",
      "1860/1860 [==============================] - 4s 2ms/step - loss: 2382.0056 - val_loss: 2351.4871\n",
      "Epoch 6/10\n",
      "1860/1860 [==============================] - 4s 2ms/step - loss: 2371.4365 - val_loss: 2314.9187\n",
      "Epoch 7/10\n",
      "1860/1860 [==============================] - 4s 2ms/step - loss: 2359.6353 - val_loss: 2351.5256\n",
      "Epoch 8/10\n",
      "1860/1860 [==============================] - 4s 2ms/step - loss: 2348.1101 - val_loss: 2286.4573\n",
      "Epoch 9/10\n",
      "1860/1860 [==============================] - 4s 2ms/step - loss: 2330.0085 - val_loss: 2273.3806\n",
      "Epoch 10/10\n",
      "1860/1860 [==============================] - 4s 2ms/step - loss: 2317.0752 - val_loss: 2271.6707\n",
      "2271.672128625357\n"
     ]
    }
   ]
  },
  {
   "cell_type": "markdown",
   "metadata": {
    "id": "RNWjdn72ChX2"
   },
   "source": [
    "Нейронные сети продемонcтрировали ухудшение качества модели при увеличении объема входных данных.\n",
    "\n",
    "Попробуем собрать еще модель линейной регрессии."
   ]
  },
  {
   "cell_type": "code",
   "metadata": {
    "colab": {
     "base_uri": "https://localhost:8080/"
    },
    "id": "u4fjL9kosGus",
    "outputId": "7db33d4d-79fe-41ea-93d8-07ba5169bec4"
   },
   "source": [
    "from sklearn.linear_model import LinearRegression\n",
    "model = LinearRegression()\n",
    "model.fit(train_points, train_values)\n",
    "lr_predict = model.predict(test_points)\n",
    "print(mean_absolute_error(test_values, lr_predict))"
   ],
   "execution_count": null,
   "outputs": [
    {
     "output_type": "stream",
     "name": "stdout",
     "text": [
      "2048.519384143262\n"
     ]
    }
   ]
  },
  {
   "cell_type": "markdown",
   "metadata": {
    "id": "kgTPbjhdD5Hd"
   },
   "source": [
    "Метрика MAE говорит, что модель линейной регрессии справляется с задачей лучше, чем нейронные сети. Проверим этот результат графически."
   ]
  },
  {
   "cell_type": "code",
   "metadata": {
    "colab": {
     "base_uri": "https://localhost:8080/",
     "height": 54
    },
    "id": "TIGdlnqUCGR8",
    "outputId": "156eadab-4a38-4ee3-f41c-0a98a71d8dfa"
   },
   "source": [
    "plt.figure(figsize=(7, 7))\n",
    "plt.scatter(test_values, lr_predict) # рисуем точки, соответствущие парам настоящее значение - прогноз\n",
    "plt.plot([0, max(test_values)], [0, max(lr_predict)]) # рисуем прямую, на которой предсказания и настоящие значения совпадают\n",
    "plt.xlabel('Настоящая цена', fontsize=20)\n",
    "plt.ylabel('Предсказанная цена', fontsize=20);"
   ],
   "execution_count": null,
   "outputs": [
    {
     "output_type": "display_data",
     "data": {
      "image/png": "[encoded data removed]",
      "text/plain": [
       "<Figure size 504x504 with 1 Axes>"
      ]
     },
     "metadata": {
      "needs_background": "light"
     }
    }
   ]
  },
  {
   "cell_type": "markdown",
   "metadata": {
    "id": "IkVZZ0ZoEJVU"
   },
   "source": [
    "Из-за излишней концентрации на вылетах модель линейной регрессии имеет тенденцию занижать цену для дорогих автомобилей. Связано это с тем, что наша выборка не является взвешенной, то есть имеет гораздо меньший объем записей об автомобилях с высокой ценой, чем с низкой."
   ]
  },
  {
   "cell_type": "markdown",
   "metadata": {
    "id": "d5aChX-BqhcD"
   },
   "source": [
    "## Построение регрессора для предсказания непрерывной величины (*Практическая* часть)"
   ]
  },
  {
   "cell_type": "markdown",
   "source": [
    "###Задание базового уровня\n",
    "\n",
    "Вашим заданием в данной лабораторной будет построение регрессионной модели для предсказания цены квартиры для датасета, содержащего информацию о продаже недвижимости в Нью-Йорке.\n",
    "\n",
    "https://www.kaggle.com/new-york-city/nyc-property-sales"
   ],
   "metadata": {
    "id": "m8cxOTI5OCap"
   }
  },
  {
   "cell_type": "markdown",
   "source": [],
   "metadata": {
    "collapsed": false
   }
  },
  {
   "cell_type": "markdown",
   "source": [
    "###Задание повышенного уровня\n",
    "\n",
    "Выполнить задание базового уровня. Методика оценки - **mean_absolute_error**. Ошибка для полученного решения должна быть ниже отметки **125000**.\n",
    "\n",
    "Размер датасета после всех производимых манипуляций должен быть больше **50000** записей.\n"
   ],
   "metadata": {
    "id": "j_8MBCNuOyVR"
   }
  },
  {
   "cell_type": "code",
   "source": [
    "%%capture\n",
    "!wget https://www.dropbox.com/s/0un1sdvifenp2ir/nyc-rolling-sales.csv"
   ],
   "metadata": {
    "id": "kS9s82OJXDg9"
   },
   "execution_count": null,
   "outputs": []
  }
 ]
}
