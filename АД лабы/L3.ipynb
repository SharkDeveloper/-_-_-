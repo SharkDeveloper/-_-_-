{
 "cells": [
  {
   "cell_type": "code",
   "execution_count": null,
   "id": "initial_id",
   "metadata": {
    "collapsed": true
   },
   "outputs": [],
   "source": [
    "# %%capture\n",
    "# !wget https://www.dropbox.com/s/ivy51wqobna8wbt/train_fix.zip\n",
    "# !wget https://www.dropbox.com/s/lot1946ol8q8u85/test.zip\n",
    "# \n",
    "# import requests\n",
    "# url = \"https://www.dropbox.com/s/lot1946ol8q8u85/test.zip?dl=1\"\n",
    "# r = requests.get(url, allow_redirects=True)\n",
    "# open('test.zip', 'wb').write(r.content)\n",
    "# \n",
    "# url = \"https://www.dropbox.com/s/ivy51wqobna8wbt/train_fix.zip?dl=1\"\n",
    "# r = requests.get(url, allow_redirects=True)\n",
    "# open('train_fix.zip', 'wb').write(r.content)\n"
   ]
  },
  {
   "cell_type": "code",
   "outputs": [],
   "source": [
    "from zipfile import ZipFile\n",
    "import numpy as np \n",
    "import pandas as pd \n",
    "import matplotlib.pyplot as plt\n",
    "import tensorflow as tf\n",
    "from PIL import Image\n",
    "import os\n",
    "import keras\n",
    "from sklearn.model_selection import train_test_split\n",
    "from keras.utils import to_categorical\n",
    "from keras.models import Sequential, load_model\n",
    "from keras.layers import Conv2D, MaxPool2D, Dense, Flatten, Dropout\n",
    "from tensorflow.keras.preprocessing.image import ImageDataGenerator\n",
    "\n"
   ],
   "metadata": {
    "collapsed": false
   },
   "id": "453cd967c657870d",
   "execution_count": null
  },
  {
   "cell_type": "code",
   "outputs": [],
   "source": [
    "zip1 = ZipFile('D:/Valerian/Documents/OneDrive/Python/ДопОбр Анализ данных/АД лабы/test.zip')\n",
    "zip1.extractall('D:/Valerian/Documents/OneDrive/Python/ДопОбр Анализ данных/АД лабы')\n",
    "zip2 = ZipFile('D:/Valerian/Documents/OneDrive/Python/ДопОбр Анализ данных/АД лабы/train_fix.zip')\n",
    "zip2.extractall('D:/Valerian/Documents/OneDrive/Python/ДопОбр Анализ данных/АД лабы')"
   ],
   "metadata": {
    "collapsed": false
   },
   "id": "f34a8c60a776e94e"
  },
  {
   "cell_type": "code",
   "outputs": [],
   "source": [
    "data_dir = \"D:/Valerian/Documents/OneDrive/Python/ДопОбр Анализ данных/АД лабы\"\n",
    "train_path = 'D:/Valerian/Documents/OneDrive/Python/ДопОбр Анализ данных/АД лабы/train/train/'\n",
    "test_path = 'D:/Valerian/Documents/OneDrive/Python/ДопОбр Анализ данных/АД лабы/test/'\n",
    "\n",
    "height = 224\n",
    "width = 224\n",
    "channels = 3\n",
    "\n",
    "data = []\n",
    "labels = []\n",
    "test_filesname = os.listdir(test_path)\n",
    "train_filesname = os.listdir(train_path)"
   ],
   "metadata": {
    "collapsed": false
   },
   "id": "1cc599df726ad607",
   "execution_count": null
  },
  {
   "cell_type": "code",
   "outputs": [
    {
     "ename": "PermissionError",
     "evalue": "[Errno 13] Permission denied: 'D:\\\\Valerian\\\\Documents\\\\OneDrive\\\\Python\\\\ДопОбр Анализ данных\\\\АД лабы\\\\test\\\\test'",
     "output_type": "error",
     "traceback": [
      "\u001B[1;31m---------------------------------------------------------------------------\u001B[0m",
      "\u001B[1;31mPermissionError\u001B[0m                           Traceback (most recent call last)",
      "Cell \u001B[1;32mIn[6], line 3\u001B[0m\n\u001B[0;32m      1\u001B[0m \u001B[38;5;28;01mfor\u001B[39;00m a \u001B[38;5;129;01min\u001B[39;00m test_filesname:\n\u001B[0;32m      2\u001B[0m     path \u001B[38;5;241m=\u001B[39m os\u001B[38;5;241m.\u001B[39mpath\u001B[38;5;241m.\u001B[39mjoin(test_path, a)\n\u001B[1;32m----> 3\u001B[0m     image \u001B[38;5;241m=\u001B[39m \u001B[43mImage\u001B[49m\u001B[38;5;241;43m.\u001B[39;49m\u001B[43mopen\u001B[49m\u001B[43m(\u001B[49m\u001B[43mpath\u001B[49m\u001B[43m)\u001B[49m\n\u001B[0;32m      4\u001B[0m     image \u001B[38;5;241m=\u001B[39m image\u001B[38;5;241m.\u001B[39mresize((height,width))\n\u001B[0;32m      5\u001B[0m     image \u001B[38;5;241m=\u001B[39m np\u001B[38;5;241m.\u001B[39marray(image)\n",
      "File \u001B[1;32mD:\\Valerian\\Documents\\OneDrive\\Python\\ДопОбр Анализ данных\\.venv\\Lib\\site-packages\\PIL\\Image.py:3277\u001B[0m, in \u001B[0;36mopen\u001B[1;34m(fp, mode, formats)\u001B[0m\n\u001B[0;32m   3274\u001B[0m     filename \u001B[38;5;241m=\u001B[39m os\u001B[38;5;241m.\u001B[39mpath\u001B[38;5;241m.\u001B[39mrealpath(os\u001B[38;5;241m.\u001B[39mfspath(fp))\n\u001B[0;32m   3276\u001B[0m \u001B[38;5;28;01mif\u001B[39;00m filename:\n\u001B[1;32m-> 3277\u001B[0m     fp \u001B[38;5;241m=\u001B[39m \u001B[43mbuiltins\u001B[49m\u001B[38;5;241;43m.\u001B[39;49m\u001B[43mopen\u001B[49m\u001B[43m(\u001B[49m\u001B[43mfilename\u001B[49m\u001B[43m,\u001B[49m\u001B[43m \u001B[49m\u001B[38;5;124;43m\"\u001B[39;49m\u001B[38;5;124;43mrb\u001B[39;49m\u001B[38;5;124;43m\"\u001B[39;49m\u001B[43m)\u001B[49m\n\u001B[0;32m   3278\u001B[0m     exclusive_fp \u001B[38;5;241m=\u001B[39m \u001B[38;5;28;01mTrue\u001B[39;00m\n\u001B[0;32m   3280\u001B[0m \u001B[38;5;28;01mtry\u001B[39;00m:\n",
      "\u001B[1;31mPermissionError\u001B[0m: [Errno 13] Permission denied: 'D:\\\\Valerian\\\\Documents\\\\OneDrive\\\\Python\\\\ДопОбр Анализ данных\\\\АД лабы\\\\test\\\\test'"
     ]
    }
   ],
   "source": [
    "\n",
    "for a in test_filesname:\n",
    "    path = os.path.join(test_path, a)\n",
    "    image = Image.open(path)\n",
    "    image = image.resize((height,width))\n",
    "    image = np.array(image)\n",
    "    data.append(image)\n",
    "\n",
    "\n",
    "data = np.array(data)      \n",
    "data"
   ],
   "metadata": {
    "collapsed": false,
    "ExecuteTime": {
     "end_time": "2024-06-06T00:23:30.745608200Z",
     "start_time": "2024-06-06T00:23:29.769405300Z"
    }
   },
   "id": "fcb18586e876614f",
   "execution_count": 6
  },
  {
   "cell_type": "code",
   "outputs": [],
   "source": [],
   "metadata": {
    "collapsed": false
   },
   "id": "46d08f1acdb48021"
  }
 ],
 "metadata": {
  "kernelspec": {
   "display_name": "Python 3",
   "language": "python",
   "name": "python3"
  },
  "language_info": {
   "codemirror_mode": {
    "name": "ipython",
    "version": 2
   },
   "file_extension": ".py",
   "mimetype": "text/x-python",
   "name": "python",
   "nbconvert_exporter": "python",
   "pygments_lexer": "ipython2",
   "version": "2.7.6"
  }
 },
 "nbformat": 4,
 "nbformat_minor": 5
}
