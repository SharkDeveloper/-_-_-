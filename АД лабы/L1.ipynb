{
 "cells": [
  {
   "cell_type": "code",
   "outputs": [],
   "source": [
    "import pandas as pd\n",
    "import numpy as np\n",
    "import matplotlib.pyplot as plt\n",
    "import copy\n",
    "import requests\n",
    "\n",
    "from sklearn import ensemble\n",
    "from sklearn.ensemble import RandomForestClassifier\n",
    "from sklearn.metrics import accuracy_score\n",
    "from sklearn.model_selection import train_test_split\n",
    "\n",
    "from tensorflow.keras import models, layers, optimizers, regularizers\n",
    "from keras import models\n",
    "from keras import layers\n",
    "from keras import backend\n",
    "from sklearn.preprocessing import OneHotEncoder\n",
    "import warnings\n",
    "warnings.filterwarnings(\"ignore\")"
   ],
   "metadata": {
    "collapsed": false
   },
   "id": "66648ea294363a32",
   "execution_count": null
  },
  {
   "cell_type": "code",
   "outputs": [],
   "source": [
    "df1 = pd.read_csv('train_1.csv', encoding='iso-8859-1')\n",
    "df2 = pd.read_csv('train_2.csv', encoding='iso-8859-1')\n",
    "df3 = pd.read_csv('test_1.csv', encoding='iso-8859-1')\n",
    "df4 = pd.read_csv('test_2.csv', encoding='iso-8859-1')\n"
   ],
   "metadata": {
    "collapsed": false
   },
   "id": "76dc4c725394c14e",
   "execution_count": null
  },
  {
   "cell_type": "code",
   "outputs": [],
   "source": [
    "value_column = [\"online_time\", \"1_total_fee\", \"2_total_fee\", \"3_total_fee\", \"4_total_fee\", \"month_traffic\",  \"contract_time\", \"pay_times\", \"last_month_traffic\", \"local_trafffic_month\", \"local_caller_time\", \"service1_caller_time\",  \"service2_caller_time\", \"age\", \"former_complaint_num\", \"former_complaint_fee\" ]\n",
    "\n",
    "categorical_column = [ \"current_service\", \"service_type\", \"is_mix_service\", \"many_over_bill\", \"contract_type\",  \"is_promise_low_consume\", \"net_service\", \"pay_num\", \"gender\",  \"complaint_level\",  ]\n",
    "categorical_column_without_trash_col =  [ \"current_service\", \"service_type\", \"is_mix_service\", \"many_over_bill\", \"contract_type\",  \"is_promise_low_consume\",  \"complaint_level\",  ]"
   ],
   "metadata": {
    "collapsed": false
   },
   "id": "3670bace4df75fc8",
   "execution_count": null
  },
  {
   "cell_type": "code",
   "outputs": [],
   "source": [
    "# Объединение всех таблиц в один DataFrame\n",
    "df_combined = pd.DataFrame(pd.concat([df1, df2, df3, df4], axis=0, ignore_index=True))\n",
    "# for i in range(len(df_combined)):\n",
    "#     for j in range(len(df_combined[0])):\n",
    "#         if df_combined[i][j] == None:\n",
    "#             df_combined = 0.5\n",
    "# df_combined = pd.DataFrame(df_combined)\n",
    "print(df_combined)\n",
    "del df_combined[\"net_service\"]\n",
    "del df_combined[\"pay_num\"]\n",
    "del df_combined[\"user_id\"]\n",
    "del df_combined[\"ï»¿service_type\"]\n",
    "df_combined.replace(\"\\\\N\", np.nan, inplace=True)\n",
    "df_combined.replace(\"NaN\",np.nan, inplace=True)\n",
    "df_combined = df_combined.dropna()\n",
    "\n",
    "print(df_combined)"
   ],
   "metadata": {
    "collapsed": false
   },
   "id": "72183bc50a6e8f45",
   "execution_count": null
  },
  {
   "cell_type": "code",
   "outputs": [],
   "source": [
    "\n",
    "df_combined = df_combined[(df_combined['gender'] == 1) | (df_combined['gender'] == 2) ]\n",
    "# Приведение столбца gender к типу int\n",
    "df_combined['gender'] = df_combined['gender'].astype(int)\n",
    "df_combined['gender'] = pd.factorize(df_combined['gender'])[0]\n",
    "\n",
    "\n",
    "names = [\"2_total_fee\", \"gender\", \"3_total_fee\", \"current_service\", \"service_type\"]\n",
    "\n",
    "\n",
    "# Создание экземпляра OneHotEncoder\n",
    "encoder = OneHotEncoder(sparse_output=False)\n",
    "\n",
    "for name in categorical_column_without_trash_col:\n",
    " # Применение OneHotEncoder к целевому столбцу\n",
    " encoded_columns = encoder.fit_transform(df_combined[[name]])\n",
    " \n",
    " # Преобразование закодированных данных в DataFrame\n",
    " encoded_df = pd.DataFrame(encoded_columns, columns=encoder.get_feature_names_out([name]))\n",
    " \n",
    " # Объединение закодированных столбцов с исходным DataFrame (удалив при этом исходный столбец)\n",
    " df = df_combined.drop(name, axis=1)\n",
    " df_combined = pd.concat([df, encoded_df], axis=1)\n",
    "\n",
    "\n",
    "del df_combined[\"complaint_level_nan\"]\n",
    "del df_combined[\"contract_type_nan\"]\n",
    "del df_combined[\"many_over_bill_nan\"]\n",
    "del df_combined[\"is_mix_service_nan\"]\n",
    "del df_combined[\"service_type_nan\"]\n",
    "\n",
    "df_combined.replace(\"\\\\N\", np.nan, inplace=True)\n",
    "df_combined.replace(\"NaN\",np.nan, inplace=True)\n",
    "df_combined = df_combined.dropna()\n",
    "\n",
    "print(df_combined)\n",
    "\n",
    "print(df_combined['gender'].value_counts())\n",
    "\n"
   ],
   "metadata": {
    "collapsed": false
   },
   "id": "b3c241e73f54bd7",
   "execution_count": null
  },
  {
   "cell_type": "code",
   "outputs": [],
   "source": [
    "values = df_combined['gender']\n",
    "points = df_combined.drop(['gender'], axis=1)\n",
    "train_points, test_points, train_values, test_values = train_test_split(points, values, test_size = 0.2)"
   ],
   "metadata": {
    "collapsed": false
   },
   "id": "9044f138c267e142",
   "execution_count": null
  },
  {
   "cell_type": "code",
   "outputs": [],
   "source": [
    "rf_model = ensemble.RandomForestClassifier(n_estimators=50)\n",
    "rf_model.fit(train_points, train_values)\n",
    "test_predict_rf = rf_model.predict(test_points)\n",
    "print(accuracy_score(test_values, test_predict_rf))\n"
   ],
   "metadata": {
    "collapsed": false
   },
   "id": "2918eade86f3d9a0",
   "execution_count": null
  },
  {
   "cell_type": "code",
   "outputs": [],
   "source": [
    "model = models.Sequential()\n",
    "model.add(layers.Dense(32, activation=\"relu\", input_shape=(train_points.shape[1],)))\n",
    "model.add(layers.Dense(64, activation=\"relu\"))\n",
    "model.add(layers.Dense(32, activation=\"relu\"))\n",
    "model.add(layers.Dense(1, activation=\"sigmoid\"))\n",
    "\n",
    "# Компиляция модели с измененной скоростью обучения\n",
    "optimizer = optimizers.Adam(learning_rate=0.001)\n",
    "model.compile(\n",
    "    optimizer=optimizer,\n",
    "    loss=\"binary_crossentropy\",\n",
    "    metrics=[\"accuracy\"]\n",
    ")\n",
    "\n",
    "# Обучение модели\n",
    "results = model.fit(\n",
    "    train_points, train_values,\n",
    "    epochs=10,\n",
    "    batch_size=100,\n",
    "    validation_data=(test_points, test_values)\n",
    ")\n",
    "\n",
    "# Проверка результатов\n",
    "print(\"Test-Accuracy:\", np.max(results.history[\"accuracy\"]))"
   ],
   "metadata": {
    "collapsed": false
   },
   "id": "aef915d749a92464",
   "execution_count": null
  },
  {
   "cell_type": "code",
   "outputs": [],
   "source": [
    "model = models.Sequential()\n",
    "model.add(layers.Dense(32, activation=\"relu\", input_shape=(train_points.shape[1],), kernel_regularizer=regularizers.l2(0.01)))\n",
    "model.add(layers.Dropout(0.5))\n",
    "model.add(layers.Dense(64, activation=\"relu\", kernel_regularizer=regularizers.l2(0.01)))\n",
    "model.add(layers.Dropout(0.5))\n",
    "model.add(layers.Dense(32, activation=\"relu\", kernel_regularizer=regularizers.l2(0.01)))\n",
    "model.add(layers.Dense(1, activation=\"sigmoid\"))\n",
    "\n",
    "optimizer = optimizers.Adam(learning_rate=0.001)\n",
    "model.compile(\n",
    "    optimizer=optimizer,\n",
    "    loss=\"binary_crossentropy\",\n",
    "    metrics=[\"accuracy\"]\n",
    ")\n",
    "\n",
    "results = model.fit(\n",
    "    train_points, train_values,\n",
    "    epochs=5,\n",
    "    batch_size=100,\n",
    "    validation_data=(test_points, test_values)\n",
    ")\n",
    "\n",
    "print(\"Test-Accuracy:\", np.max(results.history[\"accuracy\"]))"
   ],
   "metadata": {
    "collapsed": false
   },
   "id": "89043fb1f00c19f",
   "execution_count": null
  },
  {
   "cell_type": "code",
   "outputs": [],
   "source": [
    "import pandas as pd\n",
    "import numpy as np\n",
    "import matplotlib.pyplot as plt\n",
    "import seaborn as sns\n",
    "from scipy.stats import shapiro, zscore\n",
    "from scipy import stats\n",
    "\n",
    "# Проверка каждого столбца\n",
    "for column in df_combined.columns:\n",
    "    if df[column].dtype in ['int64', 'float64']:\n",
    "        print(f'--- {column} ---')\n",
    "        \n",
    "        # Гистограмма и плотность распределения\n",
    "        plt.figure(figsize=(10, 6))\n",
    "        sns.histplot(df[column], kde=True)\n",
    "        plt.title(f'Histogram and Density Plot of {column}')\n",
    "        plt.show()\n",
    "        \n",
    "        # Q-Q Plot\n",
    "        plt.figure(figsize=(10, 6))\n",
    "        stats.probplot(df[column], dist=\"norm\", plot=plt)\n",
    "        plt.title(f'Q-Q Plot of {column}')\n",
    "        plt.show()\n",
    "        \n",
    "        # Тест Шапиро-Уилка\n",
    "        stat, p = shapiro(df[column])\n",
    "        print('Statistics=%.3f, p=%.3f' % (stat, p))\n",
    "        if p > 0.05:\n",
    "            print('Sample looks Gaussian (fail to reject H0)')\n",
    "        else:\n",
    "            print('Sample does not look Gaussian (reject H0)')\n",
    "        \n",
    "        # Boxplot\n",
    "        plt.figure(figsize=(10, 6))\n",
    "        sns.boxplot(df[column])\n",
    "        plt.title(f'Boxplot of {column}')\n",
    "        plt.show()\n",
    "        \n",
    "        # Z-Score\n",
    "        z_scores = zscore(df[column])\n",
    "        outliers = np.where(np.abs(z_scores) > 3)\n",
    "        print(\"Outliers at indices:\", outliers)\n",
    "        \n",
    "        # IQR\n",
    "        Q1 = df[column].quantile(0.25)\n",
    "        Q3 = df[column].quantile(0.75)\n",
    "        IQR = Q3 - Q1\n",
    "        outliers = df[column][(df[column] < (Q1 - 1.5 * IQR)) | (df[column] > (Q3 + 1.5 * IQR))]\n",
    "        print(\"Outliers:\", outliers)"
   ],
   "metadata": {
    "collapsed": false
   },
   "id": "7454b2a9fe721844",
   "execution_count": null
  }
 ],
 "metadata": {
  "kernelspec": {
   "display_name": "Python 3",
   "language": "python",
   "name": "python3"
  },
  "language_info": {
   "codemirror_mode": {
    "name": "ipython",
    "version": 2
   },
   "file_extension": ".py",
   "mimetype": "text/x-python",
   "name": "python",
   "nbconvert_exporter": "python",
   "pygments_lexer": "ipython2",
   "version": "2.7.6"
  }
 },
 "nbformat": 4,
 "nbformat_minor": 5
}
