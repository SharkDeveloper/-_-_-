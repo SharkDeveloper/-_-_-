{
 "nbformat": 4,
 "nbformat_minor": 0,
 "metadata": {
  "colab": {
   "provenance": []
  },
  "kernelspec": {
   "name": "python3",
   "language": "python",
   "display_name": "Python 3 (ipykernel)"
  },
  "language_info": {
   "name": "python"
  }
 },
 "cells": [
  {
   "cell_type": "markdown",
   "metadata": {
    "id": "3zxDF1MEVCzo"
   },
   "source": [
    "# *Лабораторная работа №1*"
   ]
  },
  {
   "cell_type": "markdown",
   "metadata": {
    "id": "7TqqLzJtVMk4"
   },
   "source": [
    "## Построение бинарного классификатора (Теоретическая часть)"
   ]
  },
  {
   "cell_type": "markdown",
   "metadata": {
    "id": "EYh8az2OVuc-"
   },
   "source": [
    "Мы продолжаем работу над датасетом с данными о проданных подержанных автомобилях в Германии в 2016 году (см. [ссылку](https://colab.research.google.com/drive/1ReG_EYTl61ni1JOBNNPEeWwdRT3iofy_?usp=sharing)). В рамках текущей лабораторной необходимо построить модель бинарного классификатора, который бы позволил определить была ли машина в ремонте или нет. \n"
   ]
  },
  {
   "cell_type": "markdown",
   "metadata": {
    "id": "DfqmOZCZWPiZ"
   },
   "source": [
    "Подключим все необходимые для дальнейшей работы библиотеки."
   ]
  },
  {
   "cell_type": "code",
   "metadata": {
    "id": "WrHfdYCs1m-C",
    "ExecuteTime": {
     "end_time": "2024-05-26T23:35:50.039542900Z",
     "start_time": "2024-05-26T23:35:50.012957300Z"
    }
   },
   "source": [
    "import pandas as pd\n",
    "import numpy as np\n",
    "import matplotlib.pyplot as plt\n",
    "import copy\n",
    "\n",
    "from sklearn import ensemble\n",
    "from sklearn.ensemble import RandomForestClassifier\n",
    "from sklearn.metrics import accuracy_score\n",
    "from sklearn.model_selection import train_test_split\n",
    "\n",
    "from tensorflow.keras.utils import to_categorical\n",
    "from keras import models\n",
    "from keras import layers\n",
    "\n",
    "import warnings\n",
    "warnings.filterwarnings(\"ignore\")"
   ],
   "execution_count": 11,
   "outputs": []
  },
  {
   "cell_type": "markdown",
   "metadata": {
    "id": "P-Rglg9KWYeq"
   },
   "source": [
    "Загрузим базу данных, которая была получена нами в ходе предыдущей работы, т.е. в ней уже проведена определенная работа по очистке данных (подробнее см. лаб1). "
   ]
  },
  {
   "cell_type": "code",
   "metadata": {
    "id": "fJgzx_tFL0yG",
    "ExecuteTime": {
     "end_time": "2024-05-26T23:49:09.278189400Z",
     "start_time": "2024-05-26T23:49:09.232836Z"
    }
   },
   "source": [
    "%%capture\n",
    "!wget https://www.dropbox.com/s/s1sqfsi6x7hbs28/autos_mod.csv"
   ],
   "execution_count": 12,
   "outputs": []
  },
  {
   "cell_type": "markdown",
   "metadata": {
    "id": "TvRg1sBOWyOr"
   },
   "source": [
    "Записываем ее в датафрейм и проверим столбцы на наличие пустых значений."
   ]
  },
  {
   "cell_type": "code",
   "metadata": {
    "colab": {
     "base_uri": "https://localhost:8080/"
    },
    "id": "MARsKCvlKdf7",
    "outputId": "c8bfd0b1-7f8c-44e2-8485-2be06f26d27d",
    "ExecuteTime": {
     "end_time": "2024-05-26T23:49:11.471862600Z",
     "start_time": "2024-05-26T23:49:11.320827800Z"
    }
   },
   "source": [
    "df = pd.read_csv('autos_mod.csv', encoding='iso-8859-1')\n",
    "df.isnull().any()"
   ],
   "execution_count": 13,
   "outputs": [
    {
     "ename": "FileNotFoundError",
     "evalue": "[Errno 2] No such file or directory: 'autos_mod.csv'",
     "output_type": "error",
     "traceback": [
      "\u001B[1;31m---------------------------------------------------------------------------\u001B[0m",
      "\u001B[1;31mFileNotFoundError\u001B[0m                         Traceback (most recent call last)",
      "Cell \u001B[1;32mIn[13], line 1\u001B[0m\n\u001B[1;32m----> 1\u001B[0m df \u001B[38;5;241m=\u001B[39m \u001B[43mpd\u001B[49m\u001B[38;5;241;43m.\u001B[39;49m\u001B[43mread_csv\u001B[49m\u001B[43m(\u001B[49m\u001B[38;5;124;43m'\u001B[39;49m\u001B[38;5;124;43mautos_mod.csv\u001B[39;49m\u001B[38;5;124;43m'\u001B[39;49m\u001B[43m,\u001B[49m\u001B[43m \u001B[49m\u001B[43mencoding\u001B[49m\u001B[38;5;241;43m=\u001B[39;49m\u001B[38;5;124;43m'\u001B[39;49m\u001B[38;5;124;43miso-8859-1\u001B[39;49m\u001B[38;5;124;43m'\u001B[39;49m\u001B[43m)\u001B[49m\n\u001B[0;32m      2\u001B[0m df\u001B[38;5;241m.\u001B[39misnull()\u001B[38;5;241m.\u001B[39many()\n",
      "File \u001B[1;32mD:\\Valerian\\Documents\\OneDrive\\Python\\ДопОбр Анализ данных\\.venv\\Lib\\site-packages\\pandas\\io\\parsers\\readers.py:1026\u001B[0m, in \u001B[0;36mread_csv\u001B[1;34m(filepath_or_buffer, sep, delimiter, header, names, index_col, usecols, dtype, engine, converters, true_values, false_values, skipinitialspace, skiprows, skipfooter, nrows, na_values, keep_default_na, na_filter, verbose, skip_blank_lines, parse_dates, infer_datetime_format, keep_date_col, date_parser, date_format, dayfirst, cache_dates, iterator, chunksize, compression, thousands, decimal, lineterminator, quotechar, quoting, doublequote, escapechar, comment, encoding, encoding_errors, dialect, on_bad_lines, delim_whitespace, low_memory, memory_map, float_precision, storage_options, dtype_backend)\u001B[0m\n\u001B[0;32m   1013\u001B[0m kwds_defaults \u001B[38;5;241m=\u001B[39m _refine_defaults_read(\n\u001B[0;32m   1014\u001B[0m     dialect,\n\u001B[0;32m   1015\u001B[0m     delimiter,\n\u001B[1;32m   (...)\u001B[0m\n\u001B[0;32m   1022\u001B[0m     dtype_backend\u001B[38;5;241m=\u001B[39mdtype_backend,\n\u001B[0;32m   1023\u001B[0m )\n\u001B[0;32m   1024\u001B[0m kwds\u001B[38;5;241m.\u001B[39mupdate(kwds_defaults)\n\u001B[1;32m-> 1026\u001B[0m \u001B[38;5;28;01mreturn\u001B[39;00m \u001B[43m_read\u001B[49m\u001B[43m(\u001B[49m\u001B[43mfilepath_or_buffer\u001B[49m\u001B[43m,\u001B[49m\u001B[43m \u001B[49m\u001B[43mkwds\u001B[49m\u001B[43m)\u001B[49m\n",
      "File \u001B[1;32mD:\\Valerian\\Documents\\OneDrive\\Python\\ДопОбр Анализ данных\\.venv\\Lib\\site-packages\\pandas\\io\\parsers\\readers.py:620\u001B[0m, in \u001B[0;36m_read\u001B[1;34m(filepath_or_buffer, kwds)\u001B[0m\n\u001B[0;32m    617\u001B[0m _validate_names(kwds\u001B[38;5;241m.\u001B[39mget(\u001B[38;5;124m\"\u001B[39m\u001B[38;5;124mnames\u001B[39m\u001B[38;5;124m\"\u001B[39m, \u001B[38;5;28;01mNone\u001B[39;00m))\n\u001B[0;32m    619\u001B[0m \u001B[38;5;66;03m# Create the parser.\u001B[39;00m\n\u001B[1;32m--> 620\u001B[0m parser \u001B[38;5;241m=\u001B[39m \u001B[43mTextFileReader\u001B[49m\u001B[43m(\u001B[49m\u001B[43mfilepath_or_buffer\u001B[49m\u001B[43m,\u001B[49m\u001B[43m \u001B[49m\u001B[38;5;241;43m*\u001B[39;49m\u001B[38;5;241;43m*\u001B[39;49m\u001B[43mkwds\u001B[49m\u001B[43m)\u001B[49m\n\u001B[0;32m    622\u001B[0m \u001B[38;5;28;01mif\u001B[39;00m chunksize \u001B[38;5;129;01mor\u001B[39;00m iterator:\n\u001B[0;32m    623\u001B[0m     \u001B[38;5;28;01mreturn\u001B[39;00m parser\n",
      "File \u001B[1;32mD:\\Valerian\\Documents\\OneDrive\\Python\\ДопОбр Анализ данных\\.venv\\Lib\\site-packages\\pandas\\io\\parsers\\readers.py:1620\u001B[0m, in \u001B[0;36mTextFileReader.__init__\u001B[1;34m(self, f, engine, **kwds)\u001B[0m\n\u001B[0;32m   1617\u001B[0m     \u001B[38;5;28mself\u001B[39m\u001B[38;5;241m.\u001B[39moptions[\u001B[38;5;124m\"\u001B[39m\u001B[38;5;124mhas_index_names\u001B[39m\u001B[38;5;124m\"\u001B[39m] \u001B[38;5;241m=\u001B[39m kwds[\u001B[38;5;124m\"\u001B[39m\u001B[38;5;124mhas_index_names\u001B[39m\u001B[38;5;124m\"\u001B[39m]\n\u001B[0;32m   1619\u001B[0m \u001B[38;5;28mself\u001B[39m\u001B[38;5;241m.\u001B[39mhandles: IOHandles \u001B[38;5;241m|\u001B[39m \u001B[38;5;28;01mNone\u001B[39;00m \u001B[38;5;241m=\u001B[39m \u001B[38;5;28;01mNone\u001B[39;00m\n\u001B[1;32m-> 1620\u001B[0m \u001B[38;5;28mself\u001B[39m\u001B[38;5;241m.\u001B[39m_engine \u001B[38;5;241m=\u001B[39m \u001B[38;5;28;43mself\u001B[39;49m\u001B[38;5;241;43m.\u001B[39;49m\u001B[43m_make_engine\u001B[49m\u001B[43m(\u001B[49m\u001B[43mf\u001B[49m\u001B[43m,\u001B[49m\u001B[43m \u001B[49m\u001B[38;5;28;43mself\u001B[39;49m\u001B[38;5;241;43m.\u001B[39;49m\u001B[43mengine\u001B[49m\u001B[43m)\u001B[49m\n",
      "File \u001B[1;32mD:\\Valerian\\Documents\\OneDrive\\Python\\ДопОбр Анализ данных\\.venv\\Lib\\site-packages\\pandas\\io\\parsers\\readers.py:1880\u001B[0m, in \u001B[0;36mTextFileReader._make_engine\u001B[1;34m(self, f, engine)\u001B[0m\n\u001B[0;32m   1878\u001B[0m     \u001B[38;5;28;01mif\u001B[39;00m \u001B[38;5;124m\"\u001B[39m\u001B[38;5;124mb\u001B[39m\u001B[38;5;124m\"\u001B[39m \u001B[38;5;129;01mnot\u001B[39;00m \u001B[38;5;129;01min\u001B[39;00m mode:\n\u001B[0;32m   1879\u001B[0m         mode \u001B[38;5;241m+\u001B[39m\u001B[38;5;241m=\u001B[39m \u001B[38;5;124m\"\u001B[39m\u001B[38;5;124mb\u001B[39m\u001B[38;5;124m\"\u001B[39m\n\u001B[1;32m-> 1880\u001B[0m \u001B[38;5;28mself\u001B[39m\u001B[38;5;241m.\u001B[39mhandles \u001B[38;5;241m=\u001B[39m \u001B[43mget_handle\u001B[49m\u001B[43m(\u001B[49m\n\u001B[0;32m   1881\u001B[0m \u001B[43m    \u001B[49m\u001B[43mf\u001B[49m\u001B[43m,\u001B[49m\n\u001B[0;32m   1882\u001B[0m \u001B[43m    \u001B[49m\u001B[43mmode\u001B[49m\u001B[43m,\u001B[49m\n\u001B[0;32m   1883\u001B[0m \u001B[43m    \u001B[49m\u001B[43mencoding\u001B[49m\u001B[38;5;241;43m=\u001B[39;49m\u001B[38;5;28;43mself\u001B[39;49m\u001B[38;5;241;43m.\u001B[39;49m\u001B[43moptions\u001B[49m\u001B[38;5;241;43m.\u001B[39;49m\u001B[43mget\u001B[49m\u001B[43m(\u001B[49m\u001B[38;5;124;43m\"\u001B[39;49m\u001B[38;5;124;43mencoding\u001B[39;49m\u001B[38;5;124;43m\"\u001B[39;49m\u001B[43m,\u001B[49m\u001B[43m \u001B[49m\u001B[38;5;28;43;01mNone\u001B[39;49;00m\u001B[43m)\u001B[49m\u001B[43m,\u001B[49m\n\u001B[0;32m   1884\u001B[0m \u001B[43m    \u001B[49m\u001B[43mcompression\u001B[49m\u001B[38;5;241;43m=\u001B[39;49m\u001B[38;5;28;43mself\u001B[39;49m\u001B[38;5;241;43m.\u001B[39;49m\u001B[43moptions\u001B[49m\u001B[38;5;241;43m.\u001B[39;49m\u001B[43mget\u001B[49m\u001B[43m(\u001B[49m\u001B[38;5;124;43m\"\u001B[39;49m\u001B[38;5;124;43mcompression\u001B[39;49m\u001B[38;5;124;43m\"\u001B[39;49m\u001B[43m,\u001B[49m\u001B[43m \u001B[49m\u001B[38;5;28;43;01mNone\u001B[39;49;00m\u001B[43m)\u001B[49m\u001B[43m,\u001B[49m\n\u001B[0;32m   1885\u001B[0m \u001B[43m    \u001B[49m\u001B[43mmemory_map\u001B[49m\u001B[38;5;241;43m=\u001B[39;49m\u001B[38;5;28;43mself\u001B[39;49m\u001B[38;5;241;43m.\u001B[39;49m\u001B[43moptions\u001B[49m\u001B[38;5;241;43m.\u001B[39;49m\u001B[43mget\u001B[49m\u001B[43m(\u001B[49m\u001B[38;5;124;43m\"\u001B[39;49m\u001B[38;5;124;43mmemory_map\u001B[39;49m\u001B[38;5;124;43m\"\u001B[39;49m\u001B[43m,\u001B[49m\u001B[43m \u001B[49m\u001B[38;5;28;43;01mFalse\u001B[39;49;00m\u001B[43m)\u001B[49m\u001B[43m,\u001B[49m\n\u001B[0;32m   1886\u001B[0m \u001B[43m    \u001B[49m\u001B[43mis_text\u001B[49m\u001B[38;5;241;43m=\u001B[39;49m\u001B[43mis_text\u001B[49m\u001B[43m,\u001B[49m\n\u001B[0;32m   1887\u001B[0m \u001B[43m    \u001B[49m\u001B[43merrors\u001B[49m\u001B[38;5;241;43m=\u001B[39;49m\u001B[38;5;28;43mself\u001B[39;49m\u001B[38;5;241;43m.\u001B[39;49m\u001B[43moptions\u001B[49m\u001B[38;5;241;43m.\u001B[39;49m\u001B[43mget\u001B[49m\u001B[43m(\u001B[49m\u001B[38;5;124;43m\"\u001B[39;49m\u001B[38;5;124;43mencoding_errors\u001B[39;49m\u001B[38;5;124;43m\"\u001B[39;49m\u001B[43m,\u001B[49m\u001B[43m \u001B[49m\u001B[38;5;124;43m\"\u001B[39;49m\u001B[38;5;124;43mstrict\u001B[39;49m\u001B[38;5;124;43m\"\u001B[39;49m\u001B[43m)\u001B[49m\u001B[43m,\u001B[49m\n\u001B[0;32m   1888\u001B[0m \u001B[43m    \u001B[49m\u001B[43mstorage_options\u001B[49m\u001B[38;5;241;43m=\u001B[39;49m\u001B[38;5;28;43mself\u001B[39;49m\u001B[38;5;241;43m.\u001B[39;49m\u001B[43moptions\u001B[49m\u001B[38;5;241;43m.\u001B[39;49m\u001B[43mget\u001B[49m\u001B[43m(\u001B[49m\u001B[38;5;124;43m\"\u001B[39;49m\u001B[38;5;124;43mstorage_options\u001B[39;49m\u001B[38;5;124;43m\"\u001B[39;49m\u001B[43m,\u001B[49m\u001B[43m \u001B[49m\u001B[38;5;28;43;01mNone\u001B[39;49;00m\u001B[43m)\u001B[49m\u001B[43m,\u001B[49m\n\u001B[0;32m   1889\u001B[0m \u001B[43m\u001B[49m\u001B[43m)\u001B[49m\n\u001B[0;32m   1890\u001B[0m \u001B[38;5;28;01massert\u001B[39;00m \u001B[38;5;28mself\u001B[39m\u001B[38;5;241m.\u001B[39mhandles \u001B[38;5;129;01mis\u001B[39;00m \u001B[38;5;129;01mnot\u001B[39;00m \u001B[38;5;28;01mNone\u001B[39;00m\n\u001B[0;32m   1891\u001B[0m f \u001B[38;5;241m=\u001B[39m \u001B[38;5;28mself\u001B[39m\u001B[38;5;241m.\u001B[39mhandles\u001B[38;5;241m.\u001B[39mhandle\n",
      "File \u001B[1;32mD:\\Valerian\\Documents\\OneDrive\\Python\\ДопОбр Анализ данных\\.venv\\Lib\\site-packages\\pandas\\io\\common.py:873\u001B[0m, in \u001B[0;36mget_handle\u001B[1;34m(path_or_buf, mode, encoding, compression, memory_map, is_text, errors, storage_options)\u001B[0m\n\u001B[0;32m    868\u001B[0m \u001B[38;5;28;01melif\u001B[39;00m \u001B[38;5;28misinstance\u001B[39m(handle, \u001B[38;5;28mstr\u001B[39m):\n\u001B[0;32m    869\u001B[0m     \u001B[38;5;66;03m# Check whether the filename is to be opened in binary mode.\u001B[39;00m\n\u001B[0;32m    870\u001B[0m     \u001B[38;5;66;03m# Binary mode does not support 'encoding' and 'newline'.\u001B[39;00m\n\u001B[0;32m    871\u001B[0m     \u001B[38;5;28;01mif\u001B[39;00m ioargs\u001B[38;5;241m.\u001B[39mencoding \u001B[38;5;129;01mand\u001B[39;00m \u001B[38;5;124m\"\u001B[39m\u001B[38;5;124mb\u001B[39m\u001B[38;5;124m\"\u001B[39m \u001B[38;5;129;01mnot\u001B[39;00m \u001B[38;5;129;01min\u001B[39;00m ioargs\u001B[38;5;241m.\u001B[39mmode:\n\u001B[0;32m    872\u001B[0m         \u001B[38;5;66;03m# Encoding\u001B[39;00m\n\u001B[1;32m--> 873\u001B[0m         handle \u001B[38;5;241m=\u001B[39m \u001B[38;5;28;43mopen\u001B[39;49m\u001B[43m(\u001B[49m\n\u001B[0;32m    874\u001B[0m \u001B[43m            \u001B[49m\u001B[43mhandle\u001B[49m\u001B[43m,\u001B[49m\n\u001B[0;32m    875\u001B[0m \u001B[43m            \u001B[49m\u001B[43mioargs\u001B[49m\u001B[38;5;241;43m.\u001B[39;49m\u001B[43mmode\u001B[49m\u001B[43m,\u001B[49m\n\u001B[0;32m    876\u001B[0m \u001B[43m            \u001B[49m\u001B[43mencoding\u001B[49m\u001B[38;5;241;43m=\u001B[39;49m\u001B[43mioargs\u001B[49m\u001B[38;5;241;43m.\u001B[39;49m\u001B[43mencoding\u001B[49m\u001B[43m,\u001B[49m\n\u001B[0;32m    877\u001B[0m \u001B[43m            \u001B[49m\u001B[43merrors\u001B[49m\u001B[38;5;241;43m=\u001B[39;49m\u001B[43merrors\u001B[49m\u001B[43m,\u001B[49m\n\u001B[0;32m    878\u001B[0m \u001B[43m            \u001B[49m\u001B[43mnewline\u001B[49m\u001B[38;5;241;43m=\u001B[39;49m\u001B[38;5;124;43m\"\u001B[39;49m\u001B[38;5;124;43m\"\u001B[39;49m\u001B[43m,\u001B[49m\n\u001B[0;32m    879\u001B[0m \u001B[43m        \u001B[49m\u001B[43m)\u001B[49m\n\u001B[0;32m    880\u001B[0m     \u001B[38;5;28;01melse\u001B[39;00m:\n\u001B[0;32m    881\u001B[0m         \u001B[38;5;66;03m# Binary mode\u001B[39;00m\n\u001B[0;32m    882\u001B[0m         handle \u001B[38;5;241m=\u001B[39m \u001B[38;5;28mopen\u001B[39m(handle, ioargs\u001B[38;5;241m.\u001B[39mmode)\n",
      "\u001B[1;31mFileNotFoundError\u001B[0m: [Errno 2] No such file or directory: 'autos_mod.csv'"
     ]
    }
   ]
  },
  {
   "cell_type": "markdown",
   "metadata": {
    "id": "YVmFc0AFW_Zp"
   },
   "source": [
    "Удалим столбец, который возник в процессе переписывания набора данных, так как никакой полезной информации он не несет."
   ]
  },
  {
   "cell_type": "code",
   "metadata": {
    "id": "Cw7f9Hw21m-M"
   },
   "source": [
    "del df[\"Unnamed: 0\"]"
   ],
   "execution_count": 4,
   "outputs": []
  },
  {
   "cell_type": "markdown",
   "metadata": {
    "id": "93PTyP6mXReM"
   },
   "source": [
    "Воспользуемся самым ленивым способом восстановления данных и очистим все столбцы от пустых значений, чтобы работать с исключительно неповрежденными записями."
   ]
  },
  {
   "cell_type": "code",
   "metadata": {
    "id": "aT3qPEmL1m-N"
   },
   "source": [
    "df = df.drop(df[pd.isnull(df['vehicleType'])].index)\n",
    "df = df.drop(df[pd.isnull(df['gearbox'])].index)\n",
    "df = df.drop(df[pd.isnull(df['model'])].index)\n",
    "df = df.drop(df[pd.isnull(df['fuelType'])].index)\n",
    "df = df.drop(df[pd.isnull(df['notRepairedDamage'])].index)"
   ],
   "execution_count": 5,
   "outputs": []
  },
  {
   "cell_type": "markdown",
   "metadata": {
    "id": "VFf_lZAqXtAu"
   },
   "source": [
    "Проверим, что у нас не осталось записей с пустыми значениями."
   ]
  },
  {
   "cell_type": "code",
   "metadata": {
    "colab": {
     "base_uri": "https://localhost:8080/"
    },
    "id": "tR0MkqhD2s5M",
    "outputId": "37f19b3e-3e62-4ee9-9c66-92e22af67d85"
   },
   "source": [
    "df.info()"
   ],
   "execution_count": 6,
   "outputs": [
    {
     "output_type": "stream",
     "name": "stdout",
     "text": [
      "<class 'pandas.core.frame.DataFrame'>\n",
      "Int64Index: 250919 entries, 2 to 329656\n",
      "Data columns (total 10 columns):\n",
      " #   Column              Non-Null Count   Dtype \n",
      "---  ------              --------------   ----- \n",
      " 0   price               250919 non-null  int64 \n",
      " 1   vehicleType         250919 non-null  object\n",
      " 2   yearOfRegistration  250919 non-null  int64 \n",
      " 3   gearbox             250919 non-null  object\n",
      " 4   powerPS             250919 non-null  int64 \n",
      " 5   model               250919 non-null  object\n",
      " 6   kilometer           250919 non-null  int64 \n",
      " 7   fuelType            250919 non-null  object\n",
      " 8   brand               250919 non-null  object\n",
      " 9   notRepairedDamage   250919 non-null  object\n",
      "dtypes: int64(4), object(6)\n",
      "memory usage: 21.1+ MB\n"
     ]
    }
   ]
  },
  {
   "cell_type": "markdown",
   "metadata": {
    "id": "WdLNTeJYX7nx"
   },
   "source": [
    "В нашем наборе данных достаточно большое количество полей типа object. Для того, чтобы с ними можно было работать, необходимо провести факторизацию, но сначала рассмотрим эти значения."
   ]
  },
  {
   "cell_type": "code",
   "metadata": {
    "colab": {
     "base_uri": "https://localhost:8080/"
    },
    "id": "0a0eudPL1m-P",
    "outputId": "a4b44cb1-3ee4-48c8-aa2a-83d3d6dd9b16"
   },
   "source": [
    "df['vehicleType'].unique()"
   ],
   "execution_count": 7,
   "outputs": [
    {
     "output_type": "execute_result",
     "data": {
      "text/plain": [
       "array(['kleinwagen', 'limousine', 'cabrio', 'kombi', 'suv', 'bus',\n",
       "       'coupe', 'andere'], dtype=object)"
      ]
     },
     "metadata": {},
     "execution_count": 7
    }
   ]
  },
  {
   "cell_type": "code",
   "metadata": {
    "colab": {
     "base_uri": "https://localhost:8080/"
    },
    "id": "7aL7d9Vi1m-Q",
    "outputId": "7c06ce10-3543-411c-fad8-ad1084686b25"
   },
   "source": [
    "df['gearbox'].unique()"
   ],
   "execution_count": 8,
   "outputs": [
    {
     "output_type": "execute_result",
     "data": {
      "text/plain": [
       "array(['manuell', 'automatik'], dtype=object)"
      ]
     },
     "metadata": {},
     "execution_count": 8
    }
   ]
  },
  {
   "cell_type": "code",
   "metadata": {
    "colab": {
     "base_uri": "https://localhost:8080/"
    },
    "id": "Lu5LpkuR1m-Q",
    "outputId": "92645aef-466d-4f25-92df-be39f174059e"
   },
   "source": [
    "df['model'].unique()"
   ],
   "execution_count": 9,
   "outputs": [
    {
     "output_type": "execute_result",
     "data": {
      "text/plain": [
       "array(['golf', 'fabia', '3er', '2_reihe', 'andere', '3_reihe', 'passat',\n",
       "       'navara', 'twingo', 'c_max', 'a_klasse', 'scirocco', '5er',\n",
       "       'arosa', 'civic', 'transporter', 'punto', 'e_klasse', 'one',\n",
       "       'clio', '1er', 'b_klasse', 'fortwo', 'a8', 'jetta', 'fiesta',\n",
       "       'c_klasse', 'micra', 'vito', 'sprinter', '156', 'escort',\n",
       "       'forester', 'scenic', 'a1', 'focus', 'tt', 'astra', 'a6', 'jazz',\n",
       "       'polo', 'slk', '7er', 'combo', '80', '147', 'glk', 'meriva',\n",
       "       'z_reihe', 'ibiza', 'mustang', 'eos', 'a4', 'touran', 'getz',\n",
       "       'insignia', 'megane', 'a3', 'lupo', 'r19', 'colt', 'corsa',\n",
       "       'vectra', 'berlingo', 'm_klasse', 'tiguan', '6_reihe', 'c4',\n",
       "       'panda', 'up', 'i_reihe', 'ceed', 'kangoo', '5_reihe', 'yeti',\n",
       "       'octavia', 'zafira', 'mii', 'rx_reihe', 'mondeo', '6er', 'fox',\n",
       "       'matiz', 'beetle', 'rio', 'touareg', 'logan', 'omega', 'cuore',\n",
       "       's_max', 'modus', 'a2', 'x_reihe', 'a5', 'galaxy', 'c3', 'viano',\n",
       "       's_klasse', 'sharan', 'avensis', 'sl', 'roomster', 'q5', 'kaefer',\n",
       "       'santa', 'leon', 'cooper', 'sportage', 'caddy', 'clk', 'primera',\n",
       "       '4_reihe', 'espace', 'exeo', 'juke', '1_reihe', 'v40', 'accord',\n",
       "       'corolla', 'grand', 'phaeton', 'boxster', 'cordoba', 'verso',\n",
       "       'swift', 'rav', 'kuga', 'qashqai', '159', 'picanto', 'stilo',\n",
       "       'alhambra', '911', 'ka', 'm_reihe', 'roadster', 'ypsilon',\n",
       "       'galant', 'impreza', 'sirion', 'signum', 'crossfire', 'agila',\n",
       "       'duster', 'sorento', 'v50', 'mx_reihe', '500', 'discovery',\n",
       "       'c_reihe', 'v_klasse', 'yaris', 'c5', 'aygo', 'almera', 'cc',\n",
       "       'bora', 'forfour', 'cl', 'tigra', '300c', 'ptcruiser', 'transit',\n",
       "       '100', 'cr_reihe', 'xc_reihe', 'spark', 'laguna', 'x_type',\n",
       "       'ducato', 's_type', 'x_trail', 'toledo', 'altea', 'voyager',\n",
       "       'carnival', 'v70', 'bravo', 'range_rover', 'carisma', 'q7', 'c1',\n",
       "       'kadett', 'citigo', 'jimny', 'cx_reihe', 'cayenne', 'wrangler',\n",
       "       'lybra', 'lancer', 'freelander', 'captiva', 'fusion',\n",
       "       'range_rover_evoque', 'sandero', 'note', 'q3', 'spider', '90',\n",
       "       'antara', 'defender', 'cherokee', 'seicento', 'clubman', 'legacy',\n",
       "       'pajero', 'c2', 'niva', 's60', '900', 'nubira', 'vivaro', 'lanos',\n",
       "       'tucson', 'g_klasse', 'auris', 'lodgy', 'range_rover_sport', '601',\n",
       "       '850', 'superb', 'justy', 'serie_2', 'calibra', 'charade', 'croma',\n",
       "       'outlander', 'gl', 'doblo', 'amarok', 'musa', '9000', 'kalos',\n",
       "       'v60', '200', 'b_max', 'delta', '145', 'aveo', 'move', 'materia',\n",
       "       'terios', 'kalina', 'elefantino', 'i3', 'samara', 'rangerover',\n",
       "       'serie_3', 'kappa', 'discovery_sport'], dtype=object)"
      ]
     },
     "metadata": {},
     "execution_count": 9
    }
   ]
  },
  {
   "cell_type": "code",
   "metadata": {
    "colab": {
     "base_uri": "https://localhost:8080/"
    },
    "id": "7UhUiBt11m-Q",
    "outputId": "dcc74f4c-c5c2-45c3-bb7e-d79cb0a2053f"
   },
   "source": [
    "df['fuelType'].unique()"
   ],
   "execution_count": 10,
   "outputs": [
    {
     "output_type": "execute_result",
     "data": {
      "text/plain": [
       "array(['benzin', 'diesel', 'lpg', 'andere', 'hybrid', 'cng', 'elektro'],\n",
       "      dtype=object)"
      ]
     },
     "metadata": {},
     "execution_count": 10
    }
   ]
  },
  {
   "cell_type": "code",
   "metadata": {
    "colab": {
     "base_uri": "https://localhost:8080/"
    },
    "id": "FaTMZjFm1m-R",
    "outputId": "db592f1c-3a2e-48a9-fc66-e6834fbe5f19"
   },
   "source": [
    "df['notRepairedDamage'].unique()"
   ],
   "execution_count": 11,
   "outputs": [
    {
     "output_type": "execute_result",
     "data": {
      "text/plain": [
       "array(['nein', 'ja'], dtype=object)"
      ]
     },
     "metadata": {},
     "execution_count": 11
    }
   ]
  },
  {
   "cell_type": "markdown",
   "metadata": {
    "id": "LhQsAdZHYZpf"
   },
   "source": [
    "Для поля, которое нас интересует больше всего проверим соотношение количества записей, относящихся к разным классам."
   ]
  },
  {
   "cell_type": "code",
   "metadata": {
    "colab": {
     "base_uri": "https://localhost:8080/"
    },
    "id": "CJG5aQ7_1m-S",
    "outputId": "3a915aaf-d262-4efd-e7eb-882ba8a834c5"
   },
   "source": [
    "df['notRepairedDamage'].value_counts()"
   ],
   "execution_count": 12,
   "outputs": [
    {
     "output_type": "execute_result",
     "data": {
      "text/plain": [
       "nein    225322\n",
       "ja       25597\n",
       "Name: notRepairedDamage, dtype: int64"
      ]
     },
     "metadata": {},
     "execution_count": 12
    }
   ]
  },
  {
   "cell_type": "markdown",
   "metadata": {
    "id": "RPH8N4SRYnqy"
   },
   "source": [
    "Отношение 1 к 10 не является хорошим, так как обеспечивает перевес объектов одного класса. Данный момент можно попытаться обойти, уравновесив выборки по принадлежности к классам. В рамках данной методички продолжим обучение на необработанной выборке."
   ]
  },
  {
   "cell_type": "markdown",
   "metadata": {
    "id": "H8qtgmxNZSwm"
   },
   "source": [
    "Проведем факторизацию и проверим результат ее исполнения."
   ]
  },
  {
   "cell_type": "code",
   "metadata": {
    "colab": {
     "base_uri": "https://localhost:8080/",
     "height": 206
    },
    "id": "xLIm61uX1m-T",
    "outputId": "22443701-84ad-479a-f311-037df02fbece"
   },
   "source": [
    "names = ['vehicleType', 'gearbox', 'model', 'fuelType', 'brand', 'notRepairedDamage']\n",
    "for name in names:\n",
    "    df[name] = pd.factorize(df[name])[0]\n",
    "df.head()"
   ],
   "execution_count": 13,
   "outputs": [
    {
     "output_type": "execute_result",
     "data": {
      "text/plain": [
       "   price  vehicleType  yearOfRegistration  gearbox  powerPS  model  kilometer  \\\n",
       "2   1500            0                2001        0       75      0     150000   \n",
       "3   3600            0                2008        0       69      1      90000   \n",
       "4    650            1                1995        0      102      2     150000   \n",
       "5   2200            2                2004        0      109      3     150000   \n",
       "6      0            1                1980        0       50      4      40000   \n",
       "\n",
       "   fuelType  brand  notRepairedDamage  \n",
       "2         0      0                  0  \n",
       "3         1      1                  0  \n",
       "4         0      2                  1  \n",
       "5         0      3                  0  \n",
       "6         0      0                  0  "
      ],
      "text/html": [
       "\n",
       "  <div id=\"df-3dd5879d-9db1-443b-8eb5-9bbb2b37c5f2\">\n",
       "    <div class=\"colab-df-container\">\n",
       "      <div>\n",
       "<style scoped>\n",
       "    .dataframe tbody tr th:only-of-type {\n",
       "        vertical-align: middle;\n",
       "    }\n",
       "\n",
       "    .dataframe tbody tr th {\n",
       "        vertical-align: top;\n",
       "    }\n",
       "\n",
       "    .dataframe thead th {\n",
       "        text-align: right;\n",
       "    }\n",
       "</style>\n",
       "<table border=\"1\" class=\"dataframe\">\n",
       "  <thead>\n",
       "    <tr style=\"text-align: right;\">\n",
       "      <th></th>\n",
       "      <th>price</th>\n",
       "      <th>vehicleType</th>\n",
       "      <th>yearOfRegistration</th>\n",
       "      <th>gearbox</th>\n",
       "      <th>powerPS</th>\n",
       "      <th>model</th>\n",
       "      <th>kilometer</th>\n",
       "      <th>fuelType</th>\n",
       "      <th>brand</th>\n",
       "      <th>notRepairedDamage</th>\n",
       "    </tr>\n",
       "  </thead>\n",
       "  <tbody>\n",
       "    <tr>\n",
       "      <th>2</th>\n",
       "      <td>1500</td>\n",
       "      <td>0</td>\n",
       "      <td>2001</td>\n",
       "      <td>0</td>\n",
       "      <td>75</td>\n",
       "      <td>0</td>\n",
       "      <td>150000</td>\n",
       "      <td>0</td>\n",
       "      <td>0</td>\n",
       "      <td>0</td>\n",
       "    </tr>\n",
       "    <tr>\n",
       "      <th>3</th>\n",
       "      <td>3600</td>\n",
       "      <td>0</td>\n",
       "      <td>2008</td>\n",
       "      <td>0</td>\n",
       "      <td>69</td>\n",
       "      <td>1</td>\n",
       "      <td>90000</td>\n",
       "      <td>1</td>\n",
       "      <td>1</td>\n",
       "      <td>0</td>\n",
       "    </tr>\n",
       "    <tr>\n",
       "      <th>4</th>\n",
       "      <td>650</td>\n",
       "      <td>1</td>\n",
       "      <td>1995</td>\n",
       "      <td>0</td>\n",
       "      <td>102</td>\n",
       "      <td>2</td>\n",
       "      <td>150000</td>\n",
       "      <td>0</td>\n",
       "      <td>2</td>\n",
       "      <td>1</td>\n",
       "    </tr>\n",
       "    <tr>\n",
       "      <th>5</th>\n",
       "      <td>2200</td>\n",
       "      <td>2</td>\n",
       "      <td>2004</td>\n",
       "      <td>0</td>\n",
       "      <td>109</td>\n",
       "      <td>3</td>\n",
       "      <td>150000</td>\n",
       "      <td>0</td>\n",
       "      <td>3</td>\n",
       "      <td>0</td>\n",
       "    </tr>\n",
       "    <tr>\n",
       "      <th>6</th>\n",
       "      <td>0</td>\n",
       "      <td>1</td>\n",
       "      <td>1980</td>\n",
       "      <td>0</td>\n",
       "      <td>50</td>\n",
       "      <td>4</td>\n",
       "      <td>40000</td>\n",
       "      <td>0</td>\n",
       "      <td>0</td>\n",
       "      <td>0</td>\n",
       "    </tr>\n",
       "  </tbody>\n",
       "</table>\n",
       "</div>\n",
       "      <button class=\"colab-df-convert\" onclick=\"convertToInteractive('df-3dd5879d-9db1-443b-8eb5-9bbb2b37c5f2')\"\n",
       "              title=\"Convert this dataframe to an interactive table.\"\n",
       "              style=\"display:none;\">\n",
       "        \n",
       "  <svg xmlns=\"http://www.w3.org/2000/svg\" height=\"24px\"viewBox=\"0 0 24 24\"\n",
       "       width=\"24px\">\n",
       "    <path d=\"M0 0h24v24H0V0z\" fill=\"none\"/>\n",
       "    <path d=\"M18.56 5.44l.94 2.06.94-2.06 2.06-.94-2.06-.94-.94-2.06-.94 2.06-2.06.94zm-11 1L8.5 8.5l.94-2.06 2.06-.94-2.06-.94L8.5 2.5l-.94 2.06-2.06.94zm10 10l.94 2.06.94-2.06 2.06-.94-2.06-.94-.94-2.06-.94 2.06-2.06.94z\"/><path d=\"M17.41 7.96l-1.37-1.37c-.4-.4-.92-.59-1.43-.59-.52 0-1.04.2-1.43.59L10.3 9.45l-7.72 7.72c-.78.78-.78 2.05 0 2.83L4 21.41c.39.39.9.59 1.41.59.51 0 1.02-.2 1.41-.59l7.78-7.78 2.81-2.81c.8-.78.8-2.07 0-2.86zM5.41 20L4 18.59l7.72-7.72 1.47 1.35L5.41 20z\"/>\n",
       "  </svg>\n",
       "      </button>\n",
       "      \n",
       "  <style>\n",
       "    .colab-df-container {\n",
       "      display:flex;\n",
       "      flex-wrap:wrap;\n",
       "      gap: 12px;\n",
       "    }\n",
       "\n",
       "    .colab-df-convert {\n",
       "      background-color: #E8F0FE;\n",
       "      border: none;\n",
       "      border-radius: 50%;\n",
       "      cursor: pointer;\n",
       "      display: none;\n",
       "      fill: #1967D2;\n",
       "      height: 32px;\n",
       "      padding: 0 0 0 0;\n",
       "      width: 32px;\n",
       "    }\n",
       "\n",
       "    .colab-df-convert:hover {\n",
       "      background-color: #E2EBFA;\n",
       "      box-shadow: 0px 1px 2px rgba(60, 64, 67, 0.3), 0px 1px 3px 1px rgba(60, 64, 67, 0.15);\n",
       "      fill: #174EA6;\n",
       "    }\n",
       "\n",
       "    [theme=dark] .colab-df-convert {\n",
       "      background-color: #3B4455;\n",
       "      fill: #D2E3FC;\n",
       "    }\n",
       "\n",
       "    [theme=dark] .colab-df-convert:hover {\n",
       "      background-color: #434B5C;\n",
       "      box-shadow: 0px 1px 3px 1px rgba(0, 0, 0, 0.15);\n",
       "      filter: drop-shadow(0px 1px 2px rgba(0, 0, 0, 0.3));\n",
       "      fill: #FFFFFF;\n",
       "    }\n",
       "  </style>\n",
       "\n",
       "      <script>\n",
       "        const buttonEl =\n",
       "          document.querySelector('#df-3dd5879d-9db1-443b-8eb5-9bbb2b37c5f2 button.colab-df-convert');\n",
       "        buttonEl.style.display =\n",
       "          google.colab.kernel.accessAllowed ? 'block' : 'none';\n",
       "\n",
       "        async function convertToInteractive(key) {\n",
       "          const element = document.querySelector('#df-3dd5879d-9db1-443b-8eb5-9bbb2b37c5f2');\n",
       "          const dataTable =\n",
       "            await google.colab.kernel.invokeFunction('convertToInteractive',\n",
       "                                                     [key], {});\n",
       "          if (!dataTable) return;\n",
       "\n",
       "          const docLinkHtml = 'Like what you see? Visit the ' +\n",
       "            '<a target=\"_blank\" href=https://colab.research.google.com/notebooks/data_table.ipynb>data table notebook</a>'\n",
       "            + ' to learn more about interactive tables.';\n",
       "          element.innerHTML = '';\n",
       "          dataTable['output_type'] = 'display_data';\n",
       "          await google.colab.output.renderOutput(dataTable, element);\n",
       "          const docLink = document.createElement('div');\n",
       "          docLink.innerHTML = docLinkHtml;\n",
       "          element.appendChild(docLink);\n",
       "        }\n",
       "      </script>\n",
       "    </div>\n",
       "  </div>\n",
       "  "
      ]
     },
     "metadata": {},
     "execution_count": 13
    }
   ]
  },
  {
   "cell_type": "markdown",
   "metadata": {
    "id": "xdHLh1QsZiVo"
   },
   "source": [
    "Как мы можем видеть, в результате удаления части значений из базы данных, произошло нарушение следования индексов. В рамках нашей задачи данный аспект некритичен, но все же произведемсброс индексации."
   ]
  },
  {
   "cell_type": "code",
   "metadata": {
    "colab": {
     "base_uri": "https://localhost:8080/",
     "height": 206
    },
    "id": "v6umr3jiMf-8",
    "outputId": "b5deb386-a2f2-4b37-8f3e-2c69e548cd3a"
   },
   "source": [
    "df = df.reset_index(drop=True)\n",
    "df.head()"
   ],
   "execution_count": 14,
   "outputs": [
    {
     "output_type": "execute_result",
     "data": {
      "text/plain": [
       "   price  vehicleType  yearOfRegistration  gearbox  powerPS  model  kilometer  \\\n",
       "0   1500            0                2001        0       75      0     150000   \n",
       "1   3600            0                2008        0       69      1      90000   \n",
       "2    650            1                1995        0      102      2     150000   \n",
       "3   2200            2                2004        0      109      3     150000   \n",
       "4      0            1                1980        0       50      4      40000   \n",
       "\n",
       "   fuelType  brand  notRepairedDamage  \n",
       "0         0      0                  0  \n",
       "1         1      1                  0  \n",
       "2         0      2                  1  \n",
       "3         0      3                  0  \n",
       "4         0      0                  0  "
      ],
      "text/html": [
       "\n",
       "  <div id=\"df-b34b21b2-df14-40c7-a9cf-ca40c58f6dde\">\n",
       "    <div class=\"colab-df-container\">\n",
       "      <div>\n",
       "<style scoped>\n",
       "    .dataframe tbody tr th:only-of-type {\n",
       "        vertical-align: middle;\n",
       "    }\n",
       "\n",
       "    .dataframe tbody tr th {\n",
       "        vertical-align: top;\n",
       "    }\n",
       "\n",
       "    .dataframe thead th {\n",
       "        text-align: right;\n",
       "    }\n",
       "</style>\n",
       "<table border=\"1\" class=\"dataframe\">\n",
       "  <thead>\n",
       "    <tr style=\"text-align: right;\">\n",
       "      <th></th>\n",
       "      <th>price</th>\n",
       "      <th>vehicleType</th>\n",
       "      <th>yearOfRegistration</th>\n",
       "      <th>gearbox</th>\n",
       "      <th>powerPS</th>\n",
       "      <th>model</th>\n",
       "      <th>kilometer</th>\n",
       "      <th>fuelType</th>\n",
       "      <th>brand</th>\n",
       "      <th>notRepairedDamage</th>\n",
       "    </tr>\n",
       "  </thead>\n",
       "  <tbody>\n",
       "    <tr>\n",
       "      <th>0</th>\n",
       "      <td>1500</td>\n",
       "      <td>0</td>\n",
       "      <td>2001</td>\n",
       "      <td>0</td>\n",
       "      <td>75</td>\n",
       "      <td>0</td>\n",
       "      <td>150000</td>\n",
       "      <td>0</td>\n",
       "      <td>0</td>\n",
       "      <td>0</td>\n",
       "    </tr>\n",
       "    <tr>\n",
       "      <th>1</th>\n",
       "      <td>3600</td>\n",
       "      <td>0</td>\n",
       "      <td>2008</td>\n",
       "      <td>0</td>\n",
       "      <td>69</td>\n",
       "      <td>1</td>\n",
       "      <td>90000</td>\n",
       "      <td>1</td>\n",
       "      <td>1</td>\n",
       "      <td>0</td>\n",
       "    </tr>\n",
       "    <tr>\n",
       "      <th>2</th>\n",
       "      <td>650</td>\n",
       "      <td>1</td>\n",
       "      <td>1995</td>\n",
       "      <td>0</td>\n",
       "      <td>102</td>\n",
       "      <td>2</td>\n",
       "      <td>150000</td>\n",
       "      <td>0</td>\n",
       "      <td>2</td>\n",
       "      <td>1</td>\n",
       "    </tr>\n",
       "    <tr>\n",
       "      <th>3</th>\n",
       "      <td>2200</td>\n",
       "      <td>2</td>\n",
       "      <td>2004</td>\n",
       "      <td>0</td>\n",
       "      <td>109</td>\n",
       "      <td>3</td>\n",
       "      <td>150000</td>\n",
       "      <td>0</td>\n",
       "      <td>3</td>\n",
       "      <td>0</td>\n",
       "    </tr>\n",
       "    <tr>\n",
       "      <th>4</th>\n",
       "      <td>0</td>\n",
       "      <td>1</td>\n",
       "      <td>1980</td>\n",
       "      <td>0</td>\n",
       "      <td>50</td>\n",
       "      <td>4</td>\n",
       "      <td>40000</td>\n",
       "      <td>0</td>\n",
       "      <td>0</td>\n",
       "      <td>0</td>\n",
       "    </tr>\n",
       "  </tbody>\n",
       "</table>\n",
       "</div>\n",
       "      <button class=\"colab-df-convert\" onclick=\"convertToInteractive('df-b34b21b2-df14-40c7-a9cf-ca40c58f6dde')\"\n",
       "              title=\"Convert this dataframe to an interactive table.\"\n",
       "              style=\"display:none;\">\n",
       "        \n",
       "  <svg xmlns=\"http://www.w3.org/2000/svg\" height=\"24px\"viewBox=\"0 0 24 24\"\n",
       "       width=\"24px\">\n",
       "    <path d=\"M0 0h24v24H0V0z\" fill=\"none\"/>\n",
       "    <path d=\"M18.56 5.44l.94 2.06.94-2.06 2.06-.94-2.06-.94-.94-2.06-.94 2.06-2.06.94zm-11 1L8.5 8.5l.94-2.06 2.06-.94-2.06-.94L8.5 2.5l-.94 2.06-2.06.94zm10 10l.94 2.06.94-2.06 2.06-.94-2.06-.94-.94-2.06-.94 2.06-2.06.94z\"/><path d=\"M17.41 7.96l-1.37-1.37c-.4-.4-.92-.59-1.43-.59-.52 0-1.04.2-1.43.59L10.3 9.45l-7.72 7.72c-.78.78-.78 2.05 0 2.83L4 21.41c.39.39.9.59 1.41.59.51 0 1.02-.2 1.41-.59l7.78-7.78 2.81-2.81c.8-.78.8-2.07 0-2.86zM5.41 20L4 18.59l7.72-7.72 1.47 1.35L5.41 20z\"/>\n",
       "  </svg>\n",
       "      </button>\n",
       "      \n",
       "  <style>\n",
       "    .colab-df-container {\n",
       "      display:flex;\n",
       "      flex-wrap:wrap;\n",
       "      gap: 12px;\n",
       "    }\n",
       "\n",
       "    .colab-df-convert {\n",
       "      background-color: #E8F0FE;\n",
       "      border: none;\n",
       "      border-radius: 50%;\n",
       "      cursor: pointer;\n",
       "      display: none;\n",
       "      fill: #1967D2;\n",
       "      height: 32px;\n",
       "      padding: 0 0 0 0;\n",
       "      width: 32px;\n",
       "    }\n",
       "\n",
       "    .colab-df-convert:hover {\n",
       "      background-color: #E2EBFA;\n",
       "      box-shadow: 0px 1px 2px rgba(60, 64, 67, 0.3), 0px 1px 3px 1px rgba(60, 64, 67, 0.15);\n",
       "      fill: #174EA6;\n",
       "    }\n",
       "\n",
       "    [theme=dark] .colab-df-convert {\n",
       "      background-color: #3B4455;\n",
       "      fill: #D2E3FC;\n",
       "    }\n",
       "\n",
       "    [theme=dark] .colab-df-convert:hover {\n",
       "      background-color: #434B5C;\n",
       "      box-shadow: 0px 1px 3px 1px rgba(0, 0, 0, 0.15);\n",
       "      filter: drop-shadow(0px 1px 2px rgba(0, 0, 0, 0.3));\n",
       "      fill: #FFFFFF;\n",
       "    }\n",
       "  </style>\n",
       "\n",
       "      <script>\n",
       "        const buttonEl =\n",
       "          document.querySelector('#df-b34b21b2-df14-40c7-a9cf-ca40c58f6dde button.colab-df-convert');\n",
       "        buttonEl.style.display =\n",
       "          google.colab.kernel.accessAllowed ? 'block' : 'none';\n",
       "\n",
       "        async function convertToInteractive(key) {\n",
       "          const element = document.querySelector('#df-b34b21b2-df14-40c7-a9cf-ca40c58f6dde');\n",
       "          const dataTable =\n",
       "            await google.colab.kernel.invokeFunction('convertToInteractive',\n",
       "                                                     [key], {});\n",
       "          if (!dataTable) return;\n",
       "\n",
       "          const docLinkHtml = 'Like what you see? Visit the ' +\n",
       "            '<a target=\"_blank\" href=https://colab.research.google.com/notebooks/data_table.ipynb>data table notebook</a>'\n",
       "            + ' to learn more about interactive tables.';\n",
       "          element.innerHTML = '';\n",
       "          dataTable['output_type'] = 'display_data';\n",
       "          await google.colab.output.renderOutput(dataTable, element);\n",
       "          const docLink = document.createElement('div');\n",
       "          docLink.innerHTML = docLinkHtml;\n",
       "          element.appendChild(docLink);\n",
       "        }\n",
       "      </script>\n",
       "    </div>\n",
       "  </div>\n",
       "  "
      ]
     },
     "metadata": {},
     "execution_count": 14
    }
   ]
  },
  {
   "cell_type": "markdown",
   "metadata": {
    "id": "-v8-c3oyaDsr"
   },
   "source": [
    "Проверим, как стали выглядеть исследуемые классы после факторизации."
   ]
  },
  {
   "cell_type": "code",
   "metadata": {
    "colab": {
     "base_uri": "https://localhost:8080/"
    },
    "id": "CBA6bblD1m-V",
    "outputId": "c5aa7e1d-9033-426a-c211-382946b82fd2"
   },
   "source": [
    "df['notRepairedDamage'].value_counts()"
   ],
   "execution_count": 15,
   "outputs": [
    {
     "output_type": "execute_result",
     "data": {
      "text/plain": [
       "0    225322\n",
       "1     25597\n",
       "Name: notRepairedDamage, dtype: int64"
      ]
     },
     "metadata": {},
     "execution_count": 15
    }
   ]
  },
  {
   "cell_type": "markdown",
   "metadata": {
    "id": "yGgJ9oJZaZxA"
   },
   "source": [
    "Разобьем весь наш набора данных на тренировочный и тестовый наборы данных."
   ]
  },
  {
   "cell_type": "markdown",
   "metadata": {
    "id": "cGgyfRXPavwc"
   },
   "source": [
    "\n",
    "*Вопрос на подумать:* Какое разбиение можно считать удачным при работе с подобным набором данных?"
   ]
  },
  {
   "cell_type": "code",
   "metadata": {
    "id": "jI7QfLLN4sOV"
   },
   "source": [
    "values = df['notRepairedDamage']\n",
    "points = df.drop(['notRepairedDamage'], axis=1)\n",
    "train_points, test_points, train_values, test_values = train_test_split(points, values, test_size = 0.2)"
   ],
   "execution_count": 16,
   "outputs": []
  },
  {
   "cell_type": "markdown",
   "metadata": {
    "id": "qqxkvc2nbcLd"
   },
   "source": [
    "Создадим достаточно простенькую модель из 10 решающих деревьев и оценим точность ее работы."
   ]
  },
  {
   "cell_type": "code",
   "metadata": {
    "colab": {
     "base_uri": "https://localhost:8080/"
    },
    "id": "KvWYb4l04dJz",
    "outputId": "b563b55f-26ee-426a-85b6-3173406a4d9a"
   },
   "source": [
    "rf_model = ensemble.RandomForestClassifier(n_estimators=10)\n",
    "rf_model.fit(train_points, train_values)\n",
    "test_predict_rf = rf_model.predict(test_points)\n",
    "print(accuracy_score(test_values, test_predict_rf))"
   ],
   "execution_count": 17,
   "outputs": [
    {
     "output_type": "stream",
     "name": "stdout",
     "text": [
      "0.9006456241032998\n"
     ]
    }
   ]
  },
  {
   "cell_type": "markdown",
   "metadata": {
    "id": "2FNHDt2wbzoG"
   },
   "source": [
    "С одной стороны, точность работы классификатора, близкая к 90% - хороший показатель. С другой стороны, не будем забывать о том, что распределение классов в нашем датасете неравномерное. Поэтому проведем сравнение с константным классификатором."
   ]
  },
  {
   "cell_type": "code",
   "metadata": {
    "colab": {
     "base_uri": "https://localhost:8080/"
    },
    "id": "o6FEBcZ5QPEK",
    "outputId": "2ab20ec6-8342-44f7-d69b-b9d67424190e"
   },
   "source": [
    "print(accuracy_score(test_values, np.zeros_like(test_values)))"
   ],
   "execution_count": 18,
   "outputs": [
    {
     "output_type": "stream",
     "name": "stdout",
     "text": [
      "0.8991112705244699\n"
     ]
    }
   ]
  },
  {
   "cell_type": "markdown",
   "metadata": {
    "id": "oN7tse9AcYZO"
   },
   "source": [
    "Классификатор, который абсолютно все объекты относит к одному и тому же классу, работает с сопоставимой точностью. В этом и состоит основная сложность работы с несбалансированными наборами данных. Попробуем увеличить количество деревьев в модели."
   ]
  },
  {
   "cell_type": "code",
   "metadata": {
    "colab": {
     "base_uri": "https://localhost:8080/"
    },
    "id": "ejIO6rw-7YX7",
    "outputId": "ce7465b9-74ed-49ad-e1d1-fed49c11126c"
   },
   "source": [
    "rf_model = ensemble.RandomForestClassifier(n_estimators=100)\n",
    "rf_model.fit(train_points, train_values)\n",
    "test_predict_rf = rf_model.predict(test_points)\n",
    "print(accuracy_score(test_values, test_predict_rf))"
   ],
   "execution_count": 19,
   "outputs": [
    {
     "output_type": "stream",
     "name": "stdout",
     "text": [
      "0.9047305914235613\n"
     ]
    }
   ]
  },
  {
   "cell_type": "markdown",
   "metadata": {
    "id": "9IZCLb3ndOte"
   },
   "source": [
    "Увеличение количества деревьев привело к улучшению результата, но от идеала он по-прежнему далек. В качестве альтернативы попробуем использовать аппарат искусственных нейронных сетей."
   ]
  },
  {
   "cell_type": "code",
   "metadata": {
    "colab": {
     "base_uri": "https://localhost:8080/"
    },
    "id": "5f5wsRgb7uUP",
    "outputId": "b93eba1f-0337-49f2-890a-a64dbe0bdcfa"
   },
   "source": [
    "model = models.Sequential()\n",
    "\n",
    "model.add(layers.Dense(9, activation = \"relu\"))\n",
    "\n",
    "model.add(layers.Dense(15, activation = \"relu\"))\n",
    "\n",
    "model.add(layers.Dense(1, activation = \"sigmoid\"))\n",
    "\n",
    "model.compile(\n",
    " optimizer = \"adam\",\n",
    " loss = \"binary_crossentropy\",\n",
    " metrics = [\"accuracy\"]\n",
    ")\n",
    "results = model.fit(\n",
    " train_points, train_values,\n",
    " epochs= 5,\n",
    " batch_size = 1000,\n",
    " validation_data = (test_points, test_values)\n",
    ")\n",
    "print(\"Test-Accuracy:\", np.max(results.history[\"accuracy\"]))"
   ],
   "execution_count": 20,
   "outputs": [
    {
     "output_type": "stream",
     "name": "stdout",
     "text": [
      "Epoch 1/5\n",
      "201/201 [==============================] - 3s 7ms/step - loss: 1199.6790 - accuracy: 0.8105 - val_loss: 34.6244 - val_accuracy: 0.8834\n",
      "Epoch 2/5\n",
      "201/201 [==============================] - 1s 5ms/step - loss: 43.7859 - accuracy: 0.8604 - val_loss: 28.6842 - val_accuracy: 0.8965\n",
      "Epoch 3/5\n",
      "201/201 [==============================] - 1s 3ms/step - loss: 51.2750 - accuracy: 0.8298 - val_loss: 29.5730 - val_accuracy: 0.8969\n",
      "Epoch 4/5\n",
      "201/201 [==============================] - 1s 4ms/step - loss: 68.5027 - accuracy: 0.8316 - val_loss: 27.8245 - val_accuracy: 0.5908\n",
      "Epoch 5/5\n",
      "201/201 [==============================] - 1s 3ms/step - loss: 45.8866 - accuracy: 0.8287 - val_loss: 49.3122 - val_accuracy: 0.8978\n",
      "Test-Accuracy: 0.8603830933570862\n"
     ]
    }
   ]
  },
  {
   "cell_type": "markdown",
   "metadata": {
    "id": "JN-tK0VAesVn"
   },
   "source": [
    "Данная модель демонстрирует крайнюю неустойчивость, так как при каждом запуске значение точности сильно разнится. Если мы уменьшим количество записей, обрабатываемых между корректировкой весов, то сможем получить более стабильный результат."
   ]
  },
  {
   "cell_type": "code",
   "metadata": {
    "colab": {
     "base_uri": "https://localhost:8080/"
    },
    "id": "3kb81uUzfGks",
    "outputId": "5640a113-7d9a-4add-ba5c-b636408eef45"
   },
   "source": [
    "model = models.Sequential()\n",
    "\n",
    "model.add(layers.Dense(9, activation = \"relu\"))\n",
    "\n",
    "model.add(layers.Dense(15, activation = \"relu\"))\n",
    "\n",
    "model.add(layers.Dense(1, activation = \"sigmoid\"))\n",
    "\n",
    "model.compile(\n",
    " optimizer = \"adam\",\n",
    " loss = \"binary_crossentropy\",\n",
    " metrics = [\"accuracy\"]\n",
    ")\n",
    "results = model.fit(\n",
    " train_points, train_values,\n",
    " epochs= 5,\n",
    " batch_size = 100,\n",
    " validation_data = (test_points, test_values)\n",
    ")\n",
    "print(\"Test-Accuracy:\", np.max(results.history[\"accuracy\"]))"
   ],
   "execution_count": 21,
   "outputs": [
    {
     "output_type": "stream",
     "name": "stdout",
     "text": [
      "Epoch 1/5\n",
      "2008/2008 [==============================] - 7s 3ms/step - loss: 78.6335 - accuracy: 0.8209 - val_loss: 15.3930 - val_accuracy: 0.8974\n",
      "Epoch 2/5\n",
      "2008/2008 [==============================] - 6s 3ms/step - loss: 22.8365 - accuracy: 0.8261 - val_loss: 80.9555 - val_accuracy: 0.8905\n",
      "Epoch 3/5\n",
      "2008/2008 [==============================] - 5s 3ms/step - loss: 24.9798 - accuracy: 0.8299 - val_loss: 21.7417 - val_accuracy: 0.8987\n",
      "Epoch 4/5\n",
      "2008/2008 [==============================] - 6s 3ms/step - loss: 61.8216 - accuracy: 0.8319 - val_loss: 2.6010 - val_accuracy: 0.8071\n",
      "Epoch 5/5\n",
      "2008/2008 [==============================] - 6s 3ms/step - loss: 27.2665 - accuracy: 0.8293 - val_loss: 21.4359 - val_accuracy: 0.4935\n",
      "Test-Accuracy: 0.8319077491760254\n"
     ]
    }
   ]
  },
  {
   "cell_type": "markdown",
   "metadata": {
    "id": "oaueJE4lfwJW"
   },
   "source": [
    "Для окончательного закрепления результата увеличим количество эпох обучения до 10, чтобы кривая обучения успевала сходиться."
   ]
  },
  {
   "cell_type": "code",
   "metadata": {
    "colab": {
     "base_uri": "https://localhost:8080/"
    },
    "id": "o2hhm2U3dh7a",
    "outputId": "4044db03-c752-4fe2-8e29-04c994e5e31b"
   },
   "source": [
    "model = models.Sequential()\n",
    "\n",
    "model.add(layers.Dense(9, activation = \"relu\"))\n",
    "\n",
    "model.add(layers.Dense(15, activation = \"relu\"))\n",
    "\n",
    "model.add(layers.Dense(1, activation = \"sigmoid\"))\n",
    "\n",
    "model.compile(\n",
    " optimizer = \"adam\",\n",
    " loss = \"binary_crossentropy\",\n",
    " metrics = [\"accuracy\"]\n",
    ")\n",
    "results = model.fit(\n",
    " train_points, train_values,\n",
    " epochs= 10,\n",
    " batch_size = 100,\n",
    " validation_data = (test_points, test_values)\n",
    ")\n",
    "print(\"Test-Accuracy:\", np.max(results.history[\"accuracy\"]))"
   ],
   "execution_count": 22,
   "outputs": [
    {
     "output_type": "stream",
     "name": "stdout",
     "text": [
      "Epoch 1/10\n",
      "2008/2008 [==============================] - 7s 3ms/step - loss: 293.0300 - accuracy: 0.8199 - val_loss: 11.5345 - val_accuracy: 0.8982\n",
      "Epoch 2/10\n",
      "2008/2008 [==============================] - 5s 2ms/step - loss: 139.2712 - accuracy: 0.8427 - val_loss: 9.9574 - val_accuracy: 0.8982\n",
      "Epoch 3/10\n",
      "2008/2008 [==============================] - 7s 3ms/step - loss: 57.7626 - accuracy: 0.8450 - val_loss: 6.3594 - val_accuracy: 0.8351\n",
      "Epoch 4/10\n",
      "2008/2008 [==============================] - 7s 3ms/step - loss: 103.9363 - accuracy: 0.8645 - val_loss: 0.9218 - val_accuracy: 0.8976\n",
      "Epoch 5/10\n",
      "2008/2008 [==============================] - 7s 3ms/step - loss: 92.0451 - accuracy: 0.8849 - val_loss: 2.1148 - val_accuracy: 0.8991\n",
      "Epoch 6/10\n",
      "2008/2008 [==============================] - 5s 3ms/step - loss: 114.1660 - accuracy: 0.8929 - val_loss: 1.8319 - val_accuracy: 0.8991\n",
      "Epoch 7/10\n",
      "2008/2008 [==============================] - 6s 3ms/step - loss: 58.1913 - accuracy: 0.8953 - val_loss: 1.7535 - val_accuracy: 0.8991\n",
      "Epoch 8/10\n",
      "2008/2008 [==============================] - 6s 3ms/step - loss: 63.1759 - accuracy: 0.8973 - val_loss: 1.4429 - val_accuracy: 0.8991\n",
      "Epoch 9/10\n",
      "2008/2008 [==============================] - 5s 2ms/step - loss: 34.0605 - accuracy: 0.8955 - val_loss: 88.9376 - val_accuracy: 0.8861\n",
      "Epoch 10/10\n",
      "2008/2008 [==============================] - 6s 3ms/step - loss: 98.3994 - accuracy: 0.8958 - val_loss: 19.8795 - val_accuracy: 0.8987\n",
      "Test-Accuracy: 0.8973023891448975\n"
     ]
    }
   ]
  },
  {
   "cell_type": "markdown",
   "metadata": {
    "id": "4-f-lTiQgZtp"
   },
   "source": [
    "Попробуем ввести дополнительный скрытый слой в сеть, чтобы упростить задачу классификации выходному слою нейронов."
   ]
  },
  {
   "cell_type": "code",
   "metadata": {
    "id": "4xqrTDg_dhyq",
    "colab": {
     "base_uri": "https://localhost:8080/"
    },
    "outputId": "07a4d6bc-ac1c-45d3-96c9-035a6eed94f3"
   },
   "source": [
    "model = models.Sequential()\n",
    "\n",
    "model.add(layers.Dense(10, activation = \"relu\"))\n",
    "\n",
    "model.add(layers.Dense(15, activation = \"relu\"))\n",
    "\n",
    "model.add(layers.Dense(8, activation = \"relu\"))\n",
    "\n",
    "model.add(layers.Dense(1, activation = \"sigmoid\"))\n",
    "\n",
    "model.compile(\n",
    " optimizer = \"adam\",\n",
    " loss = \"binary_crossentropy\",\n",
    " metrics = [\"accuracy\"]\n",
    ")\n",
    "results = model.fit(\n",
    " train_points, train_values,\n",
    " epochs= 10,\n",
    " batch_size = 100,\n",
    " validation_data = (test_points, test_values)\n",
    ")\n",
    "print(\"Test-Accuracy:\", np.max(results.history[\"accuracy\"]))"
   ],
   "execution_count": 23,
   "outputs": [
    {
     "output_type": "stream",
     "name": "stdout",
     "text": [
      "Epoch 1/10\n",
      "2008/2008 [==============================] - 7s 3ms/step - loss: 58.1373 - accuracy: 0.8384 - val_loss: 5.8423 - val_accuracy: 0.8991\n",
      "Epoch 2/10\n",
      "2008/2008 [==============================] - 6s 3ms/step - loss: 22.5302 - accuracy: 0.8298 - val_loss: 8.4191 - val_accuracy: 0.8952\n",
      "Epoch 3/10\n",
      "2008/2008 [==============================] - 5s 3ms/step - loss: 6.7645 - accuracy: 0.8275 - val_loss: 4.5269 - val_accuracy: 0.8987\n",
      "Epoch 4/10\n",
      "2008/2008 [==============================] - 6s 3ms/step - loss: 8.3319 - accuracy: 0.8290 - val_loss: 3.1005 - val_accuracy: 0.8961\n",
      "Epoch 5/10\n",
      "2008/2008 [==============================] - 6s 3ms/step - loss: 3.8712 - accuracy: 0.8285 - val_loss: 1.1052 - val_accuracy: 0.8971\n",
      "Epoch 6/10\n",
      "2008/2008 [==============================] - 7s 3ms/step - loss: 2.5726 - accuracy: 0.8324 - val_loss: 1.1846 - val_accuracy: 0.8979\n",
      "Epoch 7/10\n",
      "2008/2008 [==============================] - 5s 3ms/step - loss: 2.0931 - accuracy: 0.8349 - val_loss: 0.5491 - val_accuracy: 0.8899\n",
      "Epoch 8/10\n",
      "2008/2008 [==============================] - 7s 4ms/step - loss: 1.9452 - accuracy: 0.8366 - val_loss: 1.1913 - val_accuracy: 0.6485\n",
      "Epoch 9/10\n",
      "2008/2008 [==============================] - 5s 3ms/step - loss: 1.9334 - accuracy: 0.8359 - val_loss: 0.6955 - val_accuracy: 0.8969\n",
      "Epoch 10/10\n",
      "2008/2008 [==============================] - 6s 3ms/step - loss: 1.5873 - accuracy: 0.8369 - val_loss: 1.7944 - val_accuracy: 0.8988\n",
      "Test-Accuracy: 0.8384387493133545\n"
     ]
    }
   ]
  },
  {
   "cell_type": "markdown",
   "metadata": {
    "id": "R9w7Jxx2hIzB"
   },
   "source": [
    "Благодаря уменьшению количества нейронов на предпоследнем слое, нейронная сеть смогла с большей точностью определять ключевые компоненты и учитывать их при вынесении вердикта о принадлежности объекта тому или иному классу."
   ]
  },
  {
   "cell_type": "markdown",
   "metadata": {
    "id": "BGYCATE6hE94"
   },
   "source": [
    "Ради интереса, попробуем ввести дополнительную метрику при обучении и оценим, насколька она меняет результат к лучшему."
   ]
  },
  {
   "cell_type": "code",
   "metadata": {
    "id": "5MhLGgTndheJ"
   },
   "source": [
    "from keras import backend\n",
    " \n",
    "def rmse(y_true, y_pred):\n",
    "\treturn backend.sqrt(backend.mean(backend.square(y_pred - y_true), axis=-1))"
   ],
   "execution_count": 24,
   "outputs": []
  },
  {
   "cell_type": "code",
   "metadata": {
    "id": "-lETpJSrdhW4",
    "colab": {
     "base_uri": "https://localhost:8080/"
    },
    "outputId": "335a8002-b1fd-465d-d08b-08ea49267ad4"
   },
   "source": [
    "model = models.Sequential()\n",
    "\n",
    "model.add(layers.Dense(10, activation = \"relu\"))\n",
    "\n",
    "model.add(layers.Dense(15, activation = \"relu\"))\n",
    "\n",
    "model.add(layers.Dense(8, activation = \"relu\"))\n",
    "\n",
    "model.add(layers.Dense(1, activation = \"sigmoid\"))\n",
    "\n",
    "model.compile(\n",
    " optimizer = \"adam\",\n",
    " loss = \"binary_crossentropy\",\n",
    " metrics = [\"accuracy\", rmse]\n",
    ")\n",
    "results = model.fit(\n",
    " train_points, train_values,\n",
    " epochs= 10,\n",
    " batch_size = 100,\n",
    " validation_data = (test_points, test_values)\n",
    ")\n",
    "print(\"Test-Accuracy:\", np.max(results.history[\"accuracy\"]))"
   ],
   "execution_count": 25,
   "outputs": [
    {
     "output_type": "stream",
     "name": "stdout",
     "text": [
      "Epoch 1/10\n",
      "2008/2008 [==============================] - 9s 4ms/step - loss: 41.9335 - accuracy: 0.8851 - rmse: 0.3136 - val_loss: 1.1752 - val_accuracy: 0.8979 - val_rmse: 0.2457\n",
      "Epoch 2/10\n",
      "2008/2008 [==============================] - 6s 3ms/step - loss: 15.5848 - accuracy: 0.8923 - rmse: 0.2150 - val_loss: 0.3275 - val_accuracy: 0.8991 - val_rmse: 0.1886\n",
      "Epoch 3/10\n",
      "2008/2008 [==============================] - 7s 3ms/step - loss: 0.3302 - accuracy: 0.8977 - rmse: 0.1854 - val_loss: 0.3271 - val_accuracy: 0.8991 - val_rmse: 0.1830\n",
      "Epoch 4/10\n",
      "2008/2008 [==============================] - 7s 3ms/step - loss: 0.3301 - accuracy: 0.8977 - rmse: 0.1838 - val_loss: 0.3270 - val_accuracy: 0.8991 - val_rmse: 0.1824\n",
      "Epoch 5/10\n",
      "2008/2008 [==============================] - 6s 3ms/step - loss: 0.3301 - accuracy: 0.8977 - rmse: 0.1838 - val_loss: 0.3270 - val_accuracy: 0.8991 - val_rmse: 0.1814\n",
      "Epoch 6/10\n",
      "2008/2008 [==============================] - 6s 3ms/step - loss: 0.3301 - accuracy: 0.8977 - rmse: 0.1834 - val_loss: 0.3270 - val_accuracy: 0.8991 - val_rmse: 0.1828\n",
      "Epoch 7/10\n",
      "2008/2008 [==============================] - 6s 3ms/step - loss: 0.3301 - accuracy: 0.8977 - rmse: 0.1839 - val_loss: 0.3270 - val_accuracy: 0.8991 - val_rmse: 0.1816\n",
      "Epoch 8/10\n",
      "2008/2008 [==============================] - 6s 3ms/step - loss: 0.3301 - accuracy: 0.8977 - rmse: 0.1837 - val_loss: 0.3270 - val_accuracy: 0.8991 - val_rmse: 0.1812\n",
      "Epoch 9/10\n",
      "2008/2008 [==============================] - 6s 3ms/step - loss: 0.3301 - accuracy: 0.8977 - rmse: 0.1833 - val_loss: 0.3271 - val_accuracy: 0.8991 - val_rmse: 0.1834\n",
      "Epoch 10/10\n",
      "2008/2008 [==============================] - 7s 3ms/step - loss: 0.3301 - accuracy: 0.8977 - rmse: 0.1838 - val_loss: 0.3270 - val_accuracy: 0.8991 - val_rmse: 0.1825\n",
      "Test-Accuracy: 0.8977059125900269\n"
     ]
    }
   ]
  },
  {
   "cell_type": "markdown",
   "metadata": {
    "id": "c4053Qb1iQN0"
   },
   "source": [
    "Введение дополнительных метрик в процесс обучения может положительно сказаться на результате, но необходимо четко понимать назначение той или иной метрики. Для бинарного классификатора наиболее подходящей будет f-мера."
   ]
  },
  {
   "cell_type": "markdown",
   "metadata": {
    "id": "MjRgUTG5irC0"
   },
   "source": [
    "Кроме работы непосредственно с моделями и их составляющими, можно попробовать преобразовать данные для их лучшей интерпретируемости системой. В данном случае, поле года выпуска автомобиля имеет плохую форму распределения."
   ]
  },
  {
   "cell_type": "code",
   "metadata": {
    "id": "qzgg6ygKdhQW",
    "colab": {
     "base_uri": "https://localhost:8080/",
     "height": 447
    },
    "outputId": "794246ea-2447-498b-dfc5-d072474a47e1"
   },
   "source": [
    "df['yearOfRegistration'].hist()"
   ],
   "execution_count": 26,
   "outputs": [
    {
     "output_type": "execute_result",
     "data": {
      "text/plain": [
       "<Axes: >"
      ]
     },
     "metadata": {},
     "execution_count": 26
    },
    {
     "output_type": "display_data",
     "data": {
      "text/plain": [
       "<Figure size 640x480 with 1 Axes>"
      ],
      "image/png": "[encoded data removed]"
     },
     "metadata": {}
    }
   ]
  },
  {
   "cell_type": "markdown",
   "metadata": {
    "id": "5d27dScijYee"
   },
   "source": [
    "Введем вместо него поле с возрастом."
   ]
  },
  {
   "cell_type": "code",
   "metadata": {
    "id": "9plQxUKWdhJM",
    "colab": {
     "base_uri": "https://localhost:8080/",
     "height": 206
    },
    "outputId": "76dc5518-7b95-4ed5-e047-8964509d2337"
   },
   "source": [
    "df['age'] = 2020 - df['yearOfRegistration']\n",
    "del df['yearOfRegistration']\n",
    "df.head()"
   ],
   "execution_count": 27,
   "outputs": [
    {
     "output_type": "execute_result",
     "data": {
      "text/plain": [
       "   price  vehicleType  gearbox  powerPS  model  kilometer  fuelType  brand  \\\n",
       "0   1500            0        0       75      0     150000         0      0   \n",
       "1   3600            0        0       69      1      90000         1      1   \n",
       "2    650            1        0      102      2     150000         0      2   \n",
       "3   2200            2        0      109      3     150000         0      3   \n",
       "4      0            1        0       50      4      40000         0      0   \n",
       "\n",
       "   notRepairedDamage  age  \n",
       "0                  0   19  \n",
       "1                  0   12  \n",
       "2                  1   25  \n",
       "3                  0   16  \n",
       "4                  0   40  "
      ],
      "text/html": [
       "\n",
       "  <div id=\"df-71c3c706-82c7-4f19-8f6e-147f6f384e3f\">\n",
       "    <div class=\"colab-df-container\">\n",
       "      <div>\n",
       "<style scoped>\n",
       "    .dataframe tbody tr th:only-of-type {\n",
       "        vertical-align: middle;\n",
       "    }\n",
       "\n",
       "    .dataframe tbody tr th {\n",
       "        vertical-align: top;\n",
       "    }\n",
       "\n",
       "    .dataframe thead th {\n",
       "        text-align: right;\n",
       "    }\n",
       "</style>\n",
       "<table border=\"1\" class=\"dataframe\">\n",
       "  <thead>\n",
       "    <tr style=\"text-align: right;\">\n",
       "      <th></th>\n",
       "      <th>price</th>\n",
       "      <th>vehicleType</th>\n",
       "      <th>gearbox</th>\n",
       "      <th>powerPS</th>\n",
       "      <th>model</th>\n",
       "      <th>kilometer</th>\n",
       "      <th>fuelType</th>\n",
       "      <th>brand</th>\n",
       "      <th>notRepairedDamage</th>\n",
       "      <th>age</th>\n",
       "    </tr>\n",
       "  </thead>\n",
       "  <tbody>\n",
       "    <tr>\n",
       "      <th>0</th>\n",
       "      <td>1500</td>\n",
       "      <td>0</td>\n",
       "      <td>0</td>\n",
       "      <td>75</td>\n",
       "      <td>0</td>\n",
       "      <td>150000</td>\n",
       "      <td>0</td>\n",
       "      <td>0</td>\n",
       "      <td>0</td>\n",
       "      <td>19</td>\n",
       "    </tr>\n",
       "    <tr>\n",
       "      <th>1</th>\n",
       "      <td>3600</td>\n",
       "      <td>0</td>\n",
       "      <td>0</td>\n",
       "      <td>69</td>\n",
       "      <td>1</td>\n",
       "      <td>90000</td>\n",
       "      <td>1</td>\n",
       "      <td>1</td>\n",
       "      <td>0</td>\n",
       "      <td>12</td>\n",
       "    </tr>\n",
       "    <tr>\n",
       "      <th>2</th>\n",
       "      <td>650</td>\n",
       "      <td>1</td>\n",
       "      <td>0</td>\n",
       "      <td>102</td>\n",
       "      <td>2</td>\n",
       "      <td>150000</td>\n",
       "      <td>0</td>\n",
       "      <td>2</td>\n",
       "      <td>1</td>\n",
       "      <td>25</td>\n",
       "    </tr>\n",
       "    <tr>\n",
       "      <th>3</th>\n",
       "      <td>2200</td>\n",
       "      <td>2</td>\n",
       "      <td>0</td>\n",
       "      <td>109</td>\n",
       "      <td>3</td>\n",
       "      <td>150000</td>\n",
       "      <td>0</td>\n",
       "      <td>3</td>\n",
       "      <td>0</td>\n",
       "      <td>16</td>\n",
       "    </tr>\n",
       "    <tr>\n",
       "      <th>4</th>\n",
       "      <td>0</td>\n",
       "      <td>1</td>\n",
       "      <td>0</td>\n",
       "      <td>50</td>\n",
       "      <td>4</td>\n",
       "      <td>40000</td>\n",
       "      <td>0</td>\n",
       "      <td>0</td>\n",
       "      <td>0</td>\n",
       "      <td>40</td>\n",
       "    </tr>\n",
       "  </tbody>\n",
       "</table>\n",
       "</div>\n",
       "      <button class=\"colab-df-convert\" onclick=\"convertToInteractive('df-71c3c706-82c7-4f19-8f6e-147f6f384e3f')\"\n",
       "              title=\"Convert this dataframe to an interactive table.\"\n",
       "              style=\"display:none;\">\n",
       "        \n",
       "  <svg xmlns=\"http://www.w3.org/2000/svg\" height=\"24px\"viewBox=\"0 0 24 24\"\n",
       "       width=\"24px\">\n",
       "    <path d=\"M0 0h24v24H0V0z\" fill=\"none\"/>\n",
       "    <path d=\"M18.56 5.44l.94 2.06.94-2.06 2.06-.94-2.06-.94-.94-2.06-.94 2.06-2.06.94zm-11 1L8.5 8.5l.94-2.06 2.06-.94-2.06-.94L8.5 2.5l-.94 2.06-2.06.94zm10 10l.94 2.06.94-2.06 2.06-.94-2.06-.94-.94-2.06-.94 2.06-2.06.94z\"/><path d=\"M17.41 7.96l-1.37-1.37c-.4-.4-.92-.59-1.43-.59-.52 0-1.04.2-1.43.59L10.3 9.45l-7.72 7.72c-.78.78-.78 2.05 0 2.83L4 21.41c.39.39.9.59 1.41.59.51 0 1.02-.2 1.41-.59l7.78-7.78 2.81-2.81c.8-.78.8-2.07 0-2.86zM5.41 20L4 18.59l7.72-7.72 1.47 1.35L5.41 20z\"/>\n",
       "  </svg>\n",
       "      </button>\n",
       "      \n",
       "  <style>\n",
       "    .colab-df-container {\n",
       "      display:flex;\n",
       "      flex-wrap:wrap;\n",
       "      gap: 12px;\n",
       "    }\n",
       "\n",
       "    .colab-df-convert {\n",
       "      background-color: #E8F0FE;\n",
       "      border: none;\n",
       "      border-radius: 50%;\n",
       "      cursor: pointer;\n",
       "      display: none;\n",
       "      fill: #1967D2;\n",
       "      height: 32px;\n",
       "      padding: 0 0 0 0;\n",
       "      width: 32px;\n",
       "    }\n",
       "\n",
       "    .colab-df-convert:hover {\n",
       "      background-color: #E2EBFA;\n",
       "      box-shadow: 0px 1px 2px rgba(60, 64, 67, 0.3), 0px 1px 3px 1px rgba(60, 64, 67, 0.15);\n",
       "      fill: #174EA6;\n",
       "    }\n",
       "\n",
       "    [theme=dark] .colab-df-convert {\n",
       "      background-color: #3B4455;\n",
       "      fill: #D2E3FC;\n",
       "    }\n",
       "\n",
       "    [theme=dark] .colab-df-convert:hover {\n",
       "      background-color: #434B5C;\n",
       "      box-shadow: 0px 1px 3px 1px rgba(0, 0, 0, 0.15);\n",
       "      filter: drop-shadow(0px 1px 2px rgba(0, 0, 0, 0.3));\n",
       "      fill: #FFFFFF;\n",
       "    }\n",
       "  </style>\n",
       "\n",
       "      <script>\n",
       "        const buttonEl =\n",
       "          document.querySelector('#df-71c3c706-82c7-4f19-8f6e-147f6f384e3f button.colab-df-convert');\n",
       "        buttonEl.style.display =\n",
       "          google.colab.kernel.accessAllowed ? 'block' : 'none';\n",
       "\n",
       "        async function convertToInteractive(key) {\n",
       "          const element = document.querySelector('#df-71c3c706-82c7-4f19-8f6e-147f6f384e3f');\n",
       "          const dataTable =\n",
       "            await google.colab.kernel.invokeFunction('convertToInteractive',\n",
       "                                                     [key], {});\n",
       "          if (!dataTable) return;\n",
       "\n",
       "          const docLinkHtml = 'Like what you see? Visit the ' +\n",
       "            '<a target=\"_blank\" href=https://colab.research.google.com/notebooks/data_table.ipynb>data table notebook</a>'\n",
       "            + ' to learn more about interactive tables.';\n",
       "          element.innerHTML = '';\n",
       "          dataTable['output_type'] = 'display_data';\n",
       "          await google.colab.output.renderOutput(dataTable, element);\n",
       "          const docLink = document.createElement('div');\n",
       "          docLink.innerHTML = docLinkHtml;\n",
       "          element.appendChild(docLink);\n",
       "        }\n",
       "      </script>\n",
       "    </div>\n",
       "  </div>\n",
       "  "
      ]
     },
     "metadata": {},
     "execution_count": 27
    }
   ]
  },
  {
   "cell_type": "code",
   "metadata": {
    "id": "cvNWddQTdhCW"
   },
   "source": [
    "values = df['notRepairedDamage']\n",
    "points = df.drop(['notRepairedDamage'], axis=1)\n",
    "train_points, test_points, train_values, test_values = train_test_split(points, values, test_size = 0.2)"
   ],
   "execution_count": 28,
   "outputs": []
  },
  {
   "cell_type": "code",
   "metadata": {
    "id": "UeObLAhddg7b",
    "colab": {
     "base_uri": "https://localhost:8080/"
    },
    "outputId": "577823ae-5bce-4a75-d8c9-915997ea2558"
   },
   "source": [
    "rf_model = ensemble.RandomForestClassifier(n_estimators=100)\n",
    "rf_model.fit(train_points, train_values)\n",
    "test_predict_rf = rf_model.predict(test_points)\n",
    "print(accuracy_score(test_values, test_predict_rf))"
   ],
   "execution_count": 29,
   "outputs": [
    {
     "output_type": "stream",
     "name": "stdout",
     "text": [
      "0.9055675115574685\n"
     ]
    }
   ]
  },
  {
   "cell_type": "code",
   "metadata": {
    "id": "WoAvXQMadg1C",
    "colab": {
     "base_uri": "https://localhost:8080/"
    },
    "outputId": "f9c265e4-b525-4f63-8742-8dbdd5a2a4d8"
   },
   "source": [
    "model = models.Sequential()\n",
    "\n",
    "model.add(layers.Dense(9, activation = \"relu\"))\n",
    "\n",
    "model.add(layers.Dense(15, activation = \"relu\"))\n",
    "\n",
    "model.add(layers.Dense(8, activation = \"relu\"))\n",
    "\n",
    "model.add(layers.Dense(1, activation = \"sigmoid\"))\n",
    "\n",
    "model.compile(\n",
    " optimizer = \"adam\",\n",
    " loss = \"binary_crossentropy\",\n",
    " metrics = [\"accuracy\"]\n",
    ")\n",
    "results = model.fit(\n",
    " train_points, train_values,\n",
    " epochs= 10,\n",
    " batch_size = 100,\n",
    " validation_data = (test_points, test_values)\n",
    ")\n",
    "print(\"Test-Accuracy:\", np.max(results.history[\"accuracy\"]))"
   ],
   "execution_count": 30,
   "outputs": [
    {
     "output_type": "stream",
     "name": "stdout",
     "text": [
      "Epoch 1/10\n",
      "2008/2008 [==============================] - 7s 3ms/step - loss: 38.8207 - accuracy: 0.8319 - val_loss: 2.0345 - val_accuracy: 0.8977\n",
      "Epoch 2/10\n",
      "2008/2008 [==============================] - 7s 3ms/step - loss: 28.6734 - accuracy: 0.8223 - val_loss: 4.2469 - val_accuracy: 0.8975\n",
      "Epoch 3/10\n",
      "2008/2008 [==============================] - 7s 3ms/step - loss: 4.2433 - accuracy: 0.8770 - val_loss: 0.6054 - val_accuracy: 0.8977\n",
      "Epoch 4/10\n",
      "2008/2008 [==============================] - 7s 3ms/step - loss: 9.6802 - accuracy: 0.8971 - val_loss: 0.3853 - val_accuracy: 0.8977\n",
      "Epoch 5/10\n",
      "2008/2008 [==============================] - 5s 3ms/step - loss: 8.0021 - accuracy: 0.8979 - val_loss: 0.3302 - val_accuracy: 0.8977\n",
      "Epoch 6/10\n",
      "2008/2008 [==============================] - 6s 3ms/step - loss: 0.3293 - accuracy: 0.8981 - val_loss: 0.3302 - val_accuracy: 0.8977\n",
      "Epoch 7/10\n",
      "2008/2008 [==============================] - 6s 3ms/step - loss: 0.3293 - accuracy: 0.8981 - val_loss: 0.3302 - val_accuracy: 0.8977\n",
      "Epoch 8/10\n",
      "2008/2008 [==============================] - 6s 3ms/step - loss: 0.3293 - accuracy: 0.8981 - val_loss: 0.3302 - val_accuracy: 0.8977\n",
      "Epoch 9/10\n",
      "2008/2008 [==============================] - 7s 3ms/step - loss: 0.3293 - accuracy: 0.8981 - val_loss: 0.3302 - val_accuracy: 0.8977\n",
      "Epoch 10/10\n",
      "2008/2008 [==============================] - 5s 3ms/step - loss: 0.3293 - accuracy: 0.8981 - val_loss: 0.3302 - val_accuracy: 0.8977\n",
      "Test-Accuracy: 0.8980646133422852\n"
     ]
    }
   ]
  },
  {
   "cell_type": "markdown",
   "metadata": {
    "id": "cxnUB-WVlwi4"
   },
   "source": [
    "Для обеих моделей мы получили увеличение точности. Попробуем пойти еще немного дальше, объединив два поля в одно. Такой подход называют уменьшением размерности, так как он позволяет работать с входным вектором меньшего размера."
   ]
  },
  {
   "cell_type": "code",
   "metadata": {
    "id": "K0CDYsr27uRK"
   },
   "source": [
    "df['intence'] = df['kilometer']/df['age']\n",
    "del df['kilometer']\n",
    "del df['age']"
   ],
   "execution_count": 31,
   "outputs": []
  },
  {
   "cell_type": "code",
   "metadata": {
    "id": "hSqD64_b7uAB"
   },
   "source": [
    "values = df['notRepairedDamage']\n",
    "points = df.drop(['notRepairedDamage'], axis=1)\n",
    "train_points, test_points, train_values, test_values = train_test_split(points, values, test_size = 0.2)"
   ],
   "execution_count": 32,
   "outputs": []
  },
  {
   "cell_type": "code",
   "metadata": {
    "id": "uNZe4mtKmF6s",
    "colab": {
     "base_uri": "https://localhost:8080/"
    },
    "outputId": "c0dfad10-b34f-4778-c4d5-0f83abe38f25"
   },
   "source": [
    "rf_model = ensemble.RandomForestClassifier(n_estimators=100)\n",
    "rf_model.fit(train_points, train_values)\n",
    "test_predict_rf = rf_model.predict(test_points)\n",
    "print(accuracy_score(test_values, test_predict_rf))"
   ],
   "execution_count": 33,
   "outputs": [
    {
     "output_type": "stream",
     "name": "stdout",
     "text": [
      "0.903913597959509\n"
     ]
    }
   ]
  },
  {
   "cell_type": "code",
   "metadata": {
    "id": "shdOPk4-mFyY",
    "colab": {
     "base_uri": "https://localhost:8080/"
    },
    "outputId": "bf69e975-395a-41c1-aebe-4ee942005e00"
   },
   "source": [
    "model = models.Sequential()\n",
    "\n",
    "model.add(layers.Dense(8, activation = \"relu\"))\n",
    "\n",
    "model.add(layers.Dense(15, activation = \"relu\"))\n",
    "\n",
    "model.add(layers.Dense(8, activation = \"relu\"))\n",
    "\n",
    "model.add(layers.Dense(1, activation = \"sigmoid\"))\n",
    "\n",
    "model.compile(\n",
    " optimizer = \"adam\",\n",
    " loss = \"binary_crossentropy\",\n",
    " metrics = [\"accuracy\"]\n",
    ")\n",
    "results = model.fit(\n",
    " train_points, train_values,\n",
    " epochs= 10,\n",
    " batch_size = 100,\n",
    " validation_data = (test_points, test_values)\n",
    ")\n",
    "print(\"Test-Accuracy:\", np.max(results.history[\"accuracy\"]))"
   ],
   "execution_count": 34,
   "outputs": [
    {
     "output_type": "stream",
     "name": "stdout",
     "text": [
      "Epoch 1/10\n",
      "2008/2008 [==============================] - 7s 3ms/step - loss: 1.7194 - accuracy: 0.8630 - val_loss: 3.5102 - val_accuracy: 0.8987\n",
      "Epoch 2/10\n",
      "2008/2008 [==============================] - 6s 3ms/step - loss: 0.6978 - accuracy: 0.8731 - val_loss: 18.5619 - val_accuracy: 0.8989\n",
      "Epoch 3/10\n",
      "2008/2008 [==============================] - 6s 3ms/step - loss: 0.6315 - accuracy: 0.8806 - val_loss: 2.1765 - val_accuracy: 0.8806\n",
      "Epoch 4/10\n",
      "2008/2008 [==============================] - 7s 4ms/step - loss: 0.5435 - accuracy: 0.8867 - val_loss: 5.9678 - val_accuracy: 0.8309\n",
      "Epoch 5/10\n",
      "2008/2008 [==============================] - 5s 3ms/step - loss: 0.5095 - accuracy: 0.8861 - val_loss: 20.1704 - val_accuracy: 0.8982\n",
      "Epoch 6/10\n",
      "2008/2008 [==============================] - 6s 3ms/step - loss: 0.3159 - accuracy: 0.8941 - val_loss: 0.4225 - val_accuracy: 0.8988\n",
      "Epoch 7/10\n",
      "2008/2008 [==============================] - 6s 3ms/step - loss: 0.2972 - accuracy: 0.8965 - val_loss: 0.3708 - val_accuracy: 0.8989\n",
      "Epoch 8/10\n",
      "2008/2008 [==============================] - 6s 3ms/step - loss: 0.2906 - accuracy: 0.8977 - val_loss: 0.4060 - val_accuracy: 0.8989\n",
      "Epoch 9/10\n",
      "2008/2008 [==============================] - 6s 3ms/step - loss: 0.2901 - accuracy: 0.8977 - val_loss: 0.3346 - val_accuracy: 0.8989\n",
      "Epoch 10/10\n",
      "2008/2008 [==============================] - 5s 3ms/step - loss: 0.2891 - accuracy: 0.8978 - val_loss: 0.2864 - val_accuracy: 0.8989\n",
      "Test-Accuracy: 0.8977507948875427\n"
     ]
    }
   ]
  },
  {
   "cell_type": "markdown",
   "metadata": {
    "id": "qn-4fZI-m3yS"
   },
   "source": [
    "Умменьшение размерности нашего входного вектора не привело к улучшению общей картины. Не всегда одни и те же шаги приводят к одному и тому же результату. Из-за специфики датасета действенность метода может очень сильно варьироваться."
   ]
  },
  {
   "cell_type": "markdown",
   "metadata": {
    "id": "YZQUmVgOnalf"
   },
   "source": [
    "## Построение бинарного классификатора (Практическая часть)"
   ]
  },
  {
   "cell_type": "markdown",
   "source": [
    "###Задание базового уровня\n",
    "\n",
    "Произвести очистку датасета от поврежденных значений и шума. На основе очищенного датасета построить бинарный классификатор для определения пола человека, пользующегося смартфоном.\n",
    "\n",
    "Данное задание основано на данном датасете с kaggle (https://www.kaggle.com/pwang001/user-package-information-of-mobile-operators)."
   ],
   "metadata": {
    "id": "m8cxOTI5OCap"
   }
  },
  {
   "cell_type": "markdown",
   "source": [
    "###Задание повышенного уровня\n",
    "\n",
    "Выполнить задание базового уровня. Точность полученного решения должна быть выше отметки **85%**.\n",
    "\n",
    "**Ограничения по реализации:**\n",
    "\n",
    "*Случайный лес*: не более 100 деревьев.\n",
    "\n",
    "*Нейронные сети*: не более трех скрытых слоев. \n",
    "\n",
    "**Даже при использовании собственных метрик в процессе обучения. Итоговая оценка должна производиться по метрике *Accuracy*.**"
   ],
   "metadata": {
    "id": "j_8MBCNuOyVR"
   }
  },
  {
   "cell_type": "markdown",
   "source": [
    "## Загрузка датасета в память\n",
    "\n",
    "На данный момент датасте разделен на 4 части. Возможны два сценария работы с ним:\n",
    "\n",
    "1. Объединить два фрагмента с меткой train в тренировочныйц набор, а фрагменты с меткой test - в тестовый.\n",
    "\n",
    "2. Объединить все четыре фрагмента в единый датасет, затем провести разделение на тренировочный и тестовый наборы с помощью функции train_test_split с **нефиксированным сидом рандома**."
   ],
   "metadata": {
    "id": "aCox3f-3PTW0"
   }
  },
  {
   "cell_type": "code",
   "metadata": {
    "id": "MpFkemVmmFq4"
   },
   "source": [
    "%%capture\n",
    "!wget https://www.dropbox.com/s/5b6o99k5ko6cr1r/train_1.csv\n",
    "!wget https://www.dropbox.com/s/br8m56fomdxs7lw/train_2.csv\n",
    "!wget https://www.dropbox.com/s/xmw5shslewwfi0n/test_1.csv\n",
    "!wget https://www.dropbox.com/s/uxxc48au1zclpu2/test_2.csv"
   ],
   "execution_count": 35,
   "outputs": []
  }
 ]
}
